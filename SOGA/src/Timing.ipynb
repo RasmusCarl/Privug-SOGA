{
 "cells": [
  {
   "cell_type": "code",
   "execution_count": 1,
   "id": "mounted-progress",
   "metadata": {},
   "outputs": [],
   "source": [
    "from producecfg import *\n",
    "from libSOGA import *\n",
    "\n",
    "from time import time\n",
    "\n",
    "num_rep = 10"
   ]
  },
  {
   "cell_type": "markdown",
   "id": "violent-campus",
   "metadata": {},
   "source": [
    "# Comparison with state-of-the-art"
   ]
  },
  {
   "cell_type": "markdown",
   "id": "faced-rebel",
   "metadata": {},
   "source": [
    "## Bernoulli"
   ]
  },
  {
   "cell_type": "markdown",
   "id": "single-ambassador",
   "metadata": {},
   "source": [
    "true value: 0.25"
   ]
  },
  {
   "cell_type": "code",
   "execution_count": 2,
   "id": "rapid-scratch",
   "metadata": {},
   "outputs": [
    {
     "name": "stdout",
     "output_type": "stream",
     "text": [
      "Time to produce cfg:  0.024992704391479492\n"
     ]
    }
   ],
   "source": [
    "start = time()\n",
    "cfg = produce_cfg('Bernoulli')\n",
    "end = time()\n",
    "\n",
    "print('Time to produce cfg: ', end-start)"
   ]
  },
  {
   "cell_type": "code",
   "execution_count": 3,
   "id": "intelligent-interstate",
   "metadata": {},
   "outputs": [
    {
     "data": {
      "text/plain": [
       "['theta', 'y']"
      ]
     },
     "execution_count": 3,
     "metadata": {},
     "output_type": "execute_result"
    }
   ],
   "source": [
    "cfg.ID_list"
   ]
  },
  {
   "cell_type": "code",
   "execution_count": 4,
   "id": "failing-editing",
   "metadata": {
    "scrolled": false
   },
   "outputs": [
    {
     "name": "stdout",
     "output_type": "stream",
     "text": [
      "Computation completed in  15.051467609405517\n",
      "N. components: 1774\n"
     ]
    },
    {
     "data": {
      "text/plain": [
       "array([0.25191365, 1.        ])"
      ]
     },
     "execution_count": 4,
     "metadata": {},
     "output_type": "execute_result"
    }
   ],
   "source": [
    "times = []\n",
    "\n",
    "for i in range(num_rep):\n",
    "    start = time()\n",
    "    output_dist = start_SOGA(cfg)\n",
    "    end = time()\n",
    "    times.append(end-start)\n",
    "    \n",
    "print('Computation completed in ', np.mean(times))\n",
    "print('N. components:', output_dist.gm.n_comp())\n",
    "\n",
    "output_dist.gm.mean()"
   ]
  },
  {
   "cell_type": "markdown",
   "id": "induced-blues",
   "metadata": {},
   "source": [
    "### Pruning"
   ]
  },
  {
   "cell_type": "code",
   "execution_count": 5,
   "id": "individual-opinion",
   "metadata": {},
   "outputs": [
    {
     "name": "stdout",
     "output_type": "stream",
     "text": [
      "Time to produce cfg:  0.012492895126342773\n"
     ]
    }
   ],
   "source": [
    "start = time()\n",
    "cfg = produce_cfg('BernoulliPrune')\n",
    "end = time()\n",
    "\n",
    "print('Time to produce cfg: ', end-start)"
   ]
  },
  {
   "cell_type": "code",
   "execution_count": 6,
   "id": "dangerous-disposal",
   "metadata": {},
   "outputs": [
    {
     "name": "stdout",
     "output_type": "stream",
     "text": [
      "Computation completed in  1.7378114223480225\n",
      "N. components: 27\n"
     ]
    },
    {
     "data": {
      "text/plain": [
       "array([0.25191323, 1.        ])"
      ]
     },
     "execution_count": 6,
     "metadata": {},
     "output_type": "execute_result"
    }
   ],
   "source": [
    "times = []\n",
    "\n",
    "for i in range(num_rep):\n",
    "    start = time()\n",
    "    output_dist = start_SOGA(cfg)\n",
    "    end = time()\n",
    "    times.append(end-start)\n",
    "    \n",
    "print('Computation completed in ', np.mean(times))\n",
    "print('N. components:', output_dist.gm.n_comp())\n",
    "\n",
    "output_dist.gm.mean()"
   ]
  },
  {
   "cell_type": "code",
   "execution_count": 7,
   "id": "statutory-insider",
   "metadata": {},
   "outputs": [
    {
     "data": {
      "text/plain": [
       "26.61"
      ]
     },
     "execution_count": 7,
     "metadata": {},
     "output_type": "execute_result"
    }
   ],
   "source": [
    "0.015*1774"
   ]
  },
  {
   "cell_type": "markdown",
   "id": "ahead-vinyl",
   "metadata": {},
   "source": [
    "## BayesPointMachine"
   ]
  },
  {
   "cell_type": "markdown",
   "id": "reported-patch",
   "metadata": {},
   "source": [
    "true value: 0.056"
   ]
  },
  {
   "cell_type": "code",
   "execution_count": 8,
   "id": "single-substance",
   "metadata": {},
   "outputs": [
    {
     "name": "stdout",
     "output_type": "stream",
     "text": [
      "Time to produce cfg:  0.03166985511779785\n"
     ]
    }
   ],
   "source": [
    "start = time()\n",
    "cfg = produce_cfg('BayesPointMachine')\n",
    "end = time()\n",
    "\n",
    "print('Time to produce cfg: ', end-start)"
   ]
  },
  {
   "cell_type": "code",
   "execution_count": 9,
   "id": "convenient-differential",
   "metadata": {
    "scrolled": true
   },
   "outputs": [
    {
     "data": {
      "text/plain": [
       "['w[0]',\n",
       " 'w[1]',\n",
       " 'w[2]',\n",
       " 'mean[0]',\n",
       " 'mean[1]',\n",
       " 'mean[2]',\n",
       " 'mean[3]',\n",
       " 'mean[4]',\n",
       " 'mean[5]']"
      ]
     },
     "execution_count": 9,
     "metadata": {},
     "output_type": "execute_result"
    }
   ],
   "source": [
    "cfg.ID_list"
   ]
  },
  {
   "cell_type": "code",
   "execution_count": 10,
   "id": "laden-lloyd",
   "metadata": {
    "scrolled": true
   },
   "outputs": [
    {
     "name": "stdout",
     "output_type": "stream",
     "text": [
      "Computation completed in  2.534773659706116\n",
      "N. components: 1\n"
     ]
    }
   ],
   "source": [
    "times = []\n",
    "\n",
    "for i in range(num_rep):\n",
    "    start = time()\n",
    "    output_dist = start_SOGA(cfg)\n",
    "    end = time()\n",
    "    times.append(end-start)\n",
    "    \n",
    "print('Computation completed in ', np.mean(times))\n",
    "print('N. components:', output_dist.gm.n_comp())\n",
    "\n",
    "mean = output_dist.gm.mean()"
   ]
  },
  {
   "cell_type": "code",
   "execution_count": 11,
   "id": "static-injection",
   "metadata": {},
   "outputs": [
    {
     "data": {
      "text/plain": [
       "0.01117729116231203"
      ]
     },
     "execution_count": 11,
     "metadata": {},
     "output_type": "execute_result"
    }
   ],
   "source": [
    "mean[0]"
   ]
  },
  {
   "cell_type": "markdown",
   "id": "simplified-binary",
   "metadata": {},
   "source": [
    "## Burglar"
   ]
  },
  {
   "cell_type": "markdown",
   "id": "adjusted-invasion",
   "metadata": {},
   "source": [
    "exact"
   ]
  },
  {
   "cell_type": "code",
   "execution_count": 12,
   "id": "light-reset",
   "metadata": {},
   "outputs": [
    {
     "name": "stdout",
     "output_type": "stream",
     "text": [
      "Time to produce cfg:  0.023955583572387695\n"
     ]
    }
   ],
   "source": [
    "start = time()\n",
    "cfg = produce_cfg('Burglar')\n",
    "end = time()\n",
    "\n",
    "print('Time to produce cfg: ', end-start)"
   ]
  },
  {
   "cell_type": "code",
   "execution_count": 13,
   "id": "compound-gibraltar",
   "metadata": {},
   "outputs": [
    {
     "name": "stdout",
     "output_type": "stream",
     "text": [
      "['earthquake', 'burglary', 'alarm', 'phoneWorking', 'maryWakes', 'called']\n",
      "#vars: 6\n"
     ]
    }
   ],
   "source": [
    "print(cfg.ID_list)\n",
    "print('#vars:', len(cfg.ID_list))"
   ]
  },
  {
   "cell_type": "code",
   "execution_count": 14,
   "id": "according-responsibility",
   "metadata": {},
   "outputs": [
    {
     "name": "stdout",
     "output_type": "stream",
     "text": [
      "Computation completed in  0.019631218910217286\n",
      "N. components: 4\n"
     ]
    },
    {
     "data": {
      "text/plain": [
       "0.0029934492413055433"
      ]
     },
     "execution_count": 14,
     "metadata": {},
     "output_type": "execute_result"
    }
   ],
   "source": [
    "times = []\n",
    "\n",
    "for i in range(num_rep):\n",
    "    start = time()\n",
    "    output_dist = start_SOGA(cfg)\n",
    "    end = time()\n",
    "    times.append(end-start)\n",
    "    \n",
    "print('Computation completed in ', np.mean(times))\n",
    "print('N. components:', output_dist.gm.n_comp())\n",
    "\n",
    "output_dist.gm.mean()[1]"
   ]
  },
  {
   "cell_type": "markdown",
   "id": "circular-allergy",
   "metadata": {},
   "source": [
    "## ClickGraph"
   ]
  },
  {
   "cell_type": "markdown",
   "id": "arabic-amber",
   "metadata": {},
   "source": [
    "true value: 0.614154"
   ]
  },
  {
   "cell_type": "code",
   "execution_count": 15,
   "id": "configured-minimum",
   "metadata": {},
   "outputs": [
    {
     "name": "stdout",
     "output_type": "stream",
     "text": [
      "Time to produce cfg:  0.02008223533630371\n"
     ]
    }
   ],
   "source": [
    "start = time()\n",
    "cfg = produce_cfg('ClickGraph')\n",
    "end = time()\n",
    "\n",
    "print('Time to produce cfg: ', end-start)"
   ]
  },
  {
   "cell_type": "code",
   "execution_count": 16,
   "id": "shaped-preservation",
   "metadata": {},
   "outputs": [
    {
     "name": "stdout",
     "output_type": "stream",
     "text": [
      "['simAll', 'sim', 'beta1', 'beta2', 'click0', 'click1']\n",
      "#vars: 6\n"
     ]
    }
   ],
   "source": [
    "print(cfg.ID_list)\n",
    "print('#vars:', len(cfg.ID_list))"
   ]
  },
  {
   "cell_type": "code",
   "execution_count": 17,
   "id": "temporal-sperm",
   "metadata": {},
   "outputs": [],
   "source": [
    "# goes timeout > 30 min\n",
    "\n",
    "#start = time()\n",
    "#output_dist = start_SOGA(cfg)\n",
    "#end = time()\n",
    "\n",
    "#print('Computation completed in ', end-start)\n",
    "\n",
    "#output_dist.gm.mean()"
   ]
  },
  {
   "cell_type": "markdown",
   "id": "selected-overhead",
   "metadata": {},
   "source": [
    "### Pruning"
   ]
  },
  {
   "cell_type": "code",
   "execution_count": 18,
   "id": "distributed-procedure",
   "metadata": {},
   "outputs": [
    {
     "name": "stdout",
     "output_type": "stream",
     "text": [
      "Time to produce cfg:  0.01664137840270996\n"
     ]
    }
   ],
   "source": [
    "start = time()\n",
    "cfg = produce_cfg('ClickGraphPrune')\n",
    "end = time()\n",
    "\n",
    "print('Time to produce cfg: ', end-start)"
   ]
  },
  {
   "cell_type": "code",
   "execution_count": 19,
   "id": "lesbian-simple",
   "metadata": {},
   "outputs": [
    {
     "data": {
      "text/plain": [
       "['simAll', 'sim', 'beta1', 'beta2', 'click0', 'click1']"
      ]
     },
     "execution_count": 19,
     "metadata": {},
     "output_type": "execute_result"
    }
   ],
   "source": [
    "cfg.ID_list"
   ]
  },
  {
   "cell_type": "code",
   "execution_count": 20,
   "id": "attractive-group",
   "metadata": {},
   "outputs": [
    {
     "name": "stdout",
     "output_type": "stream",
     "text": [
      "Computation completed in  221.97202715873718\n",
      "N. components: 35\n"
     ]
    },
    {
     "data": {
      "text/plain": [
       "0.6296009102280258"
      ]
     },
     "execution_count": 20,
     "metadata": {},
     "output_type": "execute_result"
    }
   ],
   "source": [
    "times = []\n",
    "\n",
    "for i in range(num_rep):\n",
    "    start = time()\n",
    "    output_dist = start_SOGA(cfg)\n",
    "    end = time()\n",
    "    times.append(end-start)\n",
    "    \n",
    "print('Computation completed in ', np.mean(times))\n",
    "print('N. components:', output_dist.gm.n_comp())\n",
    "\n",
    "output_dist.gm.mean()[0]"
   ]
  },
  {
   "cell_type": "code",
   "execution_count": 21,
   "id": "contrary-algebra",
   "metadata": {},
   "outputs": [
    {
     "data": {
      "text/plain": [
       "34.56"
      ]
     },
     "execution_count": 21,
     "metadata": {},
     "output_type": "execute_result"
    }
   ],
   "source": [
    "0.015*2304"
   ]
  },
  {
   "cell_type": "markdown",
   "id": "increased-sleeve",
   "metadata": {},
   "source": [
    "## ClinicalTrial2"
   ]
  },
  {
   "cell_type": "markdown",
   "id": "medieval-african",
   "metadata": {},
   "source": [
    "true value: 0.754902"
   ]
  },
  {
   "cell_type": "code",
   "execution_count": 22,
   "id": "bronze-intervention",
   "metadata": {},
   "outputs": [],
   "source": [
    "cfg = produce_cfg('ClinicalTrial2')"
   ]
  },
  {
   "cell_type": "code",
   "execution_count": 23,
   "id": "negative-cocktail",
   "metadata": {},
   "outputs": [
    {
     "name": "stdout",
     "output_type": "stream",
     "text": [
      "['isEff', 'probTreated', 'probContr', 'ycontr', 'ytreat']\n",
      "#vars: 5\n"
     ]
    }
   ],
   "source": [
    "print(cfg.ID_list)\n",
    "print('#vars:', len(cfg.ID_list))"
   ]
  },
  {
   "cell_type": "code",
   "execution_count": 24,
   "id": "tender-local",
   "metadata": {},
   "outputs": [],
   "source": [
    "# goes time out > 30 min\n",
    "\n",
    "#start = time()\n",
    "#output_dist = start_SOGA(cfg)\n",
    "#end = time()\n",
    "\n",
    "#print('Computation completed in ', end-start)\n",
    "\n",
    "#output_dist.gm.mean()"
   ]
  },
  {
   "cell_type": "markdown",
   "id": "southwest-sheriff",
   "metadata": {},
   "source": [
    "### Pruning"
   ]
  },
  {
   "cell_type": "code",
   "execution_count": 25,
   "id": "scheduled-soviet",
   "metadata": {},
   "outputs": [
    {
     "name": "stdout",
     "output_type": "stream",
     "text": [
      "Time to produce cfg:  0.014215946197509766\n"
     ]
    }
   ],
   "source": [
    "start = time()\n",
    "cfg = produce_cfg('ClinicalTrial2Prune')\n",
    "end = time()\n",
    "\n",
    "print('Time to produce cfg: ', end-start)"
   ]
  },
  {
   "cell_type": "code",
   "execution_count": 26,
   "id": "ordinary-america",
   "metadata": {},
   "outputs": [
    {
     "data": {
      "text/plain": [
       "['isEff', 'probTreated', 'probContr', 'ycontr', 'ytreat']"
      ]
     },
     "execution_count": 26,
     "metadata": {},
     "output_type": "execute_result"
    }
   ],
   "source": [
    "cfg.ID_list"
   ]
  },
  {
   "cell_type": "code",
   "execution_count": 27,
   "id": "dated-pointer",
   "metadata": {
    "scrolled": true
   },
   "outputs": [
    {
     "name": "stdout",
     "output_type": "stream",
     "text": [
      "Computation completed in  91.28812527656555\n",
      "N. components: 23\n"
     ]
    },
    {
     "data": {
      "text/plain": [
       "0.7530902888328648"
      ]
     },
     "execution_count": 27,
     "metadata": {},
     "output_type": "execute_result"
    }
   ],
   "source": [
    "times = []\n",
    "\n",
    "for i in range(num_rep):\n",
    "    start = time()\n",
    "    output_dist = start_SOGA(cfg)\n",
    "    end = time()\n",
    "    times.append(end-start)\n",
    "    \n",
    "print('Computation completed in ', np.mean(times))\n",
    "print('N. components:', output_dist.gm.n_comp())\n",
    "\n",
    "output_dist.gm.mean()[0]"
   ]
  },
  {
   "cell_type": "code",
   "execution_count": 28,
   "id": "dietary-cycling",
   "metadata": {},
   "outputs": [
    {
     "data": {
      "text/plain": [
       "22.619999999999997"
      ]
     },
     "execution_count": 28,
     "metadata": {},
     "output_type": "execute_result"
    }
   ],
   "source": [
    "0.015*1508"
   ]
  },
  {
   "cell_type": "markdown",
   "id": "satellite-reviewer",
   "metadata": {},
   "source": [
    "## CoinBias"
   ]
  },
  {
   "cell_type": "markdown",
   "id": "sorted-planet",
   "metadata": {},
   "source": [
    "true value: 0.417"
   ]
  },
  {
   "cell_type": "code",
   "execution_count": 29,
   "id": "romantic-details",
   "metadata": {
    "scrolled": true
   },
   "outputs": [
    {
     "name": "stdout",
     "output_type": "stream",
     "text": [
      "Time to produce cfg:  0.009124755859375\n"
     ]
    }
   ],
   "source": [
    "start = time()\n",
    "cfg = produce_cfg('CoinBias')\n",
    "end = time()\n",
    "\n",
    "print('Time to produce cfg: ', end-start)"
   ]
  },
  {
   "cell_type": "code",
   "execution_count": 30,
   "id": "invalid-bread",
   "metadata": {},
   "outputs": [
    {
     "name": "stdout",
     "output_type": "stream",
     "text": [
      "['bias', 'y']\n",
      "#vars: 2\n"
     ]
    }
   ],
   "source": [
    "print(cfg.ID_list)\n",
    "print('#vars:', len(cfg.ID_list))"
   ]
  },
  {
   "cell_type": "code",
   "execution_count": 31,
   "id": "weird-swift",
   "metadata": {},
   "outputs": [
    {
     "name": "stdout",
     "output_type": "stream",
     "text": [
      "Computation completed in  0.43610968589782717\n",
      "N. components: 64\n"
     ]
    },
    {
     "data": {
      "text/plain": [
       "array([0.41545796, 0.        ])"
      ]
     },
     "execution_count": 31,
     "metadata": {},
     "output_type": "execute_result"
    }
   ],
   "source": [
    "times = []\n",
    "\n",
    "for i in range(num_rep):\n",
    "    start = time()\n",
    "    output_dist = start_SOGA(cfg)\n",
    "    end = time()\n",
    "    times.append(end-start)\n",
    "    \n",
    "print('Computation completed in ', np.mean(times))\n",
    "print('N. components:', output_dist.gm.n_comp())\n",
    "\n",
    "output_dist.gm.mean()"
   ]
  },
  {
   "cell_type": "markdown",
   "id": "scientific-technology",
   "metadata": {},
   "source": [
    "## Digit"
   ]
  },
  {
   "cell_type": "markdown",
   "id": "continental-congo",
   "metadata": {},
   "source": [
    "true value ?"
   ]
  },
  {
   "cell_type": "code",
   "execution_count": 32,
   "id": "cathedral-deposit",
   "metadata": {
    "scrolled": true
   },
   "outputs": [
    {
     "name": "stdout",
     "output_type": "stream",
     "text": [
      "Time to produce cfg:  0.14521479606628418\n"
     ]
    }
   ],
   "source": [
    "start = time()\n",
    "cfg = produce_cfg('DigitRecognition')\n",
    "end = time()\n",
    "\n",
    "print('Time to produce cfg: ', end-start)"
   ]
  },
  {
   "cell_type": "code",
   "execution_count": 33,
   "id": "undefined-underwear",
   "metadata": {},
   "outputs": [
    {
     "name": "stdout",
     "output_type": "stream",
     "text": [
      "['y', 'dig']\n",
      "#vars: 2\n"
     ]
    }
   ],
   "source": [
    "print(cfg.ID_list)\n",
    "print('#vars:', len(cfg.ID_list))"
   ]
  },
  {
   "cell_type": "code",
   "execution_count": 34,
   "id": "gentle-consent",
   "metadata": {
    "scrolled": true
   },
   "outputs": [
    {
     "name": "stdout",
     "output_type": "stream",
     "text": [
      "Computation completed in  4.670059871673584\n"
     ]
    },
    {
     "data": {
      "text/plain": [
       "4.4539341842632565"
      ]
     },
     "execution_count": 34,
     "metadata": {},
     "output_type": "execute_result"
    }
   ],
   "source": [
    "times = []\n",
    "\n",
    "for i in range(num_rep):\n",
    "    start = time()\n",
    "    output_dist = start_SOGA(cfg)\n",
    "    end = time()\n",
    "    times.append(end-start)\n",
    "    \n",
    "print('Computation completed in ', np.mean(times))\n",
    "\n",
    "output_dist.gm.mean()[0]"
   ]
  },
  {
   "cell_type": "code",
   "execution_count": 35,
   "id": "future-jaguar",
   "metadata": {},
   "outputs": [
    {
     "data": {
      "text/plain": [
       "10"
      ]
     },
     "execution_count": 35,
     "metadata": {},
     "output_type": "execute_result"
    }
   ],
   "source": [
    "output_dist.gm.n_comp()"
   ]
  },
  {
   "cell_type": "markdown",
   "id": "affiliated-start",
   "metadata": {},
   "source": [
    "## Grass"
   ]
  },
  {
   "cell_type": "markdown",
   "id": "upper-trinidad",
   "metadata": {},
   "source": [
    "exact"
   ]
  },
  {
   "cell_type": "code",
   "execution_count": 36,
   "id": "educational-berry",
   "metadata": {},
   "outputs": [
    {
     "name": "stdout",
     "output_type": "stream",
     "text": [
      "Time to produce cfg:  0.02372002601623535\n"
     ]
    }
   ],
   "source": [
    "start = time()\n",
    "cfg = produce_cfg('Grass')\n",
    "end = time()\n",
    "\n",
    "print('Time to produce cfg: ', end-start)"
   ]
  },
  {
   "cell_type": "code",
   "execution_count": 37,
   "id": "functioning-psychology",
   "metadata": {},
   "outputs": [
    {
     "name": "stdout",
     "output_type": "stream",
     "text": [
      "['cloudy', 'rain', 'sprinkler', 'temp1', 'wetRoof', 'temp2', 'temp3', 'or1', 'or2', 'wetGrass']\n",
      "#vars: 10\n"
     ]
    }
   ],
   "source": [
    "print(cfg.ID_list)\n",
    "print('#vars:', len(cfg.ID_list))"
   ]
  },
  {
   "cell_type": "code",
   "execution_count": 38,
   "id": "identical-neighbor",
   "metadata": {},
   "outputs": [
    {
     "name": "stdout",
     "output_type": "stream",
     "text": [
      "Computation completed in  0.050975584983825685\n",
      "N. components: 28\n"
     ]
    },
    {
     "data": {
      "text/plain": [
       "0.7079276773296245"
      ]
     },
     "execution_count": 38,
     "metadata": {},
     "output_type": "execute_result"
    }
   ],
   "source": [
    "times = []\n",
    "\n",
    "for i in range(num_rep):\n",
    "    start = time()\n",
    "    output_dist = start_SOGA(cfg)\n",
    "    end = time()\n",
    "    times.append(end-start)\n",
    "    \n",
    "print('Computation completed in ', np.mean(times))\n",
    "print('N. components:', output_dist.gm.n_comp())\n",
    "\n",
    "output_dist.gm.mean()[1]"
   ]
  },
  {
   "cell_type": "code",
   "execution_count": 39,
   "id": "destroyed-mailman",
   "metadata": {},
   "outputs": [
    {
     "data": {
      "text/plain": [
       "0.7079276773296245"
      ]
     },
     "execution_count": 39,
     "metadata": {},
     "output_type": "execute_result"
    }
   ],
   "source": [
    "509/719"
   ]
  },
  {
   "cell_type": "markdown",
   "id": "front-cement",
   "metadata": {},
   "source": [
    "## MurderMistery"
   ]
  },
  {
   "cell_type": "markdown",
   "id": "international-belle",
   "metadata": {},
   "source": [
    "exact"
   ]
  },
  {
   "cell_type": "code",
   "execution_count": 40,
   "id": "complex-murray",
   "metadata": {},
   "outputs": [
    {
     "name": "stdout",
     "output_type": "stream",
     "text": [
      "Time to produce cfg:  0.0\n"
     ]
    }
   ],
   "source": [
    "start = time()\n",
    "cfg = produce_cfg('MurderMistery')\n",
    "end = time()\n",
    "\n",
    "print('Time to produce cfg: ', end-start)"
   ]
  },
  {
   "cell_type": "code",
   "execution_count": 41,
   "id": "direct-mattress",
   "metadata": {},
   "outputs": [
    {
     "name": "stdout",
     "output_type": "stream",
     "text": [
      "['aliceDunnit', 'withGun']\n",
      "#vars: 2\n"
     ]
    }
   ],
   "source": [
    "print(cfg.ID_list)\n",
    "print('#vars:', len(cfg.ID_list))"
   ]
  },
  {
   "cell_type": "code",
   "execution_count": 42,
   "id": "controlling-deviation",
   "metadata": {},
   "outputs": [
    {
     "name": "stdout",
     "output_type": "stream",
     "text": [
      "Computation completed in  0.003114199638366699\n",
      "N. components: 2\n"
     ]
    },
    {
     "data": {
      "text/plain": [
       "array([0.01581722, 1.        ])"
      ]
     },
     "execution_count": 42,
     "metadata": {},
     "output_type": "execute_result"
    }
   ],
   "source": [
    "times = []\n",
    "\n",
    "for i in range(num_rep):\n",
    "    start = time()\n",
    "    output_dist = start_SOGA(cfg)\n",
    "    end = time()\n",
    "    times.append(end-start)\n",
    "    \n",
    "print('Computation completed in ', np.mean(times))\n",
    "print('N. components:', output_dist.gm.n_comp())\n",
    "\n",
    "output_dist.gm.mean()"
   ]
  },
  {
   "cell_type": "markdown",
   "id": "beginning-colon",
   "metadata": {},
   "source": [
    "## NoisyOr"
   ]
  },
  {
   "cell_type": "markdown",
   "id": "random-employment",
   "metadata": {},
   "source": [
    "exact"
   ]
  },
  {
   "cell_type": "code",
   "execution_count": 43,
   "id": "mobile-makeup",
   "metadata": {},
   "outputs": [
    {
     "name": "stdout",
     "output_type": "stream",
     "text": [
      "Time to produce cfg:  0.015539169311523438\n"
     ]
    }
   ],
   "source": [
    "start = time()\n",
    "cfg = produce_cfg('NoisyOr')\n",
    "end = time()\n",
    "\n",
    "print('Time to produce cfg: ', end-start)"
   ]
  },
  {
   "cell_type": "code",
   "execution_count": 44,
   "id": "south-passage",
   "metadata": {},
   "outputs": [
    {
     "name": "stdout",
     "output_type": "stream",
     "text": [
      "['n0', 'n4', 'n1', 'n21', 'n22', 'n33', 'n2', 'n31', 'n32', 'n3']\n",
      "#vars: 10\n"
     ]
    }
   ],
   "source": [
    "print(cfg.ID_list)\n",
    "print('#vars:', len(cfg.ID_list))"
   ]
  },
  {
   "cell_type": "code",
   "execution_count": 45,
   "id": "unique-sociology",
   "metadata": {},
   "outputs": [
    {
     "name": "stdout",
     "output_type": "stream",
     "text": [
      "Computation completed in  0.12399206161499024\n",
      "N. components: 256\n"
     ]
    },
    {
     "data": {
      "text/plain": [
       "0.8144187499999991"
      ]
     },
     "execution_count": 45,
     "metadata": {},
     "output_type": "execute_result"
    }
   ],
   "source": [
    "times = []\n",
    "\n",
    "for i in range(num_rep):\n",
    "    start = time()\n",
    "    output_dist = start_SOGA(cfg)\n",
    "    end = time()\n",
    "    times.append(end-start)\n",
    "    \n",
    "print('Computation completed in ', np.mean(times))\n",
    "print('N. components:', output_dist.gm.n_comp())\n",
    "\n",
    "output_dist.gm.mean()[-1]"
   ]
  },
  {
   "cell_type": "markdown",
   "id": "metallic-biotechnology",
   "metadata": {},
   "source": [
    "## SurveyUnbias"
   ]
  },
  {
   "cell_type": "markdown",
   "id": "phantom-catalyst",
   "metadata": {},
   "source": [
    "true value: 0.8"
   ]
  },
  {
   "cell_type": "code",
   "execution_count": 46,
   "id": "orange-isolation",
   "metadata": {},
   "outputs": [
    {
     "name": "stdout",
     "output_type": "stream",
     "text": [
      "Time to produce cfg:  0.0\n"
     ]
    }
   ],
   "source": [
    "start = time()\n",
    "cfg = produce_cfg('SurveyUnbias')\n",
    "end = time()\n",
    "\n",
    "print('Time to produce cfg: ', end-start)"
   ]
  },
  {
   "cell_type": "code",
   "execution_count": 47,
   "id": "precious-trail",
   "metadata": {},
   "outputs": [
    {
     "name": "stdout",
     "output_type": "stream",
     "text": [
      "['bias1', 'bias2', 'ansb1', 'ansb2']\n",
      "#vars: 4\n"
     ]
    }
   ],
   "source": [
    "print(cfg.ID_list)\n",
    "print('#vars:', len(cfg.ID_list))"
   ]
  },
  {
   "cell_type": "code",
   "execution_count": 48,
   "id": "significant-greenhouse",
   "metadata": {},
   "outputs": [
    {
     "name": "stdout",
     "output_type": "stream",
     "text": [
      "Computation completed in  1.3916194677352904\n",
      "N. components: 128\n"
     ]
    },
    {
     "data": {
      "text/plain": [
       "0.7987653829530976"
      ]
     },
     "execution_count": 48,
     "metadata": {},
     "output_type": "execute_result"
    }
   ],
   "source": [
    "times = []\n",
    "\n",
    "for i in range(num_rep):\n",
    "    start = time()\n",
    "    output_dist = start_SOGA(cfg)\n",
    "    end = time()\n",
    "    times.append(end-start)\n",
    "    \n",
    "print('Computation completed in ', np.mean(times))\n",
    "print('N. components:', output_dist.gm.n_comp())\n",
    "\n",
    "output_dist.gm.mean()[0]"
   ]
  },
  {
   "cell_type": "markdown",
   "id": "dense-convertible",
   "metadata": {},
   "source": [
    "## TrueSkill"
   ]
  },
  {
   "cell_type": "code",
   "execution_count": 49,
   "id": "fewer-position",
   "metadata": {},
   "outputs": [
    {
     "name": "stdout",
     "output_type": "stream",
     "text": [
      "Time to produce cfg:  0.012816429138183594\n"
     ]
    }
   ],
   "source": [
    "start = time()\n",
    "cfg = produce_cfg('TrueSkill')\n",
    "end = time()\n",
    "\n",
    "print('Time to produce cfg: ', end-start)"
   ]
  },
  {
   "cell_type": "code",
   "execution_count": 50,
   "id": "korean-payment",
   "metadata": {},
   "outputs": [
    {
     "name": "stdout",
     "output_type": "stream",
     "text": [
      "['skillA', 'skillB', 'skillC', 'perfA', 'perfB', 'perfC']\n",
      "#vars: 6\n"
     ]
    }
   ],
   "source": [
    "print(cfg.ID_list)\n",
    "print('#vars:', len(cfg.ID_list))"
   ]
  },
  {
   "cell_type": "code",
   "execution_count": 51,
   "id": "weekly-auckland",
   "metadata": {},
   "outputs": [
    {
     "name": "stdout",
     "output_type": "stream",
     "text": [
      "Computation completed in  0.04332411289215088\n",
      "N. components: 1\n"
     ]
    },
    {
     "data": {
      "text/plain": [
       "array([104.71317347,  97.6098938 ,  97.67694092, 115.3177955 ,\n",
       "        92.23214722,  92.45005919])"
      ]
     },
     "execution_count": 51,
     "metadata": {},
     "output_type": "execute_result"
    }
   ],
   "source": [
    "times = []\n",
    "\n",
    "for i in range(num_rep):\n",
    "    start = time()\n",
    "    output_dist = start_SOGA(cfg)\n",
    "    end = time()\n",
    "    times.append(end-start)\n",
    "    \n",
    "print('Computation completed in ', np.mean(times))\n",
    "print('N. components:', output_dist.gm.n_comp())\n",
    "\n",
    "output_dist.gm.mean()"
   ]
  },
  {
   "cell_type": "markdown",
   "id": "virgin-promotion",
   "metadata": {},
   "source": [
    "## TwoCoins"
   ]
  },
  {
   "cell_type": "markdown",
   "id": "threaded-basic",
   "metadata": {},
   "source": [
    "exact"
   ]
  },
  {
   "cell_type": "code",
   "execution_count": 52,
   "id": "finite-bubble",
   "metadata": {},
   "outputs": [
    {
     "name": "stdout",
     "output_type": "stream",
     "text": [
      "Time to produce cfg:  0.0\n"
     ]
    }
   ],
   "source": [
    "start = time()\n",
    "cfg = produce_cfg('TwoCoins')\n",
    "end = time()\n",
    "\n",
    "print('Time to produce cfg: ', end-start)"
   ]
  },
  {
   "cell_type": "code",
   "execution_count": 53,
   "id": "mediterranean-deviation",
   "metadata": {},
   "outputs": [
    {
     "name": "stdout",
     "output_type": "stream",
     "text": [
      "['first', 'second', 'both']\n",
      "#vars: 3\n"
     ]
    }
   ],
   "source": [
    "print(cfg.ID_list)\n",
    "print('#vars:', len(cfg.ID_list))"
   ]
  },
  {
   "cell_type": "code",
   "execution_count": 54,
   "id": "south-attitude",
   "metadata": {},
   "outputs": [
    {
     "name": "stdout",
     "output_type": "stream",
     "text": [
      "Computation completed in  0.004674983024597168\n",
      "N. components: 3\n"
     ]
    },
    {
     "data": {
      "text/plain": [
       "array([0.33333333, 0.33333333, 0.        ])"
      ]
     },
     "execution_count": 54,
     "metadata": {},
     "output_type": "execute_result"
    }
   ],
   "source": [
    "times = []\n",
    "\n",
    "for i in range(num_rep):\n",
    "    start = time()\n",
    "    output_dist = start_SOGA(cfg)\n",
    "    end = time()\n",
    "    times.append(end-start)\n",
    "    \n",
    "print('Computation completed in ', np.mean(times))\n",
    "print('N. components:', output_dist.gm.n_comp())\n",
    "\n",
    "output_dist.gm.mean()"
   ]
  },
  {
   "cell_type": "markdown",
   "id": "periodic-music",
   "metadata": {},
   "source": [
    "## Altermu"
   ]
  },
  {
   "cell_type": "markdown",
   "id": "impaired-quantum",
   "metadata": {},
   "source": [
    "true value: \n",
    "mu1: 3.365363543395006e-16"
   ]
  },
  {
   "cell_type": "code",
   "execution_count": 55,
   "id": "noted-magazine",
   "metadata": {},
   "outputs": [
    {
     "name": "stdout",
     "output_type": "stream",
     "text": [
      "Time to produce cfg:  0.003014087677001953\n"
     ]
    }
   ],
   "source": [
    "start = time()\n",
    "cfg = produce_cfg('AQUA/Altermu')\n",
    "end = time()\n",
    "\n",
    "print('Time to produce cfg: ', end-start)"
   ]
  },
  {
   "cell_type": "code",
   "execution_count": 56,
   "id": "modified-compiler",
   "metadata": {},
   "outputs": [
    {
     "name": "stdout",
     "output_type": "stream",
     "text": [
      "['y[0]', 'y[1]', 'y[2]', 'y[3]', 'y[4]', 'y[5]', 'y[6]', 'y[7]', 'y[8]', 'y[9]', 'y[10]', 'y[11]', 'y[12]', 'y[13]', 'y[14]', 'y[15]', 'y[16]', 'y[17]', 'y[18]', 'y[19]', 'y[20]', 'y[21]', 'y[22]', 'y[23]', 'y[24]', 'y[25]', 'y[26]', 'y[27]', 'y[28]', 'y[29]', 'y[30]', 'y[31]', 'y[32]', 'y[33]', 'y[34]', 'y[35]', 'y[36]', 'y[37]', 'y[38]', 'y[39]', 'w1', 'w2', 'w3', 'mean']\n",
      "#vars: 44\n"
     ]
    }
   ],
   "source": [
    "print(cfg.ID_list)\n",
    "print('#vars:', len(cfg.ID_list))"
   ]
  },
  {
   "cell_type": "code",
   "execution_count": 57,
   "id": "compressed-olympus",
   "metadata": {},
   "outputs": [
    {
     "name": "stdout",
     "output_type": "stream",
     "text": [
      "Computation completed in  0.12872681617736817\n",
      "N. components: 1\n"
     ]
    },
    {
     "data": {
      "text/plain": [
       "array([ 0.        ,  0.        , -0.00137427], dtype=float32)"
      ]
     },
     "execution_count": 57,
     "metadata": {},
     "output_type": "execute_result"
    }
   ],
   "source": [
    "times = []\n",
    "\n",
    "for i in range(num_rep):\n",
    "    start = time()\n",
    "    output_dist = start_SOGA(cfg)\n",
    "    end = time()\n",
    "    times.append(end-start)\n",
    "    \n",
    "print('Computation completed in ', np.mean(times))\n",
    "print('N. components:', output_dist.gm.n_comp())\n",
    "\n",
    "output_dist.gm.mean()[-4:-1]"
   ]
  },
  {
   "cell_type": "markdown",
   "id": "permanent-accessory",
   "metadata": {},
   "source": [
    "## Altermu2"
   ]
  },
  {
   "cell_type": "markdown",
   "id": "distant-qatar",
   "metadata": {},
   "source": [
    "true value:\n",
    "mu1:  0.15521420874071362\n",
    "mu2:  0.1552142087407135"
   ]
  },
  {
   "cell_type": "code",
   "execution_count": 58,
   "id": "accredited-dayton",
   "metadata": {},
   "outputs": [
    {
     "name": "stdout",
     "output_type": "stream",
     "text": [
      "Time to produce cfg:  0.015480518341064453\n"
     ]
    }
   ],
   "source": [
    "start = time()\n",
    "cfg = produce_cfg('AQUA/Altermu2')\n",
    "end = time()\n",
    "\n",
    "print('Time to produce cfg: ', end-start)"
   ]
  },
  {
   "cell_type": "code",
   "execution_count": 59,
   "id": "alpine-packaging",
   "metadata": {},
   "outputs": [
    {
     "name": "stdout",
     "output_type": "stream",
     "text": [
      "['y[0]', 'y[1]', 'y[2]', 'y[3]', 'y[4]', 'y[5]', 'y[6]', 'y[7]', 'y[8]', 'y[9]', 'y[10]', 'y[11]', 'y[12]', 'y[13]', 'y[14]', 'y[15]', 'y[16]', 'y[17]', 'y[18]', 'y[19]', 'y[20]', 'y[21]', 'y[22]', 'y[23]', 'y[24]', 'y[25]', 'y[26]', 'y[27]', 'y[28]', 'y[29]', 'y[30]', 'y[31]', 'y[32]', 'y[33]', 'y[34]', 'y[35]', 'y[36]', 'y[37]', 'y[38]', 'y[39]', 'w1', 'w2']\n",
      "#vars: 42\n"
     ]
    }
   ],
   "source": [
    "print(cfg.ID_list)\n",
    "print('#vars:', len(cfg.ID_list))"
   ]
  },
  {
   "cell_type": "code",
   "execution_count": 60,
   "id": "appreciated-blocking",
   "metadata": {},
   "outputs": [
    {
     "name": "stdout",
     "output_type": "stream",
     "text": [
      "Computation completed in  0.31998391151428224\n",
      "N. components: 4\n"
     ]
    },
    {
     "data": {
      "text/plain": [
       "array([0.15558612, 0.15558612], dtype=float32)"
      ]
     },
     "execution_count": 60,
     "metadata": {},
     "output_type": "execute_result"
    }
   ],
   "source": [
    "times = []\n",
    "\n",
    "for i in range(num_rep):\n",
    "    start = time()\n",
    "    output_dist = start_SOGA(cfg)\n",
    "    end = time()\n",
    "    times.append(end-start)\n",
    "    \n",
    "print('Computation completed in ', np.mean(times))\n",
    "print('N. components:', output_dist.gm.n_comp())\n",
    "\n",
    "output_dist.gm.mean()[-2:]"
   ]
  },
  {
   "cell_type": "markdown",
   "id": "impressive-touch",
   "metadata": {},
   "source": [
    "## Normal Mixtures"
   ]
  },
  {
   "cell_type": "code",
   "execution_count": 61,
   "id": "italian-table",
   "metadata": {
    "scrolled": true
   },
   "outputs": [
    {
     "name": "stdout",
     "output_type": "stream",
     "text": [
      "Time to produce cfg:  0.01883673667907715\n"
     ]
    }
   ],
   "source": [
    "start = time()\n",
    "cfg = produce_cfg('AQUA/NormalMixture')\n",
    "end = time()\n",
    "\n",
    "print('Time to produce cfg: ', end-start)"
   ]
  },
  {
   "cell_type": "code",
   "execution_count": 62,
   "id": "dressed-parts",
   "metadata": {},
   "outputs": [],
   "source": [
    "# goes t.o. > 30 min even with pruning\n",
    "\n",
    "#times = []\n",
    "#\n",
    "#start = time()\n",
    "#output_dist = start_SOGA(cfg)\n",
    "#end = time()\n",
    "#times.append(end-start)\n",
    "#\n",
    "#print('Computation completed in ', np.mean(times))\n",
    "#\n",
    "#output_dist.gm.mean()"
   ]
  },
  {
   "cell_type": "markdown",
   "id": "universal-massachusetts",
   "metadata": {},
   "source": [
    "### Pruning"
   ]
  },
  {
   "cell_type": "code",
   "execution_count": 63,
   "id": "multiple-veteran",
   "metadata": {
    "scrolled": true
   },
   "outputs": [
    {
     "name": "stdout",
     "output_type": "stream",
     "text": [
      "Time to produce cfg:  0.012033224105834961\n"
     ]
    }
   ],
   "source": [
    "start = time()\n",
    "cfg = produce_cfg('AQUA/NormalMixturePrune')\n",
    "end = time()\n",
    "\n",
    "print('Time to produce cfg: ', end-start)"
   ]
  },
  {
   "cell_type": "code",
   "execution_count": 64,
   "id": "extraordinary-geography",
   "metadata": {},
   "outputs": [
    {
     "name": "stdout",
     "output_type": "stream",
     "text": [
      "['theta', 'mu1', 'mu2', 'y']\n",
      "#vars: 4\n"
     ]
    }
   ],
   "source": [
    "print(cfg.ID_list)\n",
    "print('#vars:', len(cfg.ID_list))"
   ]
  },
  {
   "cell_type": "code",
   "execution_count": 65,
   "id": "local-parameter",
   "metadata": {},
   "outputs": [
    {
     "name": "stdout",
     "output_type": "stream",
     "text": [
      "Computation completed in  52.615823125839235\n"
     ]
    },
    {
     "data": {
      "text/plain": [
       "array([ 0.2982786,  3.6915321,  4.8735046, 10.624819 ], dtype=float32)"
      ]
     },
     "execution_count": 65,
     "metadata": {},
     "output_type": "execute_result"
    }
   ],
   "source": [
    "times = []\n",
    "\n",
    "for i in range(num_rep):\n",
    "    start = time()\n",
    "    output_dist = start_SOGA(cfg)\n",
    "    end = time()\n",
    "    times.append(end-start)\n",
    "\n",
    "print('Computation completed in ', np.mean(times))\n",
    "\n",
    "output_dist.gm.mean()"
   ]
  },
  {
   "cell_type": "code",
   "execution_count": 66,
   "id": "distant-conservation",
   "metadata": {},
   "outputs": [
    {
     "data": {
      "text/plain": [
       "30"
      ]
     },
     "execution_count": 66,
     "metadata": {},
     "output_type": "execute_result"
    }
   ],
   "source": [
    "output_dist.gm.n_comp()"
   ]
  },
  {
   "cell_type": "code",
   "execution_count": 67,
   "id": "further-pavilion",
   "metadata": {},
   "outputs": [
    {
     "data": {
      "text/plain": [
       "0.00030701844157439054"
      ]
     },
     "execution_count": 67,
     "metadata": {},
     "output_type": "execute_result"
    }
   ],
   "source": [
    "30/97714"
   ]
  },
  {
   "cell_type": "markdown",
   "id": "private-sacramento",
   "metadata": {},
   "source": [
    "## RadarQuery"
   ]
  },
  {
   "cell_type": "code",
   "execution_count": 68,
   "id": "worth-synthetic",
   "metadata": {},
   "outputs": [
    {
     "name": "stdout",
     "output_type": "stream",
     "text": [
      "Time to produce cfg:  0.022469282150268555\n"
     ]
    }
   ],
   "source": [
    "start = time()\n",
    "cfg = produce_cfg('AQUA/RadarQuery')\n",
    "end = time()\n",
    "\n",
    "print('Time to produce cfg: ', end-start)"
   ]
  },
  {
   "cell_type": "code",
   "execution_count": 69,
   "id": "bored-outreach",
   "metadata": {},
   "outputs": [
    {
     "name": "stdout",
     "output_type": "stream",
     "text": [
      "['b0', 'b1', 'x0', 'x1', 'x', 'y', 'o0', 'o1']\n",
      "#vars: 8\n"
     ]
    }
   ],
   "source": [
    "print(cfg.ID_list)\n",
    "print('#vars:', len(cfg.ID_list))"
   ]
  },
  {
   "cell_type": "code",
   "execution_count": 70,
   "id": "potential-certificate",
   "metadata": {},
   "outputs": [
    {
     "name": "stdout",
     "output_type": "stream",
     "text": [
      "Computation completed in  7.031669616699219\n",
      "N. components: 2016\n"
     ]
    },
    {
     "data": {
      "text/plain": [
       "array([ 0.9999916 ,  0.9999916 ,  5.940395  ,  5.940395  , -1.6595752 ,\n",
       "        0.33188623,  4.999984  ,  4.6127315 ], dtype=float32)"
      ]
     },
     "execution_count": 70,
     "metadata": {},
     "output_type": "execute_result"
    }
   ],
   "source": [
    "times = []\n",
    "\n",
    "for i in range(num_rep):\n",
    "    start = time()\n",
    "    output_dist = start_SOGA(cfg)\n",
    "    end = time()\n",
    "    times.append(end-start)\n",
    "    \n",
    "print('Computation completed in ', np.mean(times))\n",
    "print('N. components:', output_dist.gm.n_comp())\n",
    "\n",
    "output_dist.gm.mean()"
   ]
  },
  {
   "cell_type": "markdown",
   "id": "strong-gardening",
   "metadata": {},
   "source": [
    "## TimeSeries"
   ]
  },
  {
   "cell_type": "markdown",
   "id": "eight-clark",
   "metadata": {},
   "source": [
    "true value \n",
    "alpha:  -1.5751952024094684\n",
    "beta:  0.6841150519335847\n",
    "lambda:  0.4765771501058374"
   ]
  },
  {
   "cell_type": "code",
   "execution_count": 71,
   "id": "treated-capital",
   "metadata": {},
   "outputs": [
    {
     "name": "stdout",
     "output_type": "stream",
     "text": [
      "Time to produce cfg:  0.08223414421081543\n"
     ]
    }
   ],
   "source": [
    "start = time()\n",
    "cfg = produce_cfg('AQUA/TimeSeries')\n",
    "end = time()\n",
    "\n",
    "print('Time to produce cfg: ', end-start)"
   ]
  },
  {
   "cell_type": "code",
   "execution_count": 72,
   "id": "elegant-strip",
   "metadata": {},
   "outputs": [
    {
     "name": "stdout",
     "output_type": "stream",
     "text": [
      "['a', 'b', 'lamb', 'y0', 'y1', 'y2', 'y3', 'y4', 'y5', 'y6', 'y7', 'y8', 'y9', 'y10', 'y11', 'y12', 'y13', 'y14', 'y15', 'y16', 'y17', 'y18', 'y19', 'y20', 'y21', 'y22', 'y23', 'y24', 'y25', 'y26', 'y27', 'y28', 'y29', 'y30', 'y31', 'y32', 'y33', 'y34', 'y35', 'y36', 'y37', 'y38', 'y39']\n",
      "#vars: 43\n"
     ]
    }
   ],
   "source": [
    "print(cfg.ID_list)\n",
    "print('#vars:', len(cfg.ID_list))"
   ]
  },
  {
   "cell_type": "code",
   "execution_count": 73,
   "id": "rubber-arena",
   "metadata": {},
   "outputs": [
    {
     "name": "stdout",
     "output_type": "stream",
     "text": [
      "Computation completed in  0.8974315881729126\n",
      "N. components: 8\n"
     ]
    },
    {
     "data": {
      "text/plain": [
       "array([-1.6015656,  0.695174 ,  0.4535055], dtype=float32)"
      ]
     },
     "execution_count": 73,
     "metadata": {},
     "output_type": "execute_result"
    }
   ],
   "source": [
    "times = []\n",
    "\n",
    "for i in range(num_rep):\n",
    "    start = time()\n",
    "    output_dist = start_SOGA(cfg)\n",
    "    end = time()\n",
    "    times.append(end-start)\n",
    "    \n",
    "print('Computation completed in ', np.mean(times))\n",
    "print('N. components:', output_dist.gm.n_comp())\n",
    "\n",
    "output_dist.gm.mean()[:3]"
   ]
  },
  {
   "cell_type": "markdown",
   "id": "defensive-indie",
   "metadata": {},
   "source": [
    "# Mixtures of Continuous and Discrete Distributions"
   ]
  },
  {
   "cell_type": "markdown",
   "id": "fossil-egyptian",
   "metadata": {},
   "source": [
    "## Indian GPA"
   ]
  },
  {
   "cell_type": "markdown",
   "id": "reflected-corpus",
   "metadata": {},
   "source": [
    "true value: 1"
   ]
  },
  {
   "cell_type": "code",
   "execution_count": 74,
   "id": "compact-brake",
   "metadata": {},
   "outputs": [
    {
     "name": "stdout",
     "output_type": "stream",
     "text": [
      "Time to produce cfg:  0.0142974853515625\n"
     ]
    }
   ],
   "source": [
    "start = time()\n",
    "cfg = produce_cfg('IndianGPA')\n",
    "end = time()\n",
    "\n",
    "print('Time to produce cfg: ', end-start)"
   ]
  },
  {
   "cell_type": "code",
   "execution_count": 75,
   "id": "liable-retreat",
   "metadata": {},
   "outputs": [
    {
     "name": "stdout",
     "output_type": "stream",
     "text": [
      "['usa', 'usagpa', 'indgpa', 'gpa']\n",
      "#vars: 4\n"
     ]
    }
   ],
   "source": [
    "print(cfg.ID_list)\n",
    "print('#vars:', len(cfg.ID_list))"
   ]
  },
  {
   "cell_type": "code",
   "execution_count": 76,
   "id": "contemporary-clock",
   "metadata": {},
   "outputs": [
    {
     "name": "stdout",
     "output_type": "stream",
     "text": [
      "Computation completed in  0.08550360202789306\n",
      "N. components: 11\n"
     ]
    },
    {
     "data": {
      "text/plain": [
       "array([1.        , 4.        , 5.12034045, 4.        ])"
      ]
     },
     "execution_count": 76,
     "metadata": {},
     "output_type": "execute_result"
    }
   ],
   "source": [
    "times = []\n",
    "\n",
    "for i in range(num_rep):\n",
    "    start = time()\n",
    "    output_dist = start_SOGA(cfg)\n",
    "    end = time()\n",
    "    times.append(end-start)\n",
    "    \n",
    "print('Computation completed in ', np.mean(times))\n",
    "print('N. components:', output_dist.gm.n_comp())\n",
    "\n",
    "output_dist.gm.mean()"
   ]
  },
  {
   "cell_type": "markdown",
   "id": "prepared-exhibition",
   "metadata": {},
   "source": [
    "## Scale"
   ]
  },
  {
   "cell_type": "markdown",
   "id": "passive-commercial",
   "metadata": {},
   "source": [
    "true value: 0"
   ]
  },
  {
   "cell_type": "code",
   "execution_count": 77,
   "id": "departmental-samuel",
   "metadata": {},
   "outputs": [
    {
     "name": "stdout",
     "output_type": "stream",
     "text": [
      "Time to produce cfg:  0.0048673152923583984\n"
     ]
    }
   ],
   "source": [
    "start = time()\n",
    "cfg = produce_cfg('Scale')\n",
    "end = time()\n",
    "\n",
    "print('Time to produce cfg: ', end-start)"
   ]
  },
  {
   "cell_type": "code",
   "execution_count": 78,
   "id": "tamil-banner",
   "metadata": {},
   "outputs": [
    {
     "name": "stdout",
     "output_type": "stream",
     "text": [
      "['hasFake', 'wFake', 'balance']\n",
      "#vars: 3\n"
     ]
    }
   ],
   "source": [
    "print(cfg.ID_list)\n",
    "print('#vars:', len(cfg.ID_list))"
   ]
  },
  {
   "cell_type": "code",
   "execution_count": 79,
   "id": "appreciated-optimum",
   "metadata": {},
   "outputs": [
    {
     "name": "stdout",
     "output_type": "stream",
     "text": [
      "Computation completed in  0.007857394218444825\n",
      "N. components: 1\n"
     ]
    },
    {
     "data": {
      "text/plain": [
       "array([0.        , 0.61848015, 0.        ])"
      ]
     },
     "execution_count": 79,
     "metadata": {},
     "output_type": "execute_result"
    }
   ],
   "source": [
    "times = []\n",
    "\n",
    "for i in range(num_rep):\n",
    "    start = time()\n",
    "    output_dist = start_SOGA(cfg)\n",
    "    end = time()\n",
    "    times.append(end-start)\n",
    "    \n",
    "print('Computation completed in ', np.mean(times))\n",
    "print('N. components:', output_dist.gm.n_comp())\n",
    "\n",
    "output_dist.gm.mean()"
   ]
  },
  {
   "cell_type": "markdown",
   "id": "guilty-excitement",
   "metadata": {},
   "source": [
    "## Tracking1"
   ]
  },
  {
   "cell_type": "code",
   "execution_count": 80,
   "id": "turned-investing",
   "metadata": {},
   "outputs": [
    {
     "name": "stdout",
     "output_type": "stream",
     "text": [
      "Time to produce cfg:  0.015586376190185547\n"
     ]
    }
   ],
   "source": [
    "start = time()\n",
    "cfg = produce_cfg('Tracking/Tracking1')\n",
    "end = time()\n",
    "\n",
    "print('Time to produce cfg: ', end-start)"
   ]
  },
  {
   "cell_type": "code",
   "execution_count": 81,
   "id": "acceptable-border",
   "metadata": {},
   "outputs": [
    {
     "name": "stdout",
     "output_type": "stream",
     "text": [
      "['x', 'y', 'distx', 'disty', 'dist', 'out', 'observed']\n",
      "#vars: 7\n"
     ]
    }
   ],
   "source": [
    "print(cfg.ID_list)\n",
    "print('#vars:', len(cfg.ID_list))"
   ]
  },
  {
   "cell_type": "code",
   "execution_count": 82,
   "id": "trying-metro",
   "metadata": {},
   "outputs": [
    {
     "name": "stdout",
     "output_type": "stream",
     "text": [
      "Computation completed in  0.026749420166015624\n",
      "N. components: 1\n"
     ]
    },
    {
     "data": {
      "text/plain": [
       "10.0"
      ]
     },
     "execution_count": 82,
     "metadata": {},
     "output_type": "execute_result"
    }
   ],
   "source": [
    "times = []\n",
    "\n",
    "for i in range(num_rep):\n",
    "    start = time()\n",
    "    output_dist = start_SOGA(cfg)\n",
    "    end = time()\n",
    "    times.append(end-start)\n",
    "    \n",
    "print('Computation completed in ', np.mean(times))\n",
    "print('N. components:', output_dist.gm.n_comp())\n",
    "\n",
    "output_dist.gm.mean()[-1]"
   ]
  },
  {
   "cell_type": "markdown",
   "id": "forbidden-recipe",
   "metadata": {},
   "source": [
    "## Tracking5"
   ]
  },
  {
   "cell_type": "code",
   "execution_count": 83,
   "id": "surgical-tutorial",
   "metadata": {},
   "outputs": [
    {
     "name": "stdout",
     "output_type": "stream",
     "text": [
      "Time to produce cfg:  0.015603065490722656\n"
     ]
    }
   ],
   "source": [
    "start = time()\n",
    "cfg = produce_cfg('Tracking/Tracking5')\n",
    "end = time()\n",
    "\n",
    "print('Time to produce cfg: ', end-start)"
   ]
  },
  {
   "cell_type": "code",
   "execution_count": 84,
   "id": "pregnant-peoples",
   "metadata": {},
   "outputs": [
    {
     "name": "stdout",
     "output_type": "stream",
     "text": [
      "['x', 'y', 'distx', 'disty', 'dist', 'out', 'observed']\n",
      "#vars: 7\n"
     ]
    }
   ],
   "source": [
    "print(cfg.ID_list)\n",
    "print('#vars:', len(cfg.ID_list))"
   ]
  },
  {
   "cell_type": "code",
   "execution_count": 85,
   "id": "integral-witch",
   "metadata": {},
   "outputs": [
    {
     "name": "stdout",
     "output_type": "stream",
     "text": [
      "Computation completed in  0.031394004821777344\n",
      "N. components: 1\n"
     ]
    },
    {
     "data": {
      "text/plain": [
       "10.0"
      ]
     },
     "execution_count": 85,
     "metadata": {},
     "output_type": "execute_result"
    }
   ],
   "source": [
    "times = []\n",
    "\n",
    "for i in range(num_rep):\n",
    "    start = time()\n",
    "    output_dist = start_SOGA(cfg)\n",
    "    end = time()\n",
    "    times.append(end-start)\n",
    "    \n",
    "print('Computation completed in ', np.mean(times))\n",
    "print('N. components:', output_dist.gm.n_comp())\n",
    "\n",
    "output_dist.gm.mean()[-1]"
   ]
  },
  {
   "cell_type": "markdown",
   "id": "immune-automation",
   "metadata": {},
   "source": [
    "## Tracking10"
   ]
  },
  {
   "cell_type": "code",
   "execution_count": 86,
   "id": "internal-florist",
   "metadata": {},
   "outputs": [
    {
     "name": "stdout",
     "output_type": "stream",
     "text": [
      "Time to produce cfg:  0.006087541580200195\n"
     ]
    }
   ],
   "source": [
    "start = time()\n",
    "cfg = produce_cfg('Tracking/Tracking10')\n",
    "end = time()\n",
    "\n",
    "print('Time to produce cfg: ', end-start)"
   ]
  },
  {
   "cell_type": "code",
   "execution_count": 87,
   "id": "corrected-halifax",
   "metadata": {},
   "outputs": [
    {
     "name": "stdout",
     "output_type": "stream",
     "text": [
      "['x', 'y', 'distx', 'disty', 'dist', 'out', 'observed']\n",
      "#vars: 7\n"
     ]
    }
   ],
   "source": [
    "print(cfg.ID_list)\n",
    "print('#vars:', len(cfg.ID_list))"
   ]
  },
  {
   "cell_type": "code",
   "execution_count": 88,
   "id": "stone-demographic",
   "metadata": {},
   "outputs": [
    {
     "name": "stdout",
     "output_type": "stream",
     "text": [
      "Computation completed in  0.04098224639892578\n",
      "N. components: 1\n"
     ]
    },
    {
     "data": {
      "text/plain": [
       "10.0"
      ]
     },
     "execution_count": 88,
     "metadata": {},
     "output_type": "execute_result"
    }
   ],
   "source": [
    "times = []\n",
    "\n",
    "for i in range(num_rep):\n",
    "    start = time()\n",
    "    output_dist = start_SOGA(cfg)\n",
    "    end = time()\n",
    "    times.append(end-start)\n",
    "    \n",
    "print('Computation completed in ', np.mean(times))\n",
    "print('N. components:', output_dist.gm.n_comp())\n",
    "\n",
    "output_dist.gm.mean()[-1]"
   ]
  },
  {
   "cell_type": "markdown",
   "id": "warming-sleeping",
   "metadata": {},
   "source": [
    "## Tracking50"
   ]
  },
  {
   "cell_type": "code",
   "execution_count": 89,
   "id": "linear-rings",
   "metadata": {},
   "outputs": [
    {
     "name": "stdout",
     "output_type": "stream",
     "text": [
      "Time to produce cfg:  0.0\n"
     ]
    }
   ],
   "source": [
    "start = time()\n",
    "cfg = produce_cfg('Tracking/Tracking50')\n",
    "end = time()\n",
    "\n",
    "print('Time to produce cfg: ', end-start)"
   ]
  },
  {
   "cell_type": "code",
   "execution_count": 90,
   "id": "broad-ideal",
   "metadata": {},
   "outputs": [
    {
     "name": "stdout",
     "output_type": "stream",
     "text": [
      "['x', 'y', 'distx', 'disty', 'dist', 'out', 'observed']\n",
      "#vars: 7\n"
     ]
    }
   ],
   "source": [
    "print(cfg.ID_list)\n",
    "print('#vars:', len(cfg.ID_list))"
   ]
  },
  {
   "cell_type": "code",
   "execution_count": 91,
   "id": "distinct-scanning",
   "metadata": {},
   "outputs": [
    {
     "name": "stdout",
     "output_type": "stream",
     "text": [
      "Computation completed in  0.1101496696472168\n",
      "N. components: 1\n"
     ]
    },
    {
     "data": {
      "text/plain": [
       "10.0"
      ]
     },
     "execution_count": 91,
     "metadata": {},
     "output_type": "execute_result"
    }
   ],
   "source": [
    "times = []\n",
    "\n",
    "for i in range(num_rep):\n",
    "    start = time()\n",
    "    output_dist = start_SOGA(cfg)\n",
    "    end = time()\n",
    "    times.append(end-start)\n",
    "    \n",
    "print('Computation completed in ', np.mean(times))\n",
    "print('N. components:', output_dist.gm.n_comp())\n",
    "\n",
    "output_dist.gm.mean()[-1]"
   ]
  },
  {
   "cell_type": "markdown",
   "id": "metallic-earthquake",
   "metadata": {},
   "source": [
    "## Tracking100"
   ]
  },
  {
   "cell_type": "code",
   "execution_count": 92,
   "id": "velvet-advocacy",
   "metadata": {},
   "outputs": [
    {
     "name": "stdout",
     "output_type": "stream",
     "text": [
      "Time to produce cfg:  0.00500941276550293\n"
     ]
    }
   ],
   "source": [
    "start = time()\n",
    "cfg = produce_cfg('Tracking/Tracking100')\n",
    "end = time()\n",
    "\n",
    "print('Time to produce cfg: ', end-start)"
   ]
  },
  {
   "cell_type": "code",
   "execution_count": 93,
   "id": "adapted-madonna",
   "metadata": {},
   "outputs": [
    {
     "name": "stdout",
     "output_type": "stream",
     "text": [
      "['x', 'y', 'distx', 'disty', 'dist', 'out', 'observed']\n",
      "#vars: 7\n"
     ]
    }
   ],
   "source": [
    "print(cfg.ID_list)\n",
    "print('#vars:', len(cfg.ID_list))"
   ]
  },
  {
   "cell_type": "code",
   "execution_count": 94,
   "id": "patent-interference",
   "metadata": {},
   "outputs": [
    {
     "name": "stdout",
     "output_type": "stream",
     "text": [
      "Computation completed in  0.18774197101593018\n",
      "N. components: 1\n"
     ]
    },
    {
     "data": {
      "text/plain": [
       "10.0"
      ]
     },
     "execution_count": 94,
     "metadata": {},
     "output_type": "execute_result"
    }
   ],
   "source": [
    "times = []\n",
    "\n",
    "for i in range(num_rep):\n",
    "    start = time()\n",
    "    output_dist = start_SOGA(cfg)\n",
    "    end = time()\n",
    "    times.append(end-start)\n",
    "    \n",
    "print('Computation completed in ', np.mean(times))\n",
    "print('N. components:', output_dist.gm.n_comp())\n",
    "\n",
    "output_dist.gm.mean()[-1]"
   ]
  },
  {
   "cell_type": "markdown",
   "id": "personalized-class",
   "metadata": {},
   "source": [
    "## Tracking150"
   ]
  },
  {
   "cell_type": "code",
   "execution_count": 95,
   "id": "corrected-wichita",
   "metadata": {},
   "outputs": [
    {
     "name": "stdout",
     "output_type": "stream",
     "text": [
      "Time to produce cfg:  0.0032567977905273438\n"
     ]
    }
   ],
   "source": [
    "start = time()\n",
    "cfg = produce_cfg('Tracking/Tracking150')\n",
    "end = time()\n",
    "\n",
    "print('Time to produce cfg: ', end-start)"
   ]
  },
  {
   "cell_type": "code",
   "execution_count": 96,
   "id": "consecutive-outdoors",
   "metadata": {},
   "outputs": [
    {
     "name": "stdout",
     "output_type": "stream",
     "text": [
      "['x', 'y', 'distx', 'disty', 'dist', 'out', 'observed']\n",
      "#vars: 7\n"
     ]
    }
   ],
   "source": [
    "print(cfg.ID_list)\n",
    "print('#vars:', len(cfg.ID_list))"
   ]
  },
  {
   "cell_type": "code",
   "execution_count": 97,
   "id": "ambient-louisville",
   "metadata": {},
   "outputs": [
    {
     "name": "stdout",
     "output_type": "stream",
     "text": [
      "Computation completed in  0.26726398468017576\n",
      "N. components: 1\n"
     ]
    },
    {
     "data": {
      "text/plain": [
       "10.0"
      ]
     },
     "execution_count": 97,
     "metadata": {},
     "output_type": "execute_result"
    }
   ],
   "source": [
    "times = []\n",
    "\n",
    "for i in range(num_rep):\n",
    "    start = time()\n",
    "    output_dist = start_SOGA(cfg)\n",
    "    end = time()\n",
    "    times.append(end-start)\n",
    "    \n",
    "print('Computation completed in ', np.mean(times))\n",
    "print('N. components:', output_dist.gm.n_comp())\n",
    "\n",
    "output_dist.gm.mean()[-1]"
   ]
  },
  {
   "cell_type": "markdown",
   "id": "freelance-warner",
   "metadata": {},
   "source": [
    "# Collaborative FIltering"
   ]
  },
  {
   "cell_type": "markdown",
   "id": "willing-invalid",
   "metadata": {},
   "source": [
    "## Collaborative Filtering 1"
   ]
  },
  {
   "cell_type": "code",
   "execution_count": 98,
   "id": "technological-earth",
   "metadata": {},
   "outputs": [
    {
     "name": "stdout",
     "output_type": "stream",
     "text": [
      "Time to produce cfg:  0.01648569107055664\n"
     ]
    }
   ],
   "source": [
    "start = time()\n",
    "cfg = produce_cfg('Collaborative Filtering/CF1')\n",
    "end = time()\n",
    "\n",
    "print('Time to produce cfg: ', end-start)"
   ]
  },
  {
   "cell_type": "code",
   "execution_count": 99,
   "id": "opening-kentucky",
   "metadata": {},
   "outputs": [
    {
     "name": "stdout",
     "output_type": "stream",
     "text": [
      "['y[0]', 'y[1]', 'y[2]', 'y[3]', 'y[4]', 'y[5]', 'y[6]', 'y[7]', 'y[8]', 'y[9]', 'y[10]', 'y[11]', 'y[12]', 'y[13]', 'y[14]', 'y[15]', 'y[16]', 'y[17]', 'y[18]', 'y[19]', 'y[20]', 'y[21]', 'y[22]', 'y[23]', 'y[24]', 'y[25]', 'y[26]', 'y[27]', 'y[28]', 'y[29]', 'y[30]', 'y[31]', 'y[32]', 'y[33]', 'y[34]', 'y[35]', 'y[36]', 'y[37]', 'y[38]', 'y[39]', 'a', 'b', 'c', 'mean']\n",
      "#vars: 44\n"
     ]
    }
   ],
   "source": [
    "print(cfg.ID_list)\n",
    "print('#vars:', len(cfg.ID_list))"
   ]
  },
  {
   "cell_type": "code",
   "execution_count": 100,
   "id": "united-merit",
   "metadata": {},
   "outputs": [
    {
     "name": "stdout",
     "output_type": "stream",
     "text": [
      "Computation completed in  0.14788496494293213\n",
      "N. components: 1\n"
     ]
    },
    {
     "data": {
      "text/plain": [
       "1.8645055"
      ]
     },
     "execution_count": 100,
     "metadata": {},
     "output_type": "execute_result"
    }
   ],
   "source": [
    "times = []\n",
    "\n",
    "for i in range(num_rep):\n",
    "    start = time()\n",
    "    output_dist = start_SOGA(cfg)\n",
    "    end = time()\n",
    "    times.append(end-start)\n",
    "    \n",
    "print('Computation completed in ', np.mean(times))\n",
    "print('N. components:', output_dist.gm.n_comp())\n",
    "\n",
    "output_dist.gm.mean()[-1]"
   ]
  },
  {
   "cell_type": "markdown",
   "id": "instant-actress",
   "metadata": {},
   "source": [
    "## Collaborative Filtering 2"
   ]
  },
  {
   "cell_type": "code",
   "execution_count": 101,
   "id": "freelance-dutch",
   "metadata": {},
   "outputs": [
    {
     "name": "stdout",
     "output_type": "stream",
     "text": [
      "Time to produce cfg:  0.018189430236816406\n"
     ]
    }
   ],
   "source": [
    "start = time()\n",
    "cfg = produce_cfg('Collaborative Filtering/CF2')\n",
    "end = time()\n",
    "\n",
    "print('Time to produce cfg: ', end-start)"
   ]
  },
  {
   "cell_type": "code",
   "execution_count": 102,
   "id": "actual-investor",
   "metadata": {},
   "outputs": [
    {
     "name": "stdout",
     "output_type": "stream",
     "text": [
      "['y[0]', 'y[1]', 'y[2]', 'y[3]', 'y[4]', 'y[5]', 'y[6]', 'y[7]', 'y[8]', 'y[9]', 'y[10]', 'y[11]', 'y[12]', 'y[13]', 'y[14]', 'y[15]', 'y[16]', 'y[17]', 'y[18]', 'y[19]', 'y[20]', 'y[21]', 'y[22]', 'y[23]', 'y[24]', 'y[25]', 'y[26]', 'y[27]', 'y[28]', 'y[29]', 'y[30]', 'y[31]', 'y[32]', 'y[33]', 'y[34]', 'y[35]', 'y[36]', 'y[37]', 'y[38]', 'y[39]', 'a1', 'b1', 'a2', 'b2', 'c', 'mean1', 'mean2', 'mean']\n",
      "#vars: 48\n"
     ]
    }
   ],
   "source": [
    "print(cfg.ID_list)\n",
    "print('#vars:', len(cfg.ID_list))"
   ]
  },
  {
   "cell_type": "code",
   "execution_count": 103,
   "id": "frank-ballot",
   "metadata": {},
   "outputs": [
    {
     "name": "stdout",
     "output_type": "stream",
     "text": [
      "Computation completed in  0.16290671825408937\n",
      "N. components: 1\n"
     ]
    },
    {
     "data": {
      "text/plain": [
       "24.282717"
      ]
     },
     "execution_count": 103,
     "metadata": {},
     "output_type": "execute_result"
    }
   ],
   "source": [
    "times = []\n",
    "\n",
    "for i in range(num_rep):\n",
    "    start = time()\n",
    "    output_dist = start_SOGA(cfg)\n",
    "    end = time()\n",
    "    times.append(end-start)\n",
    "    \n",
    "print('Computation completed in ', np.mean(times))\n",
    "print('N. components:', output_dist.gm.n_comp())\n",
    "\n",
    "output_dist.gm.mean()[-1]"
   ]
  },
  {
   "cell_type": "markdown",
   "id": "stainless-settlement",
   "metadata": {},
   "source": [
    "## Collaborative Filtering 3"
   ]
  },
  {
   "cell_type": "code",
   "execution_count": 104,
   "id": "fabulous-parade",
   "metadata": {},
   "outputs": [
    {
     "name": "stdout",
     "output_type": "stream",
     "text": [
      "Time to produce cfg:  0.016040325164794922\n"
     ]
    }
   ],
   "source": [
    "start = time()\n",
    "cfg = produce_cfg('Collaborative Filtering/CF3')\n",
    "end = time()\n",
    "\n",
    "print('Time to produce cfg: ', end-start)"
   ]
  },
  {
   "cell_type": "code",
   "execution_count": 105,
   "id": "supported-citizen",
   "metadata": {},
   "outputs": [
    {
     "name": "stdout",
     "output_type": "stream",
     "text": [
      "['y[0]', 'y[1]', 'y[2]', 'y[3]', 'y[4]', 'y[5]', 'y[6]', 'y[7]', 'y[8]', 'y[9]', 'y[10]', 'y[11]', 'y[12]', 'y[13]', 'y[14]', 'y[15]', 'y[16]', 'y[17]', 'y[18]', 'y[19]', 'y[20]', 'y[21]', 'y[22]', 'y[23]', 'y[24]', 'y[25]', 'y[26]', 'y[27]', 'y[28]', 'y[29]', 'y[30]', 'y[31]', 'y[32]', 'y[33]', 'y[34]', 'y[35]', 'y[36]', 'y[37]', 'y[38]', 'y[39]', 'a1', 'b1', 'a2', 'b2', 'a3', 'b3', 'c', 'mean1', 'mean2', 'mean3', 'mean']\n",
      "#vars: 51\n"
     ]
    }
   ],
   "source": [
    "print(cfg.ID_list)\n",
    "print('#vars:', len(cfg.ID_list))"
   ]
  },
  {
   "cell_type": "code",
   "execution_count": 106,
   "id": "delayed-starter",
   "metadata": {},
   "outputs": [
    {
     "name": "stdout",
     "output_type": "stream",
     "text": [
      "Computation completed in  0.17109014987945556\n",
      "N. components: 1\n"
     ]
    },
    {
     "data": {
      "text/plain": [
       "-5.7909393"
      ]
     },
     "execution_count": 106,
     "metadata": {},
     "output_type": "execute_result"
    }
   ],
   "source": [
    "times = []\n",
    "\n",
    "for i in range(num_rep):\n",
    "    start = time()\n",
    "    output_dist = start_SOGA(cfg)\n",
    "    end = time()\n",
    "    times.append(end-start)\n",
    "    \n",
    "print('Computation completed in ', np.mean(times))\n",
    "print('N. components:', output_dist.gm.n_comp())\n",
    "\n",
    "output_dist.gm.mean()[-1]"
   ]
  },
  {
   "cell_type": "markdown",
   "id": "engaging-forty",
   "metadata": {},
   "source": [
    "## Collaborative Filtering 5"
   ]
  },
  {
   "cell_type": "code",
   "execution_count": 107,
   "id": "maritime-cooler",
   "metadata": {},
   "outputs": [
    {
     "name": "stdout",
     "output_type": "stream",
     "text": [
      "Time to produce cfg:  0.0255279541015625\n"
     ]
    }
   ],
   "source": [
    "start = time()\n",
    "cfg = produce_cfg('Collaborative Filtering/CF5')\n",
    "end = time()\n",
    "\n",
    "print('Time to produce cfg: ', end-start)"
   ]
  },
  {
   "cell_type": "code",
   "execution_count": 108,
   "id": "thorough-christmas",
   "metadata": {},
   "outputs": [
    {
     "name": "stdout",
     "output_type": "stream",
     "text": [
      "['y[0]', 'y[1]', 'y[2]', 'y[3]', 'y[4]', 'y[5]', 'y[6]', 'y[7]', 'y[8]', 'y[9]', 'y[10]', 'y[11]', 'y[12]', 'y[13]', 'y[14]', 'y[15]', 'y[16]', 'y[17]', 'y[18]', 'y[19]', 'y[20]', 'y[21]', 'y[22]', 'y[23]', 'y[24]', 'y[25]', 'y[26]', 'y[27]', 'y[28]', 'y[29]', 'y[30]', 'y[31]', 'y[32]', 'y[33]', 'y[34]', 'y[35]', 'y[36]', 'y[37]', 'y[38]', 'y[39]', 'a1', 'b1', 'a2', 'b2', 'a3', 'b3', 'a4', 'b4', 'a5', 'b5', 'c', 'mean1', 'mean2', 'mean3', 'mean4', 'mean5', 'mean']\n",
      "#vars: 57\n"
     ]
    }
   ],
   "source": [
    "print(cfg.ID_list)\n",
    "print('#vars:', len(cfg.ID_list))"
   ]
  },
  {
   "cell_type": "code",
   "execution_count": 109,
   "id": "registered-electronics",
   "metadata": {},
   "outputs": [
    {
     "name": "stdout",
     "output_type": "stream",
     "text": [
      "Computation completed in  0.20020630359649658\n",
      "N. components: 1\n"
     ]
    },
    {
     "data": {
      "text/plain": [
       "-31.984488"
      ]
     },
     "execution_count": 109,
     "metadata": {},
     "output_type": "execute_result"
    }
   ],
   "source": [
    "times = []\n",
    "\n",
    "for i in range(num_rep):\n",
    "    start = time()\n",
    "    output_dist = start_SOGA(cfg)\n",
    "    end = time()\n",
    "    times.append(end-start)\n",
    "    \n",
    "print('Computation completed in ', np.mean(times))\n",
    "print('N. components:', output_dist.gm.n_comp())\n",
    "\n",
    "output_dist.gm.mean()[-1]"
   ]
  },
  {
   "cell_type": "markdown",
   "id": "challenging-crazy",
   "metadata": {},
   "source": [
    "## Collaborative Filtering 10"
   ]
  },
  {
   "cell_type": "code",
   "execution_count": 110,
   "id": "arctic-sense",
   "metadata": {},
   "outputs": [
    {
     "name": "stdout",
     "output_type": "stream",
     "text": [
      "Time to produce cfg:  0.03332853317260742\n"
     ]
    }
   ],
   "source": [
    "start = time()\n",
    "cfg = produce_cfg('Collaborative Filtering/CF10')\n",
    "end = time()\n",
    "\n",
    "print('Time to produce cfg: ', end-start)"
   ]
  },
  {
   "cell_type": "code",
   "execution_count": 111,
   "id": "decent-facing",
   "metadata": {},
   "outputs": [
    {
     "name": "stdout",
     "output_type": "stream",
     "text": [
      "['y[0]', 'y[1]', 'y[2]', 'y[3]', 'y[4]', 'y[5]', 'y[6]', 'y[7]', 'y[8]', 'y[9]', 'y[10]', 'y[11]', 'y[12]', 'y[13]', 'y[14]', 'y[15]', 'y[16]', 'y[17]', 'y[18]', 'y[19]', 'y[20]', 'y[21]', 'y[22]', 'y[23]', 'y[24]', 'y[25]', 'y[26]', 'y[27]', 'y[28]', 'y[29]', 'y[30]', 'y[31]', 'y[32]', 'y[33]', 'y[34]', 'y[35]', 'y[36]', 'y[37]', 'y[38]', 'y[39]', 'a1', 'b1', 'a2', 'b2', 'a3', 'b3', 'a4', 'b4', 'a5', 'b5', 'a6', 'b6', 'a7', 'b7', 'a8', 'b8', 'a9', 'b9', 'a10', 'b10', 'c', 'mean1', 'mean2', 'mean3', 'mean4', 'mean5', 'mean6', 'mean7', 'mean8', 'mean9', 'mean10', 'mean']\n",
      "#vars: 72\n"
     ]
    }
   ],
   "source": [
    "print(cfg.ID_list)\n",
    "print('#vars:', len(cfg.ID_list))"
   ]
  },
  {
   "cell_type": "code",
   "execution_count": 112,
   "id": "atmospheric-mining",
   "metadata": {},
   "outputs": [
    {
     "name": "stdout",
     "output_type": "stream",
     "text": [
      "Computation completed in  0.2711367607116699\n",
      "N. components: 1\n"
     ]
    },
    {
     "data": {
      "text/plain": [
       "149.75401"
      ]
     },
     "execution_count": 112,
     "metadata": {},
     "output_type": "execute_result"
    }
   ],
   "source": [
    "times = []\n",
    "\n",
    "for i in range(num_rep):\n",
    "    start = time()\n",
    "    output_dist = start_SOGA(cfg)\n",
    "    end = time()\n",
    "    times.append(end-start)\n",
    "    \n",
    "print('Computation completed in ', np.mean(times))\n",
    "print('N. components:', output_dist.gm.n_comp())\n",
    "\n",
    "output_dist.gm.mean()[-1]"
   ]
  },
  {
   "cell_type": "markdown",
   "id": "moved-fault",
   "metadata": {},
   "source": [
    "## Collaborative Filtering 20"
   ]
  },
  {
   "cell_type": "code",
   "execution_count": 113,
   "id": "cardiac-reader",
   "metadata": {},
   "outputs": [
    {
     "name": "stdout",
     "output_type": "stream",
     "text": [
      "Time to produce cfg:  0.0447385311126709\n"
     ]
    }
   ],
   "source": [
    "start = time()\n",
    "cfg = produce_cfg('Collaborative Filtering/CF20')\n",
    "end = time()\n",
    "\n",
    "print('Time to produce cfg: ', end-start)"
   ]
  },
  {
   "cell_type": "code",
   "execution_count": 114,
   "id": "outer-longer",
   "metadata": {},
   "outputs": [
    {
     "name": "stdout",
     "output_type": "stream",
     "text": [
      "['y[0]', 'y[1]', 'y[2]', 'y[3]', 'y[4]', 'y[5]', 'y[6]', 'y[7]', 'y[8]', 'y[9]', 'y[10]', 'y[11]', 'y[12]', 'y[13]', 'y[14]', 'y[15]', 'y[16]', 'y[17]', 'y[18]', 'y[19]', 'y[20]', 'y[21]', 'y[22]', 'y[23]', 'y[24]', 'y[25]', 'y[26]', 'y[27]', 'y[28]', 'y[29]', 'y[30]', 'y[31]', 'y[32]', 'y[33]', 'y[34]', 'y[35]', 'y[36]', 'y[37]', 'y[38]', 'y[39]', 'a1', 'b1', 'a2', 'b2', 'a3', 'b3', 'a4', 'b4', 'a5', 'b5', 'a6', 'b6', 'a7', 'b7', 'a8', 'b8', 'a9', 'b9', 'a10', 'b10', 'a11', 'b11', 'a12', 'b12', 'a13', 'b13', 'a14', 'b14', 'a15', 'b15', 'a16', 'b16', 'a17', 'b17', 'a18', 'b18', 'a19', 'b19', 'a20', 'b20', 'c', 'mean1', 'mean2', 'mean3', 'mean4', 'mean5', 'mean6', 'mean7', 'mean8', 'mean9', 'mean10', 'mean11', 'mean12', 'mean13', 'mean14', 'mean15', 'mean16', 'mean17', 'mean18', 'mean19', 'mean20', 'mean']\n",
      "#vars: 102\n"
     ]
    }
   ],
   "source": [
    "print(cfg.ID_list)\n",
    "print('#vars:', len(cfg.ID_list))"
   ]
  },
  {
   "cell_type": "code",
   "execution_count": 115,
   "id": "productive-impossible",
   "metadata": {},
   "outputs": [
    {
     "name": "stdout",
     "output_type": "stream",
     "text": [
      "Computation completed in  0.5601183176040649\n",
      "N. components: 1\n"
     ]
    },
    {
     "data": {
      "text/plain": [
       "73.76569"
      ]
     },
     "execution_count": 115,
     "metadata": {},
     "output_type": "execute_result"
    }
   ],
   "source": [
    "times = []\n",
    "\n",
    "for i in range(num_rep):\n",
    "    start = time()\n",
    "    output_dist = start_SOGA(cfg)\n",
    "    end = time()\n",
    "    times.append(end-start)\n",
    "    \n",
    "print('Computation completed in ', np.mean(times))\n",
    "print('N. components:', output_dist.gm.n_comp())\n",
    "\n",
    "output_dist.gm.mean()[-1]"
   ]
  },
  {
   "cell_type": "code",
   "execution_count": null,
   "id": "celtic-resort",
   "metadata": {},
   "outputs": [],
   "source": []
  }
 ],
 "metadata": {
  "kernelspec": {
   "display_name": "Python 3",
   "language": "python",
   "name": "python3"
  },
  "language_info": {
   "codemirror_mode": {
    "name": "ipython",
    "version": 3
   },
   "file_extension": ".py",
   "mimetype": "text/x-python",
   "name": "python",
   "nbconvert_exporter": "python",
   "pygments_lexer": "ipython3",
   "version": "3.8.5"
  },
  "toc": {
   "base_numbering": 1,
   "nav_menu": {},
   "number_sections": true,
   "sideBar": true,
   "skip_h1_title": false,
   "title_cell": "Table of Contents",
   "title_sidebar": "Contents",
   "toc_cell": false,
   "toc_position": {
    "height": "calc(100% - 180px)",
    "left": "10px",
    "top": "150px",
    "width": "341.306px"
   },
   "toc_section_display": true,
   "toc_window_display": true
  }
 },
 "nbformat": 4,
 "nbformat_minor": 5
}
