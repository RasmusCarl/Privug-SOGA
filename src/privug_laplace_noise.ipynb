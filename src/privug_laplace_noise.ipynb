{
 "cells": [
  {
   "cell_type": "code",
   "execution_count": 63,
   "metadata": {},
   "outputs": [],
   "source": [
    "import numpy as np\n",
    "import matplotlib.pyplot as plt\n",
    "\n",
    "from sogaPreprocessor import *\n",
    "from producecfg import *\n",
    "from libSOGA import *"
   ]
  },
  {
   "cell_type": "markdown",
   "metadata": {},
   "source": [
    "## Laplace example 4 - 20 variables, Gaussian prior"
   ]
  },
  {
   "cell_type": "raw",
   "metadata": {},
   "source": [
    "with pm.Model() as laplace_dp_no_obs:\n",
    "    DB_size = 20\n",
    "    num_lower = 2\n",
    "    inc_lower = pm.Normall('inc_lower',300, 100, shape=num_lower)\n",
    "    inc_higher = pm.Normal('inc_higher',450, 150, shape=DB_size-num_lower)\n",
    "    avg_income = (inc_lower.sum() + inc_higher.sum()) / DB_size\n",
    "    Delta = 600/DB_size # sensitivity\n",
    "    epsilon = 1\n",
    "    noise = pm.Laplace('noise',mu=0,b=Delta/epsilon) # the variance of this Laplace distribution is 2b^2\n",
    "    output = pm.Deterministic('output', avg_income + noise) # this operation only shifts the mean of the Laplace\n",
    "    trace_no_obs = pm.sample(20000)"
   ]
  },
  {
   "cell_type": "code",
   "execution_count": 61,
   "metadata": {},
   "outputs": [
    {
     "name": "stdout",
     "output_type": "stream",
     "text": [
      "Mean:  434.644\n",
      "Var:  2863.116\n"
     ]
    }
   ],
   "source": [
    "output4pymc = np.loadtxt(\"../programs/SOGA/Privug/rasmus/Laplace/output4.txt\")\n",
    "print('Mean: ', np.round(np.mean(output4pymc), 3))\n",
    "print('Var: ', np.round(np.var(output4pymc), 3))"
   ]
  },
  {
   "cell_type": "code",
   "execution_count": 2,
   "metadata": {},
   "outputs": [
    {
     "name": "stderr",
     "output_type": "stream",
     "text": [
      "Auto-assigning NUTS sampler...\n",
      "Initializing NUTS using jitter+adapt_diag...\n",
      "Multiprocess sampling (4 chains in 4 jobs)\n",
      "NUTS: [inc_lower, inc_higher, noise]\n"
     ]
    },
    {
     "data": {
      "text/html": [
       "\n",
       "<style>\n",
       "    /* Turns off some styling */\n",
       "    progress {\n",
       "        /* gets rid of default border in Firefox and Opera. */\n",
       "        border: none;\n",
       "        /* Needs to be in here for Safari polyfill so background images work as expected. */\n",
       "        background-size: auto;\n",
       "    }\n",
       "    progress:not([value]), progress:not([value])::-webkit-progress-bar {\n",
       "        background: repeating-linear-gradient(45deg, #7e7e7e, #7e7e7e 10px, #5c5c5c 10px, #5c5c5c 20px);\n",
       "    }\n",
       "    .progress-bar-interrupted, .progress-bar-interrupted::-webkit-progress-bar {\n",
       "        background: #F44336;\n",
       "    }\n",
       "</style>\n"
      ],
      "text/plain": [
       "<IPython.core.display.HTML object>"
      ]
     },
     "metadata": {},
     "output_type": "display_data"
    },
    {
     "data": {
      "text/html": [
       "\n",
       "    <div>\n",
       "      <progress value='84000' class='' max='84000' style='width:300px; height:20px; vertical-align: middle;'></progress>\n",
       "      100.00% [84000/84000 00:34&lt;00:00 Sampling 4 chains, 0 divergences]\n",
       "    </div>\n",
       "    "
      ],
      "text/plain": [
       "<IPython.core.display.HTML object>"
      ]
     },
     "metadata": {},
     "output_type": "display_data"
    },
    {
     "name": "stderr",
     "output_type": "stream",
     "text": [
      "Sampling 4 chains for 1_000 tune and 20_000 draw iterations (4_000 + 80_000 draws total) took 34 seconds.\n"
     ]
    }
   ],
   "source": [
    "with pm.Model() as laplace_dp_no_obs:\n",
    "    DB_size = 20\n",
    "    num_lower = 2\n",
    "    inc_lower = pm.Uniform('inc_lower',200, 400, shape=num_lower)\n",
    "    inc_higher = pm.Uniform('inc_higher',300, 600, shape=DB_size-num_lower)\n",
    "    avg_income = (inc_lower.sum() + inc_higher.sum()) / DB_size\n",
    "    Delta = 600/DB_size # sensitivity\n",
    "    epsilon = 1\n",
    "    noise = pm.Laplace('noise',mu=0,b=Delta/epsilon) # the variance of this Laplace distribution is 2b^2\n",
    "    output = pm.Deterministic('output', avg_income + noise) # this operation only shifts the mean of the Laplace\n",
    "    trace_no_obs = pm.sample(20000)\n",
    "\n"
   ]
  },
  {
   "cell_type": "code",
   "execution_count": 65,
   "metadata": {},
   "outputs": [
    {
     "name": "stdout",
     "output_type": "stream",
     "text": [
      "Computed in 0.02\n"
     ]
    }
   ],
   "source": [
    "file = '../programs/SOGA/Privug/rasmus/Laplace/Laplace4.soga'\n",
    "compiledFile = compile2SOGA(file)\n",
    "cfg = produce_cfg(compiledFile)\n",
    "\n",
    "start = time()\n",
    "output4soga = start_SOGA(cfg)\n",
    "end = time()\n",
    "print('Computed in {}'.format(np.round(end-start,2)))"
   ]
  },
  {
   "cell_type": "code",
   "execution_count": 69,
   "metadata": {},
   "outputs": [
    {
     "name": "stdout",
     "output_type": "stream",
     "text": [
      "Mean:  435.0\n",
      "Var:  2869.149\n"
     ]
    }
   ],
   "source": [
    "idx = output4soga.var_list.index('sum')\n",
    "\n",
    "mean_soga = output4soga.gm.mean()[idx]\n",
    "var_soga = output4soga.gm.cov()[idx, idx]\n",
    "std_soga = np.sqrt(var_soga)\n",
    "\n",
    "print('Mean: ', np.round(mean_soga, 3))\n",
    "print('Var: ', np.round(var_soga, 3))"
   ]
  },
  {
   "cell_type": "code",
   "execution_count": 72,
   "metadata": {},
   "outputs": [
    {
     "data": {
      "image/png": "[encoded data removed]",
      "text/plain": [
       "<Figure size 640x480 with 1 Axes>"
      ]
     },
     "metadata": {},
     "output_type": "display_data"
    }
   ],
   "source": [
    "x = np.linspace(mean_soga-5*std_soga, mean_soga+5*std_soga, 250)\n",
    "\n",
    "_ = plt.hist(output4pymc, bins=150, density=True, label='PyMC')\n",
    "_ = plt.plot(x, output4soga.gm.marg_pdf(x,idx), label='SOGA')\n",
    "_ = plt.legend()"
   ]
  },
  {
   "cell_type": "markdown",
   "metadata": {},
   "source": [
    "## Laplace example 3 - 10 variables, Uniform prior"
   ]
  },
  {
   "cell_type": "raw",
   "metadata": {},
   "source": [
    "with pm.Model() as laplace_dp_no_obs:\n",
    "    DB_size = 10\n",
    "    num_lower = 2\n",
    "    inc_lower = pm.Uniform('inc_lower',200, 400, shape=num_lower)\n",
    "    inc_higher = pm.Uniform('inc_higher',300, 600, shape=DB_size-num_lower)\n",
    "    avg_income = (inc_lower.sum() + inc_higher.sum()) / DB_size\n",
    "    Delta = 600/DB_size # sensitivity\n",
    "    epsilon = 1\n",
    "    noise = pm.Laplace('noise',mu=0,b=Delta/epsilon) # the variance of this Laplace distribution is 2b^2\n",
    "    output = pm.Deterministic('output', avg_income + noise) # this operation only shifts the mean of the Laplace\n",
    "    trace_no_obs = pm.sample(20000)"
   ]
  },
  {
   "cell_type": "code",
   "execution_count": 75,
   "metadata": {},
   "outputs": [
    {
     "name": "stdout",
     "output_type": "stream",
     "text": [
      "Mean:  419.933\n",
      "Var:  7864.459\n"
     ]
    }
   ],
   "source": [
    "output3pymc = np.loadtxt(\"../programs/SOGA/Privug/rasmus/Laplace/output3.txt\")\n",
    "print('Mean: ', np.round(np.mean(output3pymc), 3))\n",
    "print('Var: ', np.round(np.var(output3pymc), 3))"
   ]
  },
  {
   "cell_type": "code",
   "execution_count": 76,
   "metadata": {},
   "outputs": [
    {
     "name": "stdout",
     "output_type": "stream",
     "text": [
      "Computed in 1.13\n"
     ]
    }
   ],
   "source": [
    "file = '../programs/SOGA/Privug/rasmus/Laplace/Laplace3.soga'\n",
    "compiledFile = compile2SOGA(file)\n",
    "cfg = produce_cfg(compiledFile)\n",
    "\n",
    "start = time()\n",
    "output3soga = start_SOGA(cfg)\n",
    "end = time()\n",
    "print('Computed in {}'.format(np.round(end-start,2)))"
   ]
  },
  {
   "cell_type": "code",
   "execution_count": 77,
   "metadata": {},
   "outputs": [
    {
     "name": "stdout",
     "output_type": "stream",
     "text": [
      "Mean:  420.008\n",
      "Var:  7893.177\n"
     ]
    }
   ],
   "source": [
    "idx = output3soga.var_list.index('sum')\n",
    "\n",
    "mean_soga = output3soga.gm.mean()[idx]\n",
    "var_soga = output3soga.gm.cov()[idx, idx]\n",
    "std_soga = np.sqrt(var_soga)\n",
    "\n",
    "print('Mean: ', np.round(mean_soga, 3))\n",
    "print('Var: ', np.round(var_soga, 3))"
   ]
  },
  {
   "cell_type": "code",
   "execution_count": 78,
   "metadata": {},
   "outputs": [
    {
     "data": {
      "image/png": "[encoded data removed]",
      "text/plain": [
       "<Figure size 640x480 with 1 Axes>"
      ]
     },
     "metadata": {},
     "output_type": "display_data"
    }
   ],
   "source": [
    "x = np.linspace(mean_soga-5*std_soga, mean_soga+5*std_soga, 250)\n",
    "\n",
    "_ = plt.hist(output3pymc, bins=150, density=True, label='PyMC')\n",
    "_ = plt.plot(x, output3soga.gm.marg_pdf(x,idx), label='SOGA')\n",
    "_ = plt.legend()"
   ]
  },
  {
   "cell_type": "code",
   "execution_count": null,
   "metadata": {},
   "outputs": [],
   "source": []
  }
 ],
 "metadata": {
  "kernelspec": {
   "display_name": "Python 3 (ipykernel)",
   "language": "python",
   "name": "python3"
  },
  "language_info": {
   "codemirror_mode": {
    "name": "ipython",
    "version": 3
   },
   "file_extension": ".py",
   "mimetype": "text/x-python",
   "name": "python",
   "nbconvert_exporter": "python",
   "pygments_lexer": "ipython3",
   "version": "3.11.5"
  }
 },
 "nbformat": 4,
 "nbformat_minor": 2
}
