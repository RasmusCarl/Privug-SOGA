{
 "cells": [
  {
   "cell_type": "code",
   "execution_count": 1,
   "id": "e601c53a",
   "metadata": {},
   "outputs": [],
   "source": [
    "from sogaPreprocessor import *\n",
    "from producecfg import *\n",
    "from libSOGA import *\n"
   ]
  },
  {
   "cell_type": "code",
   "execution_count": 2,
   "id": "6a4a8831",
   "metadata": {},
   "outputs": [],
   "source": [
    "compiledFile=compile2SOGA('../programs/SOGA/Bernoulli.soga')"
   ]
  },
  {
   "cell_type": "code",
   "execution_count": 3,
   "id": "a91041d6",
   "metadata": {},
   "outputs": [],
   "source": [
    "cfg = produce_cfg(compiledFile)"
   ]
  },
  {
   "cell_type": "code",
   "execution_count": null,
   "id": "576f4fdd",
   "metadata": {},
   "outputs": [],
   "source": [
    "output_dist = start_SOGA(cfg)"
   ]
  },
  {
   "cell_type": "code",
   "execution_count": null,
   "id": "800b35ed",
   "metadata": {},
   "outputs": [],
   "source": [
    "output_dist"
   ]
  },
  {
   "cell_type": "code",
   "execution_count": null,
   "id": "5b29cbca",
   "metadata": {},
   "outputs": [],
   "source": [
    "output_dist.var_list"
   ]
  },
  {
   "cell_type": "code",
   "execution_count": null,
   "id": "5f943dca",
   "metadata": {},
   "outputs": [],
   "source": [
    "output_dist.gm"
   ]
  },
  {
   "cell_type": "code",
   "execution_count": null,
   "id": "e424e02f",
   "metadata": {},
   "outputs": [],
   "source": [
    "output_dist.gm.n_comp()"
   ]
  },
  {
   "cell_type": "code",
   "execution_count": null,
   "id": "b55ce31b",
   "metadata": {},
   "outputs": [],
   "source": [
    "output_dist.gm.mean()"
   ]
  },
  {
   "cell_type": "code",
   "execution_count": null,
   "id": "d4bdf596",
   "metadata": {},
   "outputs": [],
   "source": [
    "output_dist.gm.cov()"
   ]
  },
  {
   "cell_type": "code",
   "execution_count": null,
   "id": "106c63fd",
   "metadata": {},
   "outputs": [],
   "source": [
    "import matplotlib.pyplot as plt\n",
    "\n",
    "x = np.linspace(0,1,100)\n",
    "y = [output_dist.gm.marg_pdf(xi,0) for xi in x]\n",
    "\n",
    "plt.plot(x,y)"
   ]
  },
  {
   "cell_type": "code",
   "execution_count": null,
   "id": "34fe2d2f",
   "metadata": {},
   "outputs": [],
   "source": []
  },
  {
   "cell_type": "code",
   "execution_count": null,
   "id": "16b76d83",
   "metadata": {},
   "outputs": [],
   "source": []
  }
 ],
 "metadata": {
  "kernelspec": {
   "display_name": "Python 3 (ipykernel)",
   "language": "python",
   "name": "python3"
  },
  "language_info": {
   "codemirror_mode": {
    "name": "ipython",
    "version": 3
   },
   "file_extension": ".py",
   "mimetype": "text/x-python",
   "name": "python",
   "nbconvert_exporter": "python",
   "pygments_lexer": "ipython3",
   "version": "3.11.5"
  }
 },
 "nbformat": 4,
 "nbformat_minor": 5
}
