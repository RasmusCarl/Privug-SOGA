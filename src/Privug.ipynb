{
 "cells": [
  {
   "cell_type": "code",
   "execution_count": 3,
   "id": "2f0d57f6-b8c4-48e7-b1cc-2818965c3377",
   "metadata": {
    "tags": []
   },
   "outputs": [],
   "source": [
    "import math\n",
    "#SOGA\n",
    "from sogaPreprocessor import *\n",
    "from producecfg import *\n",
    "from libSOGA import *\n",
    "#Plotting\n",
    "from scipy.stats import norm\n",
    "from matplotlib import pyplot as plt"
   ]
  },
  {
   "cell_type": "code",
   "execution_count": 4,
   "id": "9df4b907-d4aa-4127-8339-83f00524d67e",
   "metadata": {
    "tags": []
   },
   "outputs": [
    {
     "name": "stderr",
     "output_type": "stream",
     "text": [
      "line 10:10 no viable alternative at input 'w='\n",
      "line 1:1 token recognition error at: '=3'\n",
      "line 1:3 no viable alternative at input 'w80'\n"
     ]
    },
    {
     "ename": "IndexError",
     "evalue": "index 0 is out of bounds for axis 0 with size 0",
     "output_type": "error",
     "traceback": [
      "\u001b[0;31m---------------------------------------------------------------------------\u001b[0m",
      "\u001b[0;31mIndexError\u001b[0m                                Traceback (most recent call last)",
      "Cell \u001b[0;32mIn[4], line 4\u001b[0m\n\u001b[1;32m      2\u001b[0m compiledFile_test\u001b[38;5;241m=\u001b[39mtransform2gm(\u001b[38;5;124m'\u001b[39m\u001b[38;5;124m../programs/SOGA/PrivugPrograms/test.soga\u001b[39m\u001b[38;5;124m'\u001b[39m)\n\u001b[1;32m      3\u001b[0m cfg_test \u001b[38;5;241m=\u001b[39m produce_cfg(compiledFile_test)\n\u001b[0;32m----> 4\u001b[0m output_dist_test \u001b[38;5;241m=\u001b[39m soga_analyze(cfg_test)\n\u001b[1;32m      5\u001b[0m \u001b[38;5;28mprint\u001b[39m(output_dist_test\u001b[38;5;241m.\u001b[39mvar_list)\n\u001b[1;32m      6\u001b[0m \u001b[38;5;28mprint\u001b[39m(output_dist_test\u001b[38;5;241m.\u001b[39mgm\u001b[38;5;241m.\u001b[39mmean())\n",
      "File \u001b[0;32m~/Work/SOGA/src/libSOGA.py:31\u001b[0m, in \u001b[0;36msoga_analyze\u001b[0;34m(cfg, pruning, Kmax, parallel)\u001b[0m\n\u001b[1;32m     29\u001b[0m gm \u001b[38;5;241m=\u001b[39m GaussianMix([\u001b[38;5;241m1.\u001b[39m], [np\u001b[38;5;241m.\u001b[39marray([\u001b[38;5;241m0.\u001b[39m]\u001b[38;5;241m*\u001b[39m\u001b[38;5;28mlen\u001b[39m(var_list))], [np\u001b[38;5;241m.\u001b[39mzeros((\u001b[38;5;28mlen\u001b[39m(var_list),\u001b[38;5;28mlen\u001b[39m(var_list)))])\n\u001b[1;32m     30\u001b[0m init_dist \u001b[38;5;241m=\u001b[39m Dist(var_list, gm)\n\u001b[0;32m---> 31\u001b[0m SOGA(cfg\u001b[38;5;241m.\u001b[39mroot, \u001b[38;5;241m1\u001b[39m, init_dist, \u001b[38;5;28;01mNone\u001b[39;00m, data, parallel)\n\u001b[1;32m     32\u001b[0m p, current_dist \u001b[38;5;241m=\u001b[39m merge(cfg\u001b[38;5;241m.\u001b[39mnode_list[\u001b[38;5;124m'\u001b[39m\u001b[38;5;124mexit\u001b[39m\u001b[38;5;124m'\u001b[39m]\u001b[38;5;241m.\u001b[39mlist_dist)\n\u001b[1;32m     33\u001b[0m \u001b[38;5;66;03m#print('Truncations:', timing.num_trunc, 'total:', sum(timing.trunc_time))\u001b[39;00m\n\u001b[1;32m     34\u001b[0m \u001b[38;5;66;03m#print('Updates:', len(timing.update_time), 'total:', sum(timing.update_time))\u001b[39;00m\n\u001b[1;32m     35\u001b[0m \u001b[38;5;66;03m#print('Pruning:', len(timing.prune_time), 'total:', sum(timing.prune_time))\u001b[39;00m\n",
      "File \u001b[0;32m~/Work/SOGA/src/libSOGA.py:47\u001b[0m, in \u001b[0;36mSOGA\u001b[0;34m(node, current_p, current_dist, current_trunc, data, parallel)\u001b[0m\n\u001b[1;32m     45\u001b[0m \u001b[38;5;28;01mif\u001b[39;00m node\u001b[38;5;241m.\u001b[39mtype \u001b[38;5;241m==\u001b[39m \u001b[38;5;124m'\u001b[39m\u001b[38;5;124mentry\u001b[39m\u001b[38;5;124m'\u001b[39m:\n\u001b[1;32m     46\u001b[0m     \u001b[38;5;28;01mfor\u001b[39;00m child \u001b[38;5;129;01min\u001b[39;00m node\u001b[38;5;241m.\u001b[39mchildren:\n\u001b[0;32m---> 47\u001b[0m         SOGA(child, deepcopy(current_p), deepcopy(current_dist), deepcopy(current_trunc), data, parallel)\n\u001b[1;32m     49\u001b[0m \u001b[38;5;66;03m# if tests saves LBC and calls on children\u001b[39;00m\n\u001b[1;32m     50\u001b[0m \u001b[38;5;28;01mif\u001b[39;00m node\u001b[38;5;241m.\u001b[39mtype \u001b[38;5;241m==\u001b[39m \u001b[38;5;124m'\u001b[39m\u001b[38;5;124mtest\u001b[39m\u001b[38;5;124m'\u001b[39m:\n",
      "File \u001b[0;32m~/Work/SOGA/src/libSOGA.py:108\u001b[0m, in \u001b[0;36mSOGA\u001b[0;34m(node, current_p, current_dist, current_trunc, data, parallel)\u001b[0m\n\u001b[1;32m    106\u001b[0m     \u001b[38;5;28;01mif\u001b[39;00m node\u001b[38;5;241m.\u001b[39mchildren[\u001b[38;5;241m0\u001b[39m]\u001b[38;5;241m.\u001b[39mtype \u001b[38;5;241m==\u001b[39m \u001b[38;5;124m'\u001b[39m\u001b[38;5;124mloop\u001b[39m\u001b[38;5;124m'\u001b[39m \u001b[38;5;129;01mand\u001b[39;00m \u001b[38;5;129;01mnot\u001b[39;00m data[node\u001b[38;5;241m.\u001b[39mchildren[\u001b[38;5;241m0\u001b[39m]\u001b[38;5;241m.\u001b[39midx][\u001b[38;5;241m0\u001b[39m] \u001b[38;5;129;01mis\u001b[39;00m \u001b[38;5;28;01mNone\u001b[39;00m:\n\u001b[1;32m    107\u001b[0m         data[node\u001b[38;5;241m.\u001b[39mchildren[\u001b[38;5;241m0\u001b[39m]\u001b[38;5;241m.\u001b[39midx][\u001b[38;5;241m0\u001b[39m] \u001b[38;5;241m+\u001b[39m\u001b[38;5;241m=\u001b[39m \u001b[38;5;241m1\u001b[39m\n\u001b[0;32m--> 108\u001b[0m     SOGA(node\u001b[38;5;241m.\u001b[39mchildren[\u001b[38;5;241m0\u001b[39m], deepcopy(current_p), deepcopy(current_dist), deepcopy(current_trunc), data, parallel)\n\u001b[1;32m    110\u001b[0m \u001b[38;5;66;03m# if observe truncates to LBC and calls on children\u001b[39;00m\n\u001b[1;32m    111\u001b[0m \u001b[38;5;28;01mif\u001b[39;00m node\u001b[38;5;241m.\u001b[39mtype \u001b[38;5;241m==\u001b[39m \u001b[38;5;124m'\u001b[39m\u001b[38;5;124mobserve\u001b[39m\u001b[38;5;124m'\u001b[39m:\n",
      "File \u001b[0;32m~/Work/SOGA/src/libSOGA.py:108\u001b[0m, in \u001b[0;36mSOGA\u001b[0;34m(node, current_p, current_dist, current_trunc, data, parallel)\u001b[0m\n\u001b[1;32m    106\u001b[0m     \u001b[38;5;28;01mif\u001b[39;00m node\u001b[38;5;241m.\u001b[39mchildren[\u001b[38;5;241m0\u001b[39m]\u001b[38;5;241m.\u001b[39mtype \u001b[38;5;241m==\u001b[39m \u001b[38;5;124m'\u001b[39m\u001b[38;5;124mloop\u001b[39m\u001b[38;5;124m'\u001b[39m \u001b[38;5;129;01mand\u001b[39;00m \u001b[38;5;129;01mnot\u001b[39;00m data[node\u001b[38;5;241m.\u001b[39mchildren[\u001b[38;5;241m0\u001b[39m]\u001b[38;5;241m.\u001b[39midx][\u001b[38;5;241m0\u001b[39m] \u001b[38;5;129;01mis\u001b[39;00m \u001b[38;5;28;01mNone\u001b[39;00m:\n\u001b[1;32m    107\u001b[0m         data[node\u001b[38;5;241m.\u001b[39mchildren[\u001b[38;5;241m0\u001b[39m]\u001b[38;5;241m.\u001b[39midx][\u001b[38;5;241m0\u001b[39m] \u001b[38;5;241m+\u001b[39m\u001b[38;5;241m=\u001b[39m \u001b[38;5;241m1\u001b[39m\n\u001b[0;32m--> 108\u001b[0m     SOGA(node\u001b[38;5;241m.\u001b[39mchildren[\u001b[38;5;241m0\u001b[39m], deepcopy(current_p), deepcopy(current_dist), deepcopy(current_trunc), data, parallel)\n\u001b[1;32m    110\u001b[0m \u001b[38;5;66;03m# if observe truncates to LBC and calls on children\u001b[39;00m\n\u001b[1;32m    111\u001b[0m \u001b[38;5;28;01mif\u001b[39;00m node\u001b[38;5;241m.\u001b[39mtype \u001b[38;5;241m==\u001b[39m \u001b[38;5;124m'\u001b[39m\u001b[38;5;124mobserve\u001b[39m\u001b[38;5;124m'\u001b[39m:\n",
      "    \u001b[0;31m[... skipping similar frames: SOGA at line 108 (2 times)]\u001b[0m\n",
      "File \u001b[0;32m~/Work/SOGA/src/libSOGA.py:108\u001b[0m, in \u001b[0;36mSOGA\u001b[0;34m(node, current_p, current_dist, current_trunc, data, parallel)\u001b[0m\n\u001b[1;32m    106\u001b[0m     \u001b[38;5;28;01mif\u001b[39;00m node\u001b[38;5;241m.\u001b[39mchildren[\u001b[38;5;241m0\u001b[39m]\u001b[38;5;241m.\u001b[39mtype \u001b[38;5;241m==\u001b[39m \u001b[38;5;124m'\u001b[39m\u001b[38;5;124mloop\u001b[39m\u001b[38;5;124m'\u001b[39m \u001b[38;5;129;01mand\u001b[39;00m \u001b[38;5;129;01mnot\u001b[39;00m data[node\u001b[38;5;241m.\u001b[39mchildren[\u001b[38;5;241m0\u001b[39m]\u001b[38;5;241m.\u001b[39midx][\u001b[38;5;241m0\u001b[39m] \u001b[38;5;129;01mis\u001b[39;00m \u001b[38;5;28;01mNone\u001b[39;00m:\n\u001b[1;32m    107\u001b[0m         data[node\u001b[38;5;241m.\u001b[39mchildren[\u001b[38;5;241m0\u001b[39m]\u001b[38;5;241m.\u001b[39midx][\u001b[38;5;241m0\u001b[39m] \u001b[38;5;241m+\u001b[39m\u001b[38;5;241m=\u001b[39m \u001b[38;5;241m1\u001b[39m\n\u001b[0;32m--> 108\u001b[0m     SOGA(node\u001b[38;5;241m.\u001b[39mchildren[\u001b[38;5;241m0\u001b[39m], deepcopy(current_p), deepcopy(current_dist), deepcopy(current_trunc), data, parallel)\n\u001b[1;32m    110\u001b[0m \u001b[38;5;66;03m# if observe truncates to LBC and calls on children\u001b[39;00m\n\u001b[1;32m    111\u001b[0m \u001b[38;5;28;01mif\u001b[39;00m node\u001b[38;5;241m.\u001b[39mtype \u001b[38;5;241m==\u001b[39m \u001b[38;5;124m'\u001b[39m\u001b[38;5;124mobserve\u001b[39m\u001b[38;5;124m'\u001b[39m:\n",
      "File \u001b[0;32m~/Work/SOGA/src/libSOGA.py:117\u001b[0m, in \u001b[0;36mSOGA\u001b[0;34m(node, current_p, current_dist, current_trunc, data, parallel)\u001b[0m\n\u001b[1;32m    115\u001b[0m     p, current_dist \u001b[38;5;241m=\u001b[39m parallel_truncate(current_dist, current_trunc, data)\n\u001b[1;32m    116\u001b[0m \u001b[38;5;28;01melse\u001b[39;00m:\n\u001b[0;32m--> 117\u001b[0m     p, current_dist \u001b[38;5;241m=\u001b[39m truncate(current_dist, current_trunc, data)\n\u001b[1;32m    118\u001b[0m \u001b[38;5;66;03m#current_p = current_p*p\u001b[39;00m\n\u001b[1;32m    119\u001b[0m current_trunc \u001b[38;5;241m=\u001b[39m \u001b[38;5;28;01mNone\u001b[39;00m\n",
      "File \u001b[0;32m~/Work/SOGA/src/libSOGAtruncate.py:350\u001b[0m, in \u001b[0;36mtruncate\u001b[0;34m(dist, trunc, data)\u001b[0m\n\u001b[1;32m    348\u001b[0m trunc_func \u001b[38;5;241m=\u001b[39m trunc_rule\u001b[38;5;241m.\u001b[39mfunc\n\u001b[1;32m    349\u001b[0m trunc_type \u001b[38;5;241m=\u001b[39m trunc_rule\u001b[38;5;241m.\u001b[39mtype\n\u001b[0;32m--> 350\u001b[0m trunc_idx \u001b[38;5;241m=\u001b[39m np\u001b[38;5;241m.\u001b[39mwhere(np\u001b[38;5;241m.\u001b[39marray(trunc_rule\u001b[38;5;241m.\u001b[39mcoeff) \u001b[38;5;241m!=\u001b[39m \u001b[38;5;241m0\u001b[39m)[\u001b[38;5;241m0\u001b[39m][\u001b[38;5;241m0\u001b[39m]\n\u001b[1;32m    351\u001b[0m hard \u001b[38;5;241m=\u001b[39m []\n\u001b[1;32m    352\u001b[0m new_dist \u001b[38;5;241m=\u001b[39m Dist(dist\u001b[38;5;241m.\u001b[39mvar_list, GaussianMix([],[],[]))\n",
      "\u001b[0;31mIndexError\u001b[0m: index 0 is out of bounds for axis 0 with size 0"
     ]
    }
   ],
   "source": [
    "# TESTING \n",
    "compiledFile_test=transform2gm('../programs/SOGA/PrivugPrograms/test.soga')\n",
    "cfg_test = produce_cfg(compiledFile_test)\n",
    "output_dist_test = soga_analyze(cfg_test)\n",
    "print(output_dist_test.var_list)\n",
    "print(output_dist_test.gm.mean())\n",
    "print(output_dist_test.gm.cov())"
   ]
  },
  {
   "cell_type": "code",
   "execution_count": 23,
   "id": "2fad1527-936b-4550-886e-52f2b707a5bb",
   "metadata": {
    "tags": []
   },
   "outputs": [],
   "source": [
    "#Prior \n",
    "prior_mean_male_21_30 = 480_000\n",
    "prior_variance_male_21_30 = 100"
   ]
  },
  {
   "cell_type": "code",
   "execution_count": 7,
   "id": "e5464dca-747d-430e-bfa0-c71dd9f1b896",
   "metadata": {
    "tags": []
   },
   "outputs": [
    {
     "name": "stdout",
     "output_type": "stream",
     "text": [
      "['male21301', 'male21302', 'male21303', 'male21304', 'male21305', 'male21306', 'male21307', 'male21308', 'male21309', 'male213010', 'male2130total', 'male2130average']\n",
      "[ 483000.  493000.  443000.  423000.  493000.  493000.  523000.  493000.\n",
      "  473000.  403000. 4720000.  472000.]\n",
      "[[   1896.    5080.    4696.   -5288.    5080.    5080.   -4520.    5080.\n",
      "    -4904.    1112.   62464.   -3584.]\n",
      " [   5080.    3944.     472.    6360.   -6056.   -6056.   -6696.   -6056.\n",
      "     -168.   -4136.  -13312.   -4608.]\n",
      " [   4696.     472.   15208.   -2728.     472.     472.    4184.     472.\n",
      "    -7464.    5720.  -27648.     512.]\n",
      " [  -5288.    6360.   -2728.   16744.    6360.    6360.   -7848.    6360.\n",
      "     -552.    -168.   -7168.    2560.]\n",
      " [   5080.   -6056.     472.    6360.    3944.   -6056.   -6696.   -6056.\n",
      "     -168.   -4136.  -13312.   -4608.]\n",
      " [   5080.   -6056.     472.    6360.   -6056.    3944.   -6696.   -6056.\n",
      "     -168.   -4136.  -13312.   -4608.]\n",
      " [  -4520.   -6696.    4184.   -7848.   -6696.   -6696.   13160.   -6696.\n",
      "    -2344.   -3496.   21504.   -7680.]\n",
      " [   5080.   -6056.     472.    6360.   -6056.   -6056.   -6696.    3944.\n",
      "     -168.   -4136.  -13312.   -4608.]\n",
      " [  -4904.    -168.   -7464.    -552.    -168.    -168.   -2344.    -168.\n",
      "    16744.    6360. -123904.   -2560.]\n",
      " [   1112.   -4136.    5720.    -168.   -4136.   -4136.   -3496.   -4136.\n",
      "     6360.    3944.   13312.    4608.]\n",
      " [  62464.  -13312.  -27648.   -7168.  -13312.  -13312.   21504.  -13312.\n",
      "  -123904.   13312. -114688.   40960.]\n",
      " [  -3584.   -4608.     512.    2560.   -4608.   -4608.   -7680.   -4608.\n",
      "    -2560.    4608.   40960.    4096.]]\n",
      "mean: 483000.0\n",
      "var: 43.54308211415448\n"
     ]
    }
   ],
   "source": [
    "#Case 1 \n",
    "compiledFile_case_1=transform2gm('../programs/SOGA/PrivugPrograms/eval.soga')\n",
    "cfg_case_1 = produce_cfg(compiledFile_case_1)\n",
    "output_dist_case_1 = soga_analyze(cfg_case_1 )\n",
    "posterior_mean_male_21_30_case_1 = output_dist_case_1.gm.mean()[0]\n",
    "posterior_variance_male_21_30_case_1 = math.sqrt(output_dist_case_1.gm.cov()[0][0])\n",
    "print(output_dist_case_1.var_list)\n",
    "print(output_dist_case_1.gm.mean())\n",
    "print(output_dist_case_1.gm.cov())\n",
    "print('mean: ' + str(posterior_mean_male_21_30_case_1))\n",
    "print('var: ' + str(posterior_variance_male_21_30_case_1))"
   ]
  },
  {
   "cell_type": "code",
   "execution_count": 25,
   "id": "d537b861-f5c7-4d58-8f4a-4d8c53441a60",
   "metadata": {
    "tags": []
   },
   "outputs": [
    {
     "name": "stdout",
     "output_type": "stream",
     "text": [
      "['male21301', 'male21302', 'male21303', 'male21304', 'male21305', 'male21306', 'male21307', 'male21308', 'male21309', 'male213010', 'male2130total', 'male2130average', 'female21301', 'female21302', 'female21303', 'female21304', 'female21305', 'female21306', 'female21307', 'female21308', 'female21309', 'female213010', 'female2130total', 'female2130average', 'total2130', 'average2130']\n",
      "[ 483000.  493000.  443000.  423000.  493000.  493000.  523000.  493000.\n",
      "  473000.  403000. 4720000.  472000.  473000.  423000.  433000.  453000.\n",
      "  463000.  423000.  463000.  323000.  373000.  423000. 4250000.  425000.\n",
      " 8970000.  448500.]\n",
      "mean: 483000.0\n",
      "var: 43.54308211415448\n"
     ]
    }
   ],
   "source": [
    "#Case 2\n",
    "compiledFile_case_2=transform2gm('../programs/SOGA/PrivugPrograms/eval2.soga')\n",
    "cfg_case_2 = produce_cfg(compiledFile_case_2)\n",
    "output_dist_case_2 = soga_analyze(cfg_case_2)\n",
    "posterior_mean_male_21_30_case_2 = output_dist_case_2.gm.mean()[0]\n",
    "posterior_variance_male_21_30_case_2 = math.sqrt(output_dist_case_2.gm.cov()[0][0])\n",
    "print(output_dist_case_2.var_list)\n",
    "print(output_dist_case_2.gm.mean())\n",
    "print('mean: ' + str(posterior_mean_male_21_30_case_2))\n",
    "print('var: ' + str(posterior_variance_male_21_30_case_2))"
   ]
  },
  {
   "cell_type": "code",
   "execution_count": 26,
   "id": "0080a68f-f83a-4197-b0ca-adfdbc23781e",
   "metadata": {
    "tags": []
   },
   "outputs": [
    {
     "name": "stdout",
     "output_type": "stream",
     "text": [
      "['male21301', 'male21302', 'male21303', 'male21304', 'male21305', 'male21306', 'male21307', 'male21308', 'male21309', 'male213010', 'male2130total', 'male2130average', 'male31401', 'male31402', 'male31403', 'male31404', 'male31405', 'male31406', 'male31407', 'male31408', 'male31409', 'male314010', 'male3140total', 'male3140average', 'male41501', 'male41502', 'male41503', 'male41504', 'male41505', 'male41506', 'male41507', 'male41508', 'male41509', 'male415010', 'male4150total', 'male4150average', 'male51601', 'male51602', 'male51603', 'male51604', 'male51605', 'male51606', 'male51607', 'male51608', 'male51609', 'male516010', 'male5160total', 'male5160average', 'female21301', 'female21302', 'female21303', 'female21304', 'female21305', 'female21306', 'female21307', 'female21308', 'female21309', 'female213010', 'female2130total', 'female2130average', 'total2130', 'average2130', 'totalmale', 'averagemale']\n",
      "[  483000.   493000.   443000.   423000.   493000.   493000.   523000.\n",
      "   493000.   473000.   403000.  4720000.   472000.   553000.   463000.\n",
      "   523000.   543000.   553000.   463000.   593000.   463000.   553000.\n",
      "   453000.  5160000.   516000.   618000.   568000.   628000.   548000.\n",
      "   598000.   628000.   318000.   538000.   618000.   638000.  5700000.\n",
      "   570000.   734000.   624000.   674000.   664000.   654000.   624000.\n",
      "   754000.   654000.   574000.   824000.  6780000.   678000.   473000.\n",
      "   423000.   433000.   453000.   463000.   423000.   463000.   323000.\n",
      "   373000.   423000.  4250000.   425000.  8970000.   448500. 22360000.\n",
      "   559000.]\n",
      "mean: 483000.0\n",
      "var: 43.54308211415448\n"
     ]
    }
   ],
   "source": [
    "#Case 3\n",
    "compiledFile_case_3=transform2gm('../programs/SOGA/PrivugPrograms/eval3.soga')\n",
    "cfg_case_3 = produce_cfg(compiledFile_case_3)\n",
    "output_dist_case_3 = soga_analyze(cfg_case_3)\n",
    "posterior_mean_male_21_30_case_3 = output_dist_case_3.gm.mean()[0]\n",
    "posterior_variance_male_21_30_case_3 = math.sqrt(output_dist_case_3.gm.cov()[0][0])\n",
    "print(output_dist_case_3.var_list)\n",
    "print(output_dist_case_3.gm.mean())\n",
    "print('mean: ' + str(posterior_mean_male_21_30_case_3))\n",
    "print('var: ' + str(posterior_variance_male_21_30_case_3))"
   ]
  },
  {
   "cell_type": "code",
   "execution_count": 29,
   "id": "88452d21-3007-48c4-81c2-ad06b1efa71e",
   "metadata": {
    "tags": []
   },
   "outputs": [
    {
     "data": {
      "image/png": "[encoded data removed]",
      "text/plain": [
       "<Figure size 500x300 with 1 Axes>"
      ]
     },
     "metadata": {},
     "output_type": "display_data"
    }
   ],
   "source": [
    "scale = lambda x : x/10\n",
    "gen_y_case = lambda x, mean, variance : norm(loc=scale(mean),scale=variance).pdf(x)\n",
    "\n",
    "x = np.linspace(scale(prior_mean_male_21_30)-3*prior_variance_male_21_30,scale(505_000), 1000)\n",
    "\n",
    "y_prior  = gen_y_case(x,prior_mean_male_21_30,prior_variance_male_21_30)\n",
    "y_case_1 = gen_y_case(x,posterior_mean_male_21_30_case_1,posterior_variance_male_21_30_case_1)\n",
    "y_case_2 = gen_y_case(x,posterior_mean_male_21_30_case_2,posterior_variance_male_21_30_case_2)\n",
    "y_case_3 = gen_y_case(x,posterior_mean_male_21_30_case_3,posterior_variance_male_21_30_case_3)\n",
    "\n",
    "fig, axs = plt.subplots(1, 1, figsize=(5, 3))\n",
    "\n",
    "axs.plot(x,y_prior,  label='Prior')\n",
    "axs.plot(x,y_case_1, label='Case 1')\n",
    "axs.plot(x,y_case_2, label='Case 2')\n",
    "axs.plot(x,y_case_3, label='Case 3')\n",
    "axs.axvline(x = scale(500_000), color = 'purple', label= 'True income')\n",
    "axs.legend();"
   ]
  },
  {
   "cell_type": "code",
   "execution_count": null,
   "id": "de7b34c0-3eff-41cf-b182-0edc6c39f700",
   "metadata": {},
   "outputs": [],
   "source": []
  },
  {
   "cell_type": "code",
   "execution_count": null,
   "id": "fe686a82-eeb5-4b20-9a43-888c3132459d",
   "metadata": {},
   "outputs": [],
   "source": []
  }
 ],
 "metadata": {
  "kernelspec": {
   "display_name": "Python 3 (ipykernel)",
   "language": "python",
   "name": "python3"
  },
  "language_info": {
   "codemirror_mode": {
    "name": "ipython",
    "version": 3
   },
   "file_extension": ".py",
   "mimetype": "text/x-python",
   "name": "python",
   "nbconvert_exporter": "python",
   "pygments_lexer": "ipython3",
   "version": "3.11.5"
  }
 },
 "nbformat": 4,
 "nbformat_minor": 5
}
