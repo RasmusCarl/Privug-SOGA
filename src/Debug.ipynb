{
 "cells": [
  {
   "cell_type": "code",
   "execution_count": 1,
   "id": "e601c53a",
   "metadata": {},
   "outputs": [],
   "source": [
    "from sogaPreprocessor import *\n",
    "from producecfg import *\n",
    "from libSOGA import *\n",
    "import matplotlib.pyplot as plt"
   ]
  },
  {
   "cell_type": "code",
   "execution_count": 2,
   "id": "a91041d6",
   "metadata": {},
   "outputs": [],
   "source": [
    "file = '../programs/SOGA/Toy.soga'\n",
    "compiledFile = compile2SOGA(file)\n",
    "cfg = produce_cfg(compiledFile)"
   ]
  },
  {
   "cell_type": "code",
   "execution_count": 3,
   "id": "fefdc38e",
   "metadata": {},
   "outputs": [],
   "source": [
    "output = start_SOGA(cfg)"
   ]
  },
  {
   "cell_type": "markdown",
   "id": "5be2e80a",
   "metadata": {},
   "source": [
    "# Scalability"
   ]
  },
  {
   "cell_type": "code",
   "execution_count": null,
   "id": "4079cc59",
   "metadata": {},
   "outputs": [],
   "source": [
    "import time\n",
    "\n",
    "# Scalability of SOGA\n",
    "SOGA_800  = '../programs/SOGA/Privug/rasmus/Scalability/SOGA/scale/eval_soga_scale_800.soga'\n",
    "SOGA_900  = '../programs/SOGA/Privug/rasmus/Scalability/SOGA/scale/eval_soga_scale_900.soga'\n",
    "SOGA_1000  = '../programs/SOGA/Privug/rasmus/Scalability/SOGA/scale/eval_soga_scale_1000.soga'\n",
    "SOGA_1100  = '../programs/SOGA/Privug/rasmus/Scalability/SOGA/scale/eval_soga_scale_1100.soga'\n",
    "SOGA_1200  = '../programs/SOGA/Privug/rasmus/Scalability/SOGA/scale/eval_soga_scale_1200.soga'\n",
    "SOGA_1300  = '../programs/SOGA/Privug/rasmus/Scalability/SOGA/scale/eval_soga_scale_1300.soga'\n",
    "SOGA_1400  = '../programs/SOGA/Privug/rasmus/Scalability/SOGA/scale/eval_soga_scale_1400.soga'\n",
    "SOGA_1500  = '../programs/SOGA/Privug/rasmus/Scalability/SOGA/scale/eval_soga_scale_1500.soga'\n",
    "SOGA_1600  = '../programs/SOGA/Privug/rasmus/Scalability/SOGA/scale/eval_soga_scale_1600.soga'\n",
    "SOGA_1700  = '../programs/SOGA/Privug/rasmus/Scalability/SOGA/scale/eval_soga_scale_1700.soga'\n",
    "SOGA_1800  = '../programs/SOGA/Privug/rasmus/Scalability/SOGA/scale/eval_soga_scale_1800.soga'\n",
    "SOGA_1900  = '../programs/SOGA/Privug/rasmus/Scalability/SOGA/scale/eval_soga_scale_1900.soga'\n",
    "SOGA_2000  = '../programs/SOGA/Privug/rasmus/Scalability/SOGA/scale/eval_soga_scale_2000.soga'\n",
    "SOGA_3000  = '../programs/SOGA/Privug/rasmus/Scalability/SOGA/scale/eval_soga_scale_3000.soga'\n",
    "SOGA_5000  = '../programs/SOGA/Privug/rasmus/Scalability/SOGA/scale/eval_soga_scale_5000.soga'\n",
    "SOGA_10000  = '../programs/SOGA/Privug/rasmus/Scalability/SOGA/scale/eval_soga_scale_10000.soga'\n",
    "\n",
    "\n",
    "SOGA_800_COND  = 'programs/SOGA/Privug/rasmus/Scalability/SOGA/cond/eval_soga_scale_800.soga'\n",
    "SOGA_900_COND  = 'programs/SOGA/Privug/rasmus/Scalability/SOGA/cond/eval_soga_scale_900.soga'\n",
    "SOGA_1000_COND  = 'programs/SOGA/Privug/rasmus/Scalability/SOGA/cond/eval_soga_scale_1000.soga'\n",
    "SOGA_1100_COND  = 'programs/SOGA/Privug/rasmus/Scalability/SOGA/cond/eval_soga_scale_1100.soga'\n",
    "SOGA_1200_COND  = 'programs/SOGA/Privug/rasmus/Scalability/SOGA/cond/eval_soga_scale_1200.soga'\n",
    "SOGA_1300_COND  = 'programs/SOGA/Privug/rasmus/Scalability/SOGA/cond/eval_soga_scale_1300.soga'\n",
    "SOGA_1400_COND  = 'programs/SOGA/Privug/rasmus/Scalability/SOGA/cond/eval_soga_scale_1400.soga'\n",
    "\n",
    "\n",
    "FILES_SOGA    = [(800,SOGA_800), (900,SOGA_900), (1000,SOGA_1000),(1100,SOGA_1100), (1200,SOGA_1200), (1300,SOGA_1300), (1400, SOGA_1400), (1500, SOGA_1500), (1600, SOGA_1600), (1700, SOGA_1700), (1800, SOGA_1800), (1900, SOGA_1900), (2000, SOGA_2000), (3000, SOGA_3000), (5000, SOGA_5000), (10000, SOGA_10000)]\n",
    "FILES_SOGA_COND    = [(800,SOGA_800_COND), (900,SOGA_900_COND), (1000,SOGA_1000_COND),(1100,SOGA_1100_COND), (1200,SOGA_1200_COND), (1300,SOGA_1300_COND), (1400, SOGA_1400_COND), ]\n",
    "NUM_VARS = [800,900,1000,1100,1200,1300,1400,1500, 1600, 1700, 1800, 1900, 2000, 3000, 5000, 10000]"
   ]
  },
  {
   "cell_type": "code",
   "execution_count": null,
   "id": "b0b0124a",
   "metadata": {},
   "outputs": [],
   "source": [
    "def soga_infer(file):\n",
    "    compiled = compile2SOGA(file)\n",
    "    cfg = produce_cfg(compiled)\n",
    "    output = start_SOGA(cfg)\n",
    "    return output\n",
    "\n",
    "def time_soga(size, file):\n",
    "    t_init = time.time()\n",
    "    soga_infer(file)\n",
    "    total_time = time.time() - t_init\n",
    "    print(f'SOGA | Size {size} | Time {total_time}')\n",
    "    return total_time"
   ]
  },
  {
   "cell_type": "code",
   "execution_count": null,
   "id": "20a4bca4",
   "metadata": {},
   "outputs": [],
   "source": [
    "times_soga       = [time_soga(size,file) for (size,file) in FILES_SOGA]"
   ]
  },
  {
   "cell_type": "code",
   "execution_count": null,
   "id": "2771eb06",
   "metadata": {},
   "outputs": [],
   "source": [
    "NUM_VARS_Privug = [800,900,1000,1100,1200,1300,1400, 1500, 2000, 3000, 4000, 5000, 6000, 7000, 8000, 9000, 10000]\n",
    "times_privug    = [0.007296562194824219,0.0029883384704589844, 0.003086090087890625,  0.0032761096954345703, 0.0034737586975097656, 0.003620624542236328, 0.003820180892944336,\n",
    "                  0.0038912296295166016,0.00494074821472168,0.007329702377319336, 0.009478569030761719, 0.012460470199584961, 0.01391911506652832, 0.01769399642944336,\n",
    "                  0.019052743911743164, 0.022161006927490234, 0.022896289825439453]\n",
    "\n",
    "times_privug_cond = [0.002747774124145508, 0.00436711311340332, 0.003152132034301758,0.0031952857971191406, 0.0030853748321533203, 0.003484487533569336,\n",
    "                    0.004073619842529297,0.003667593002319336, 0.0049169063568115234, 0.007868766784667969, 0.008997917175292969,0.012352943420410156,\n",
    "                    0.014581441879272461,0.01537466049194336, 0.02023148536682129, 0.02020549774169922,  0.0222170352935791 ]"
   ]
  },
  {
   "cell_type": "code",
   "execution_count": null,
   "id": "0264c5e8",
   "metadata": {},
   "outputs": [],
   "source": [
    "fig, axs = plt.subplots(1, 1, figsize=(7,4))\n",
    "axs.plot(NUM_VARS,times_soga,'-o',label='SOGA')\n",
    "axs.plot(NUM_VARS_Privug,times_privug,'-o',label='Privug')\n",
    "#axs.axvline(x=1500, linestyle='dashed', label='SOGA max recursion depth')\n",
    "axs.set_xlabel(\"Number nodes\")\n",
    "axs.set_ylabel(\"Seconds\")\n",
    "axs.legend();"
   ]
  },
  {
   "cell_type": "code",
   "execution_count": 1,
   "id": "53c7c858",
   "metadata": {},
   "outputs": [
    {
     "name": "stdout",
     "output_type": "stream",
     "text": [
      "SOGA | Size 100 | Time 0.17337298393249512\n",
      "SOGA | Size 250 | Time 0.36434054374694824\n",
      "SOGA | Size 500 | Time 2.504552125930786\n",
      "SOGA | Size 1000 | Time 11.259040594100952\n",
      "SOGA | Size 2000 | Time 80.17547559738159\n",
      "SOGA | Size 4000 | Time 552.7415518760681\n",
      "SOGA | Size 6000 | Time 1609.1354005336761\n"
     ]
    }
   ],
   "source": [
    "from sogaPreprocessor import *\n",
    "from producecfg import *\n",
    "from libSOGA import *\n",
    "import matplotlib.pyplot as plt\n",
    "\n",
    "import time\n",
    "\n",
    "def soga_infer(file):\n",
    "    compiled = compile2SOGA(file)\n",
    "    cfg = produce_cfg(compiled)\n",
    "    output = start_SOGA(cfg)\n",
    "    return output\n",
    "\n",
    "def time_soga(size, file):\n",
    "    t_init = time.time()\n",
    "    soga_infer(file)\n",
    "    total_time = time.time() - t_init\n",
    "    print(f'SOGA | Size {size} | Time {total_time}')\n",
    "    return total_time\n",
    "\n",
    "SOGA_100  = '../programs/SOGA/Privug/rasmus/Scalability/SOGA/vars/eval_soga_scale_100.soga'\n",
    "SOGA_250  = '../programs/SOGA/Privug/rasmus/Scalability/SOGA/vars/eval_soga_scale_250.soga'\n",
    "SOGA_500  = '../programs/SOGA/Privug/rasmus/Scalability/SOGA/vars/eval_soga_scale_500.soga'\n",
    "SOGA_1000  = '../programs/SOGA/Privug/rasmus/Scalability/SOGA/vars/eval_soga_scale_1000.soga'\n",
    "SOGA_2000  = '../programs/SOGA/Privug/rasmus/Scalability/SOGA/vars/eval_soga_scale_2000.soga'\n",
    "SOGA_4000  = '../programs/SOGA/Privug/rasmus/Scalability/SOGA/vars/eval_soga_scale_4000.soga'\n",
    "SOGA_6000  = '../programs/SOGA/Privug/rasmus/Scalability/SOGA/vars/eval_soga_scale_6000.soga'\n",
    "\n",
    "\n",
    "FILES_SOGA    = [(100,SOGA_100), (250,SOGA_250), (500,SOGA_500), (1000,SOGA_1000), (2000,SOGA_2000), (4000,SOGA_4000), (6000,SOGA_6000)]\n",
    "\n",
    "NUM_VARS = [100, 250, 500, 1000, 2000, 4000, 6000]\n",
    "\n",
    "times_soga       = [time_soga(size,file) for (size,file) in FILES_SOGA]"
   ]
  },
  {
   "cell_type": "code",
   "execution_count": 12,
   "id": "b985a5d3",
   "metadata": {},
   "outputs": [
    {
     "data": {
      "text/plain": [
       "<matplotlib.legend.Legend at 0x1303a881b10>"
      ]
     },
     "execution_count": 12,
     "metadata": {},
     "output_type": "execute_result"
    },
    {
     "data": {
      "image/png": "[encoded data removed]",
      "text/plain": [
       "<Figure size 640x480 with 1 Axes>"
      ]
     },
     "metadata": {},
     "output_type": "display_data"
    }
   ],
   "source": [
    "import matplotlib.pyplot as plt\n",
    "import numpy as np\n",
    "\n",
    "NUM_VARS = [100, 250, 500, 1000, 2000, 4000, 6000]\n",
    "#times_soga = [0.18771123886108398, 0.6217093467712402, 4.117981195449829, 21.265605211257935, 157.69725155830383, 1402.505854845047, 4150.177237510681]\n",
    "times_soga = [0.17337298393249512, 0.36434054374694824, 2.504552125930786, 11.259040594100952, 80.17547559738159, 552.7415518760681, 1609.1354005336761]\n",
    "\n",
    "x = [100, 250, 500, 1000, 2000, 4000, 6000]\n",
    "\n",
    "C = 8e-9\n",
    "y = [C*NUM_VARS[i]**3 for i in range(len(NUM_VARS))]\n",
    "\n",
    "plt.plot(x, times_soga, label='times')\n",
    "plt.plot(x, y, label='C*x^3')\n",
    "plt.title('Number of variables')\n",
    "plt.legend()"
   ]
  },
  {
   "cell_type": "code",
   "execution_count": 5,
   "id": "2c6c0b6c",
   "metadata": {},
   "outputs": [],
   "source": [
    "#NUM_VARS_Privug = [800,900,1000,1100,1200,1300,1400, 1500, 2000, 3000, 4000, 5000, 6000, 7000, 8000, 9000, 10000]\n",
    "NUM_VARS_Privug = [50, 100, 200, 300, 400, 500, 800,900,1000,1100,1200,1300,1400, 1500, 2000, 3000, 4000, 5000, 6000]\n",
    "#times_privug    = [0.007296562194824219,0.0029883384704589844, 0.003086090087890625,  0.0032761096954345703, 0.0034737586975097656, 0.003620624542236328, 0.003820180892944336,\n",
    " #                 0.0038912296295166016,0.00494074821472168,0.007329702377319336, 0.009478569030761719, 0.012460470199584961, 0.01391911506652832, 0.01769399642944336,\n",
    "  #                0.019052743911743164, 0.022161006927490234, 0.022896289825439453]\n",
    "\n",
    "times_privug = [0.0028066635131835938,0.004198551177978516,0.008395195007324219, 0.015213727951049805, 0.023733139038085938,0.03996086120605469,\n",
    "                0.3027377128601074, 0.2061481475830078, 0.31394457817077637, 0.41750049591064453, 0.5550978183746338, 0.7143032550811768, 1.0748748779296875, 1.0867042541503906,\n",
    "               3.4510347843170166, 12.85947036743164, 32.54612398147583, 67.13258385658264, 117.35088992118835]\n",
    "\n",
    "#times_privug_cond = [0.002747774124145508, 0.00436711311340332, 0.003152132034301758,0.0031952857971191406, 0.0030853748321533203, 0.003484487533569336,\n",
    " #                   0.004073619842529297,0.003667593002319336, 0.0049169063568115234, 0.007868766784667969, 0.008997917175292969,0.012352943420410156,\n",
    "  #                  0.014581441879272461,0.01537466049194336, 0.02023148536682129, 0.02020549774169922,  0.0222170352935791 ]\n",
    "times_privug_cond = [0.0051724910736083984, 0.005353212356567383, 0.007938623428344727, 0.012955665588378906, 0.020505189895629883, 0.03209662437438965,\n",
    "                    0.11232233047485352, 0.15134882926940918, 0.24138379096984863, 0.3682541847229004, 0.4311661720275879, 0.570500373840332, 0.7092206478118896,\n",
    "                    1.0348293781280518, 2.27811598777771, 12.772864818572998, 34.05943155288696, 65.12331938743591, 120.42336559295654]"
   ]
  },
  {
   "cell_type": "code",
   "execution_count": 6,
   "id": "b3c07f1d",
   "metadata": {},
   "outputs": [
    {
     "data": {
      "image/png": "[encoded data removed]",
      "text/plain": [
       "<Figure size 700x400 with 1 Axes>"
      ]
     },
     "metadata": {},
     "output_type": "display_data"
    }
   ],
   "source": [
    "fig, axs = plt.subplots(1, 1, figsize=(7,4))\n",
    "axs.plot(NUM_VARS,times_soga,'-o',label='SOGA')\n",
    "axs.plot(NUM_VARS_Privug,times_privug,'-o',label='Privug')\n",
    "#axs.axvline(x=1500, linestyle='dashed', label='SOGA max recursion depth')\n",
    "axs.set_xlabel(\"Number variables\")\n",
    "axs.set_ylabel(\"Seconds\")\n",
    "axs.legend();"
   ]
  },
  {
   "cell_type": "markdown",
   "id": "a7558190",
   "metadata": {},
   "source": [
    "# New Implementation "
   ]
  },
  {
   "cell_type": "code",
   "execution_count": 1,
   "id": "dce0e84f",
   "metadata": {},
   "outputs": [
    {
     "name": "stdout",
     "output_type": "stream",
     "text": [
      "\n",
      "BayesPointMachine| time: 0.04 | mean: [ 0.01117781 -0.12016474 -0.27778036 -4.13952624 -2.86434177 -4.76773406\n",
      " -2.90703202 -2.19885417 -4.86233859] | var_list: ['w[0]', 'w[1]', 'w[2]', 'mean[0]', 'mean[1]', 'mean[2]', 'mean[3]', 'mean[4]', 'mean[5]']\n",
      "\n",
      "BernoulliPrune| time: 1.28 | mean: [0.25689934 1.        ] | var_list: ['theta', 'y']\n",
      "\n",
      "Burglar| time: 0.02 | mean: [2.82212318e-04 2.99344924e-03 3.27537935e-03 1.00000000e+00\n",
      " 1.00000000e+00 1.00000000e+00] | var_list: ['earthquake', 'burglary', 'alarm', 'phoneWorking', 'maryWakes', 'called']\n",
      "\n",
      "ClickGraphPrune| time: 4.6 | mean: [0.61413616 0.66059781 0.27911547 0.27911547 0.         0.        ] | var_list: ['simAll', 'sim', 'beta1', 'beta2', 'click0', 'click1']\n",
      "\n",
      "ClinicalTrialPrune| time: 1.03 | mean: [0.75341331 0.65809691 0.34270634 0.         1.        ] | var_list: ['isEff', 'probTreated', 'probContr', 'ycontr', 'ytreat']\n",
      "\n",
      "CoinBias| time: 0.27 | mean: [0.42576482 0.        ] | var_list: ['bias', 'y']\n",
      "\n",
      "Grass| time: 0.04 | mean: [0.57579972 0.70792768 0.42976356 0.7        0.49554937 0.95827538\n",
      " 0.93045897 0.69541029 0.41724618 1.        ] | var_list: ['cloudy', 'rain', 'sprinkler', 'temp1', 'wetRoof', 'temp2', 'temp3', 'or1', 'or2', 'wetGrass']\n",
      "\n",
      "IndianGPA| time: 0.11 | mean: [1.         4.         5.14630355 4.        ] | var_list: ['usa', 'usagpa', 'indgpa', 'gpa']\n",
      "\n",
      "MurderMistery| time: 0.01 | mean: [0.01581722 1.        ] | var_list: ['aliceDunnit', 'withGun']\n",
      "\n",
      "NoisyOr| time: 0.07 | mean: [0.5        0.5        0.45       0.45       0.45       0.45\n",
      " 0.6975     0.415      0.58825    0.81441875] | var_list: ['n0', 'n4', 'n1', 'n21', 'n22', 'n33', 'n2', 'n31', 'n32', 'n3']\n",
      "\n",
      "SurveyUnbias| time: 0.51 | mean: [0.79962741 0.50060041 1.         1.        ] | var_list: ['bias1', 'bias2', 'ansb1', 'ansb2']\n",
      "\n",
      "ThreeCoins| time: 0.01 | mean: [0.75 0.75 0.75] | var_list: ['a', 'b', 'c']\n",
      "\n",
      "TrueSkills| time: 0.01 | mean: [104.7131673   97.60989202  97.67694068 115.31779373  92.23214907\n",
      "  92.4500572 ] | var_list: ['skillA', 'skillB', 'skillC', 'perfA', 'perfB', 'perfC']\n",
      "\n",
      "TwoCoins| time: 0.0 | mean: [0.33333333 0.33333333 0.        ] | var_list: ['first', 'second', 'both']\n",
      "\n",
      "AQUA/Altermu| time: 0.06 | mean: [-2.57251482e+00  3.38062060e-01  2.71757796e+00  1.09861336e+00\n",
      "  2.85603752e+00 -9.16513510e-01  1.55551270e-01 -2.68160347e+00\n",
      "  2.47043789e+00  3.47459025e+00  1.63949862e+00 -1.32148757e+00\n",
      "  2.64187513e+00  3.03578480e-01 -4.09546231e+00 -1.50709863e+00\n",
      " -9.95178660e-01 -2.06488920e+00 -2.40317949e+00  3.46383544e+00\n",
      "  9.11736960e-01  1.18222221e+00  4.23572200e-02 -5.28151710e-01\n",
      "  1.15551598e+00 -1.62749724e+00  7.14732370e-01 -1.08458812e+00\n",
      "  4.66020296e+00  1.24563831e+00 -6.79708620e-01  9.34616810e-01\n",
      "  1.18187607e+00 -1.49501051e+00  2.44755622e+00 -2.06424237e+00\n",
      " -4.58407400e-02  1.93396696e+00  1.07685273e+00 -9.83790700e-02\n",
      "  0.00000000e+00  0.00000000e+00 -1.37893048e-03  3.11638290e-01] | var_list: ['y[0]', 'y[1]', 'y[2]', 'y[3]', 'y[4]', 'y[5]', 'y[6]', 'y[7]', 'y[8]', 'y[9]', 'y[10]', 'y[11]', 'y[12]', 'y[13]', 'y[14]', 'y[15]', 'y[16]', 'y[17]', 'y[18]', 'y[19]', 'y[20]', 'y[21]', 'y[22]', 'y[23]', 'y[24]', 'y[25]', 'y[26]', 'y[27]', 'y[28]', 'y[29]', 'y[30]', 'y[31]', 'y[32]', 'y[33]', 'y[34]', 'y[35]', 'y[36]', 'y[37]', 'y[38]', 'y[39]', 'w1', 'w2', 'w3', 'mean']\n",
      "\n",
      "AQUA/Altermu2| time: 0.1 | mean: [-2.57251482  0.33806206  2.71757796  1.09861336  2.85603752 -0.91651351\n",
      "  0.15555127 -2.68160347  2.47043789  3.47459025  1.63949862 -1.32148757\n",
      "  2.64187513  0.30357848 -4.09546231 -1.50709863 -0.99517866 -2.0648892\n",
      " -2.40317949  3.46383544  0.91173696  1.18222221  0.04235722 -0.52815171\n",
      "  1.15551598 -1.62749724  0.71473237 -1.08458812  4.66020296  1.24563831\n",
      " -0.67970862  0.93461681  1.18187607 -1.49501051  2.44755622 -2.06424237\n",
      " -0.04584074  1.93396696  1.07685273 -0.09837907  0.155611    0.155611  ] | var_list: ['y[0]', 'y[1]', 'y[2]', 'y[3]', 'y[4]', 'y[5]', 'y[6]', 'y[7]', 'y[8]', 'y[9]', 'y[10]', 'y[11]', 'y[12]', 'y[13]', 'y[14]', 'y[15]', 'y[16]', 'y[17]', 'y[18]', 'y[19]', 'y[20]', 'y[21]', 'y[22]', 'y[23]', 'y[24]', 'y[25]', 'y[26]', 'y[27]', 'y[28]', 'y[29]', 'y[30]', 'y[31]', 'y[32]', 'y[33]', 'y[34]', 'y[35]', 'y[36]', 'y[37]', 'y[38]', 'y[39]', 'w1', 'w2']\n",
      "\n",
      "AQUA/RadarQuery| time: 7.15 | mean: [ 1.          1.          5.95215714  5.95215714 -1.65982326  0.33198621\n",
      "  5.          4.62430876] | var_list: ['b0', 'b1', 'x0', 'x1', 'x', 'y', 'o0', 'o1']\n",
      "\n",
      "AQUA/TimeSeries| time: 0.26 | mean: [-1.61048395  0.70017114  0.44744014 -1.09070023 -2.49513229 -2.07918899\n",
      " -3.34621083 -3.21905762 -3.8483514  -4.1459158  -2.17085703 -2.7298601\n",
      " -2.35417404 -3.05798313 -2.85360404 -2.9261493  -2.67713445 -2.97731975\n",
      " -4.75105001 -3.29399034 -4.11626048 -4.08086402 -3.34743298 -3.5929497\n",
      " -1.7048937  -3.52291184 -4.13944649 -4.04992281 -3.71707286 -2.68302052\n",
      " -3.21920266 -1.78221835 -1.71385612 -3.15284682 -3.26094915 -2.92240028\n",
      " -2.40186353 -3.16973318 -4.00540748 -2.32625323 -1.74827635 -1.05716215\n",
      " -3.44536781] | var_list: ['a', 'b', 'lamb', 'y0', 'y1', 'y2', 'y3', 'y4', 'y5', 'y6', 'y7', 'y8', 'y9', 'y10', 'y11', 'y12', 'y13', 'y14', 'y15', 'y16', 'y17', 'y18', 'y19', 'y20', 'y21', 'y22', 'y23', 'y24', 'y25', 'y26', 'y27', 'y28', 'y29', 'y30', 'y31', 'y32', 'y33', 'y34', 'y35', 'y36', 'y37', 'y38', 'y39']\n"
     ]
    }
   ],
   "source": [
    "from sogaPreprocessor import *\n",
    "from producecfg import *\n",
    "from libSOGA import *\n",
    "import time\n",
    "\n",
    "programs = ['BayesPointMachine', \n",
    "            'BernoulliPrune', \n",
    "            'Burglar', \n",
    "            'ClickGraphPrune', \n",
    "            'ClinicalTrialPrune', \n",
    "            'CoinBias', \n",
    "            #'DigitRecognition', \n",
    "            'Grass',\n",
    "            'IndianGPA',\n",
    "            'MurderMistery',\n",
    "            'NoisyOr',\n",
    "            'SurveyUnbias',\n",
    "            'ThreeCoins',\n",
    "            'TrueSkills',\n",
    "            'TwoCoins',\n",
    "            'AQUA/Altermu',\n",
    "            'AQUA/Altermu2',\n",
    "            #'AQUA/NormalMixturesPrune',\n",
    "            'AQUA/RadarQuery',\n",
    "            'AQUA/TimeSeries'\n",
    "            ]\n",
    "\n",
    "for program in programs:\n",
    "    file = '../programs/SOGA/' + program + '.soga'\n",
    "    compiled = compile2SOGA(file)\n",
    "    cfg = produce_cfg(compiled)\n",
    "    start = time.time()\n",
    "    output = start_SOGA(cfg)\n",
    "    end = time.time()\n",
    "    print()\n",
    "    print(program + '| time: {} | mean: {} | var_list: '.format(np.round(end-start,2), output.gm.mean()) + str(output.var_list))"
   ]
  },
  {
   "cell_type": "code",
   "execution_count": 1,
   "id": "76a7bd79",
   "metadata": {},
   "outputs": [
    {
     "name": "stdout",
     "output_type": "stream",
     "text": [
      "\n",
      "SensitivityExp/#variables/timeseries/Timeseries1| time: 0.03 | mean: [ 1.6329773   0.7295921   0.44176634 -1.09070023  0.99770522] | var_list: ['a', 'b', 'lamb', 'y0', 'y1']\n",
      "\n",
      "SensitivityExp/#variables/timeseries/Timeseries2| time: 0.01 | mean: [ 1.28599293  1.06749705  0.48238443 -1.09070023  0.32802898  2.04780407] | var_list: ['a', 'b', 'lamb', 'y0', 'y1', 'y2']\n",
      "\n",
      "SensitivityExp/#variables/timeseries/Timeseries3| time: 0.01 | mean: [ 1.51482105  0.72625552  0.52089691 -1.09070023  0.65579653  2.21536332\n",
      "  1.99878548] | var_list: ['a', 'b', 'lamb', 'y0', 'y1', 'y2', 'y3']\n",
      "\n",
      "SensitivityExp/#variables/timeseries/Timeseries4| time: 0.01 | mean: [ 1.38749298  0.91807753  0.49638001 -1.09070023  0.46231556  2.08104128\n",
      "  1.47762647  2.36087556] | var_list: ['a', 'b', 'lamb', 'y0', 'y1', 'y2', 'y3', 'y4']\n",
      "\n",
      "SensitivityExp/#variables/timeseries/Timeseries5| time: 0.01 | mean: [ 1.27469136  1.01967844  0.49671056 -1.09070023  0.30142847  1.94226917\n",
      "  1.16388087  2.03551448  2.87908827] | var_list: ['a', 'b', 'lamb', 'y0', 'y1', 'y2', 'y3', 'y4', 'y5']\n",
      "\n",
      "SensitivityExp/#variables/timeseries/Timeseries6| time: 0.02 | mean: [ 1.4419825   0.79654806  0.53337825 -1.09070023  0.52384515  2.07305563\n",
      "  1.69188385  2.4613791   3.22507016  2.77238328] | var_list: ['a', 'b', 'lamb', 'y0', 'y1', 'y2', 'y3', 'y4', 'y5', 'y6']\n",
      "\n",
      "SensitivityExp/#variables/timeseries/Timeseries7| time: 0.01 | mean: [ 1.17424866  1.0766017   0.49905312 -1.09070023  0.17137866  1.8045169\n",
      "  0.92216718  1.78838159  2.61971818  1.75582309  3.94459489] | var_list: ['a', 'b', 'lamb', 'y0', 'y1', 'y2', 'y3', 'y4', 'y5', 'y6', 'y7']\n",
      "\n",
      "SensitivityExp/#variables/timeseries/Timeseries8| time: 0.03 | mean: [ 1.4216979   0.77289312  0.55895801 -1.09070023  0.48369676  2.00857087\n",
      "  1.69525979  2.4283066   3.17986353  2.73729584  4.35364667  3.24272711] | var_list: ['a', 'b', 'lamb', 'y0', 'y1', 'y2', 'y3', 'y4', 'y5', 'y6', 'y7', 'y8']\n",
      "\n",
      "SensitivityExp/#variables/timeseries/Timeseries9| time: 0.02 | mean: [ 1.44776298  0.71246594  0.54695465 -1.09070023  0.54826202  2.03057091\n",
      "  1.77892854  2.50272116  3.21753694  2.82217018  4.3323984   3.27273551\n",
      "  3.21778624] | var_list: ['a', 'b', 'lamb', 'y0', 'y1', 'y2', 'y3', 'y4', 'y5', 'y6', 'y7', 'y8', 'y9']\n",
      "\n",
      "SensitivityExp/#variables/timeseries/Timeseries10| time: 0.02 | mean: [ 1.4213858   0.79579552  0.52534526 -1.09070023  0.50936718  2.03343982\n",
      "  1.61812572  2.38520833  3.11773792  2.59610314  4.26316269  2.95879658\n",
      "  2.86407259  3.18324253] | var_list: ['a', 'b', 'lamb', 'y0', 'y1', 'y2', 'y3', 'y4', 'y5', 'y6', 'y7', 'y8', 'y9', 'y10']\n"
     ]
    }
   ],
   "source": [
    "from sogaPreprocessor import *\n",
    "from producecfg import *\n",
    "from libSOGA import *\n",
    "import time\n",
    "\n",
    "programs = ['SensitivityExp/#variables/timeseries/Timeseries{}'.format(i) for i in range(1,11)]\n",
    "\n",
    "for program in programs:\n",
    "    file = '../programs/SOGA/' + program + '.soga'\n",
    "    compiled = compile2SOGA(file)\n",
    "    cfg = produce_cfg(compiled)\n",
    "    start = time.time()\n",
    "    output = start_SOGA(cfg)\n",
    "    end = time.time()\n",
    "    print()\n",
    "    print(program + '| time: {} | mean: {} | var_list: '.format(np.round(end-start,2), output.gm.mean()) + str(output.var_list))"
   ]
  },
  {
   "cell_type": "code",
   "execution_count": 1,
   "id": "cc4b3e80",
   "metadata": {
    "scrolled": false
   },
   "outputs": [
    {
     "name": "stdout",
     "output_type": "stream",
     "text": [
      "\n",
      "SensitivityExp/#branches/continuous/RandomWalk1| time: 0.03 | mean: [0.] | var_list: ['x']\n",
      "\n",
      "SensitivityExp/#branches/continuous/RandomWalk3| time: 0.02 | mean: [0.] | var_list: ['x']\n",
      "\n",
      "SensitivityExp/#branches/continuous/RandomWalk5| time: 0.08 | mean: [0.] | var_list: ['x']\n",
      "\n",
      "SensitivityExp/#branches/continuous/RandomWalk7| time: 0.26 | mean: [0.] | var_list: ['x']\n",
      "\n",
      "SensitivityExp/#branches/continuous/RandomWalk9| time: 1.01 | mean: [0.] | var_list: ['x']\n",
      "\n",
      "SensitivityExp/#branches/continuous/RandomWalk11| time: 3.72 | mean: [0.] | var_list: ['x']\n",
      "\n",
      "SensitivityExp/#branches/continuous/RandomWalk13| time: 18.84 | mean: [0.] | var_list: ['x']\n",
      "\n",
      "SensitivityExp/#branches/continuous/RandomWalk15| time: 86.71 | mean: [0.] | var_list: ['x']\n"
     ]
    }
   ],
   "source": [
    "from sogaPreprocessor import *\n",
    "from producecfg import *\n",
    "from libSOGA import *\n",
    "import time\n",
    "\n",
    "programs = ['SensitivityExp/#branches/continuous/RandomWalk{}'.format(i) for i in range(1,16,2)]\n",
    "\n",
    "for program in programs:\n",
    "    file = '../programs/SOGA/' + program + '.soga'\n",
    "    compiled = compile2SOGA(file)\n",
    "    cfg = produce_cfg(compiled)\n",
    "    start = time.time()\n",
    "    output = start_SOGA(cfg)\n",
    "    end = time.time()\n",
    "    print()\n",
    "    print(program + '| time: {} | mean: {} | var_list: '.format(np.round(end-start,2), output.gm.mean()) + str(output.var_list))"
   ]
  },
  {
   "cell_type": "markdown",
   "id": "de04d837",
   "metadata": {},
   "source": [
    "# New Implementation + R"
   ]
  },
  {
   "cell_type": "code",
   "execution_count": 1,
   "id": "3fd982a8",
   "metadata": {
    "scrolled": true
   },
   "outputs": [
    {
     "name": "stdout",
     "output_type": "stream",
     "text": [
      "\n",
      "BayesPointMachine| time: 1.39 | mean: [ 0.01117781 -0.12016474 -0.27778036 -4.13952624 -2.86434177 -4.76773406\n",
      " -2.90703202 -2.19885417 -4.86233859] | var_list: ['w[0]', 'w[1]', 'w[2]', 'mean[0]', 'mean[1]', 'mean[2]', 'mean[3]', 'mean[4]', 'mean[5]']\n",
      "\n",
      "BernoulliPrune| time: 4.65 | mean: [0.25681726 1.        ] | var_list: ['theta', 'y']\n",
      "\n",
      "Burglar| time: 0.02 | mean: [2.82212318e-04 2.99344924e-03 3.27537935e-03 1.00000000e+00\n",
      " 1.00000000e+00 1.00000000e+00] | var_list: ['earthquake', 'burglary', 'alarm', 'phoneWorking', 'maryWakes', 'called']\n",
      "\n",
      "ClickGraphPrune| time: 18.7 | mean: [0.61401138 0.66059754 0.27903789 0.27903789 0.         0.        ] | var_list: ['simAll', 'sim', 'beta1', 'beta2', 'click0', 'click1']\n",
      "\n",
      "ClinicalTrialPrune| time: 7.39 | mean: [0.75341266 0.65793804 0.34257591 0.         1.        ] | var_list: ['isEff', 'probTreated', 'probContr', 'ycontr', 'ytreat']\n",
      "\n",
      "CoinBias| time: 2.0 | mean: [0.42586231 0.        ] | var_list: ['bias', 'y']\n",
      "\n",
      "Grass| time: 0.03 | mean: [0.57579972 0.70792768 0.42976356 0.7        0.49554937 0.95827538\n",
      " 0.93045897 0.69541029 0.41724618 1.        ] | var_list: ['cloudy', 'rain', 'sprinkler', 'temp1', 'wetRoof', 'temp2', 'temp3', 'or1', 'or2', 'wetGrass']\n",
      "\n",
      "IndianGPA| time: 0.75 | mean: [1.         4.         5.14482229 4.        ] | var_list: ['usa', 'usagpa', 'indgpa', 'gpa']\n",
      "\n",
      "MurderMistery| time: 0.01 | mean: [0.01581722 1.        ] | var_list: ['aliceDunnit', 'withGun']\n",
      "\n",
      "NoisyOr| time: 0.1 | mean: [0.5        0.5        0.45       0.45       0.45       0.45\n",
      " 0.6975     0.415      0.58825    0.81441875] | var_list: ['n0', 'n4', 'n1', 'n21', 'n22', 'n33', 'n2', 'n31', 'n32', 'n3']\n",
      "\n",
      "SurveyUnbias| time: 3.14 | mean: [0.79951422 0.5004458  1.         1.        ] | var_list: ['bias1', 'bias2', 'ansb1', 'ansb2']\n",
      "\n",
      "ThreeCoins| time: 0.12 | mean: [0.75 0.75 0.75] | var_list: ['a', 'b', 'c']\n",
      "\n",
      "TrueSkills| time: 0.25 | mean: [104.7131673   97.60989202  97.67694068 115.31779373  92.23214907\n",
      "  92.4500572 ] | var_list: ['skillA', 'skillB', 'skillC', 'perfA', 'perfB', 'perfC']\n",
      "\n",
      "TwoCoins| time: 0.01 | mean: [0.33333333 0.33333333 0.        ] | var_list: ['first', 'second', 'both']\n",
      "\n",
      "AQUA/Altermu| time: 0.07 | mean: [-2.57251482e+00  3.38062060e-01  2.71757796e+00  1.09861336e+00\n",
      "  2.85603752e+00 -9.16513510e-01  1.55551270e-01 -2.68160347e+00\n",
      "  2.47043789e+00  3.47459025e+00  1.63949862e+00 -1.32148757e+00\n",
      "  2.64187513e+00  3.03578480e-01 -4.09546231e+00 -1.50709863e+00\n",
      " -9.95178660e-01 -2.06488920e+00 -2.40317949e+00  3.46383544e+00\n",
      "  9.11736960e-01  1.18222221e+00  4.23572200e-02 -5.28151710e-01\n",
      "  1.15551598e+00 -1.62749724e+00  7.14732370e-01 -1.08458812e+00\n",
      "  4.66020296e+00  1.24563831e+00 -6.79708620e-01  9.34616810e-01\n",
      "  1.18187607e+00 -1.49501051e+00  2.44755622e+00 -2.06424237e+00\n",
      " -4.58407400e-02  1.93396696e+00  1.07685273e+00 -9.83790700e-02\n",
      "  0.00000000e+00  0.00000000e+00 -1.37893048e-03  3.11638290e-01] | var_list: ['y[0]', 'y[1]', 'y[2]', 'y[3]', 'y[4]', 'y[5]', 'y[6]', 'y[7]', 'y[8]', 'y[9]', 'y[10]', 'y[11]', 'y[12]', 'y[13]', 'y[14]', 'y[15]', 'y[16]', 'y[17]', 'y[18]', 'y[19]', 'y[20]', 'y[21]', 'y[22]', 'y[23]', 'y[24]', 'y[25]', 'y[26]', 'y[27]', 'y[28]', 'y[29]', 'y[30]', 'y[31]', 'y[32]', 'y[33]', 'y[34]', 'y[35]', 'y[36]', 'y[37]', 'y[38]', 'y[39]', 'w1', 'w2', 'w3', 'mean']\n",
      "\n",
      "AQUA/Altermu2| time: 0.12 | mean: [-2.57251482  0.33806206  2.71757796  1.09861336  2.85603752 -0.91651351\n",
      "  0.15555127 -2.68160347  2.47043789  3.47459025  1.63949862 -1.32148757\n",
      "  2.64187513  0.30357848 -4.09546231 -1.50709863 -0.99517866 -2.0648892\n",
      " -2.40317949  3.46383544  0.91173696  1.18222221  0.04235722 -0.52815171\n",
      "  1.15551598 -1.62749724  0.71473237 -1.08458812  4.66020296  1.24563831\n",
      " -0.67970862  0.93461681  1.18187607 -1.49501051  2.44755622 -2.06424237\n",
      " -0.04584074  1.93396696  1.07685273 -0.09837907  0.15560826  0.15560826] | var_list: ['y[0]', 'y[1]', 'y[2]', 'y[3]', 'y[4]', 'y[5]', 'y[6]', 'y[7]', 'y[8]', 'y[9]', 'y[10]', 'y[11]', 'y[12]', 'y[13]', 'y[14]', 'y[15]', 'y[16]', 'y[17]', 'y[18]', 'y[19]', 'y[20]', 'y[21]', 'y[22]', 'y[23]', 'y[24]', 'y[25]', 'y[26]', 'y[27]', 'y[28]', 'y[29]', 'y[30]', 'y[31]', 'y[32]', 'y[33]', 'y[34]', 'y[35]', 'y[36]', 'y[37]', 'y[38]', 'y[39]', 'w1', 'w2']\n",
      "\n",
      "AQUA/RadarQuery| time: 14.8 | mean: [ 1.          1.          5.95718023  5.95718023 -1.66001832  0.33185793\n",
      "  5.          4.62914792] | var_list: ['b0', 'b1', 'x0', 'x1', 'x', 'y', 'o0', 'o1']\n",
      "\n",
      "AQUA/TimeSeries| time: 0.22 | mean: [-1.60880811  0.700849    0.44712083 -1.09070023 -2.49513229 -2.07918899\n",
      " -3.34621083 -3.21905762 -3.8483514  -4.1459158  -2.17085703 -2.7298601\n",
      " -2.35417404 -3.05798313 -2.85360404 -2.9261493  -2.67713445 -2.97731975\n",
      " -4.75105001 -3.29399034 -4.11626048 -4.08086402 -3.34743298 -3.5929497\n",
      " -1.7048937  -3.52291184 -4.13944649 -4.04992281 -3.71707286 -2.68302052\n",
      " -3.21920266 -1.78221835 -1.71385612 -3.15284682 -3.26094915 -2.92240028\n",
      " -2.40186353 -3.16973318 -4.00540748 -2.32625323 -1.74827635 -1.05716215\n",
      " -3.44536781] | var_list: ['a', 'b', 'lamb', 'y0', 'y1', 'y2', 'y3', 'y4', 'y5', 'y6', 'y7', 'y8', 'y9', 'y10', 'y11', 'y12', 'y13', 'y14', 'y15', 'y16', 'y17', 'y18', 'y19', 'y20', 'y21', 'y22', 'y23', 'y24', 'y25', 'y26', 'y27', 'y28', 'y29', 'y30', 'y31', 'y32', 'y33', 'y34', 'y35', 'y36', 'y37', 'y38', 'y39']\n"
     ]
    }
   ],
   "source": [
    "from sogaPreprocessor import *\n",
    "from producecfg import *\n",
    "from libSOGA import *\n",
    "import time\n",
    "\n",
    "programs = ['BayesPointMachine', \n",
    "            'BernoulliPrune', \n",
    "            'Burglar', \n",
    "            'ClickGraphPrune', \n",
    "            'ClinicalTrialPrune', \n",
    "            'CoinBias', \n",
    "            #'DigitRecognition', \n",
    "            'Grass',\n",
    "            'IndianGPA',\n",
    "            'MurderMistery',\n",
    "            'NoisyOr',\n",
    "            'SurveyUnbias',\n",
    "            'ThreeCoins',\n",
    "            'TrueSkills',\n",
    "            'TwoCoins',\n",
    "            'AQUA/Altermu',\n",
    "            'AQUA/Altermu2',\n",
    "            #'AQUA/NormalMixturesPrune',\n",
    "            'AQUA/RadarQuery',\n",
    "            'AQUA/TimeSeries'\n",
    "            ]\n",
    "\n",
    "for program in programs:\n",
    "    file = '../programs/SOGA/' + program + '.soga'\n",
    "    compiled = compile2SOGA(file)\n",
    "    cfg = produce_cfg(compiled)\n",
    "    start = time.time()\n",
    "    output = start_SOGA(cfg, useR=True)\n",
    "    end = time.time()\n",
    "    print()\n",
    "    print(program + '| time: {} | mean: {} | var_list: '.format(np.round(end-start,2), output.gm.mean()) + str(output.var_list))"
   ]
  },
  {
   "cell_type": "code",
   "execution_count": 1,
   "id": "d1461c1b",
   "metadata": {},
   "outputs": [
    {
     "name": "stdout",
     "output_type": "stream",
     "text": [
      "\n",
      "SensitivityExp/#variables/timeseries/Timeseries1| time: 0.98 | mean: [ 1.63295913  0.72959986  0.44173355 -1.09070023  0.99771497] | var_list: ['a', 'b', 'lamb', 'y0', 'y1']\n",
      "\n",
      "SensitivityExp/#variables/timeseries/Timeseries2| time: 0.13 | mean: [ 1.28597012  1.06749934  0.48233714 -1.09070023  0.32805293  2.04779997] | var_list: ['a', 'b', 'lamb', 'y0', 'y1', 'y2']\n",
      "\n",
      "SensitivityExp/#variables/timeseries/Timeseries3| time: 0.17 | mean: [ 1.51481343  0.72624953  0.52083188 -1.09070023  0.65585802  2.21537493\n",
      "  1.99863561] | var_list: ['a', 'b', 'lamb', 'y0', 'y1', 'y2', 'y3']\n",
      "\n",
      "SensitivityExp/#variables/timeseries/Timeseries4| time: 0.15 | mean: [ 1.38748353  0.91807443  0.49632985 -1.09070023  0.46235926  2.08105628\n",
      "  1.4775214   2.36067325] | var_list: ['a', 'b', 'lamb', 'y0', 'y1', 'y2', 'y3', 'y4']\n",
      "\n",
      "SensitivityExp/#variables/timeseries/Timeseries5| time: 0.16 | mean: [ 1.27467336  1.01968676  0.49665553 -1.09070023  0.30146551  1.94229013\n",
      "  1.16376376  2.03531606  2.87881235] | var_list: ['a', 'b', 'lamb', 'y0', 'y1', 'y2', 'y3', 'y4', 'y5']\n",
      "\n",
      "SensitivityExp/#variables/timeseries/Timeseries6| time: 0.16 | mean: [ 1.4419955   0.79653674  0.53330373 -1.09070023  0.52394313  2.07312167\n",
      "  1.69179337  2.46120664  3.22477754  2.77195653] | var_list: ['a', 'b', 'lamb', 'y0', 'y1', 'y2', 'y3', 'y4', 'y5', 'y6']\n",
      "\n",
      "SensitivityExp/#variables/timeseries/Timeseries7| time: 0.16 | mean: [ 1.17423451  1.07660821  0.49899194 -1.09070023  0.17142835  1.80455722\n",
      "  0.92207371  1.78822058  2.61948556  1.75546334  3.94419075] | var_list: ['a', 'b', 'lamb', 'y0', 'y1', 'y2', 'y3', 'y4', 'y5', 'y6', 'y7']\n",
      "\n",
      "SensitivityExp/#variables/timeseries/Timeseries8| time: 0.16 | mean: [ 1.42175017  0.77285437  0.55886958 -1.09070023  0.48386194  2.00869436\n",
      "  1.69524521  2.4282145   3.17962277  2.73692897  4.35317564  3.24211633] | var_list: ['a', 'b', 'lamb', 'y0', 'y1', 'y2', 'y3', 'y4', 'y5', 'y6', 'y7', 'y8']\n",
      "\n",
      "SensitivityExp/#variables/timeseries/Timeseries9| time: 0.22 | mean: [ 1.44781332  0.71239626  0.54687634 -1.09070023  0.54842773  2.03067221\n",
      "  1.7789595   2.50264304  3.21730755  2.82187134  4.3319227   3.27222679\n",
      "  3.21729665] | var_list: ['a', 'b', 'lamb', 'y0', 'y1', 'y2', 'y3', 'y4', 'y5', 'y6', 'y7', 'y8', 'y9']\n",
      "\n",
      "SensitivityExp/#variables/timeseries/Timeseries10| time: 0.2 | mean: [ 1.42143329  0.795753    0.52527546 -1.09070023  0.50950921  2.03354713\n",
      "  1.61815114  2.38512964  3.11753853  2.59582152  4.26274467  2.95831764\n",
      "  2.86357493  3.18274568] | var_list: ['a', 'b', 'lamb', 'y0', 'y1', 'y2', 'y3', 'y4', 'y5', 'y6', 'y7', 'y8', 'y9', 'y10']\n"
     ]
    }
   ],
   "source": [
    "from sogaPreprocessor import *\n",
    "from producecfg import *\n",
    "from libSOGA import *\n",
    "import time\n",
    "\n",
    "programs = ['SensitivityExp/#variables/timeseries/Timeseries{}'.format(i) for i in range(1,11)]\n",
    "\n",
    "for program in programs:\n",
    "    file = '../programs/SOGA/' + program + '.soga'\n",
    "    compiled = compile2SOGA(file)\n",
    "    cfg = produce_cfg(compiled)\n",
    "    start = time.time()\n",
    "    output = start_SOGA(cfg, useR=True)\n",
    "    end = time.time()\n",
    "    print()\n",
    "    print(program + '| time: {} | mean: {} | var_list: '.format(np.round(end-start,2), output.gm.mean()) + str(output.var_list))"
   ]
  },
  {
   "cell_type": "code",
   "execution_count": 2,
   "id": "19030b1e",
   "metadata": {
    "scrolled": false
   },
   "outputs": [
    {
     "name": "stdout",
     "output_type": "stream",
     "text": [
      "\n",
      "SensitivityExp/#branches/continuous/RandomWalk1| time: 0.18 | mean: [0.] | var_list: ['x']\n",
      "\n",
      "SensitivityExp/#branches/continuous/RandomWalk3| time: 0.53 | mean: [0.] | var_list: ['x']\n",
      "\n",
      "SensitivityExp/#branches/continuous/RandomWalk5| time: 0.93 | mean: [0.] | var_list: ['x']\n",
      "\n",
      "SensitivityExp/#branches/continuous/RandomWalk7| time: 1.72 | mean: [0.] | var_list: ['x']\n",
      "\n",
      "SensitivityExp/#branches/continuous/RandomWalk9| time: 3.55 | mean: [0.] | var_list: ['x']\n",
      "\n",
      "SensitivityExp/#branches/continuous/RandomWalk11| time: 14.78 | mean: [0.] | var_list: ['x']\n",
      "\n",
      "SensitivityExp/#branches/continuous/RandomWalk13| time: 46.36 | mean: [0.] | var_list: ['x']\n",
      "\n",
      "SensitivityExp/#branches/continuous/RandomWalk15| time: 171.32 | mean: [0.] | var_list: ['x']\n"
     ]
    }
   ],
   "source": [
    "from sogaPreprocessor import *\n",
    "from producecfg import *\n",
    "from libSOGA import *\n",
    "import time\n",
    "\n",
    "programs = ['SensitivityExp/#branches/continuous/RandomWalk{}'.format(i) for i in range(1,16,2)]\n",
    "\n",
    "for program in programs:\n",
    "    file = '../programs/SOGA/' + program + '.soga'\n",
    "    compiled = compile2SOGA(file)\n",
    "    cfg = produce_cfg(compiled)\n",
    "    start = time.time()\n",
    "    output = start_SOGA(cfg, useR=True)\n",
    "    end = time.time()\n",
    "    print()\n",
    "    print(program + '| time: {} | mean: {} | var_list: '.format(np.round(end-start,2), output.gm.mean()) + str(output.var_list))"
   ]
  },
  {
   "cell_type": "code",
   "execution_count": null,
   "id": "edcc977e",
   "metadata": {},
   "outputs": [],
   "source": []
  }
 ],
 "metadata": {
  "kernelspec": {
   "display_name": "Python 3 (ipykernel)",
   "language": "python",
   "name": "python3"
  },
  "language_info": {
   "codemirror_mode": {
    "name": "ipython",
    "version": 3
   },
   "file_extension": ".py",
   "mimetype": "text/x-python",
   "name": "python",
   "nbconvert_exporter": "python",
   "pygments_lexer": "ipython3",
   "version": "3.11.5"
  }
 },
 "nbformat": 4,
 "nbformat_minor": 5
}
