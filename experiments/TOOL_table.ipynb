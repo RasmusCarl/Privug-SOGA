{
 "cells": [
  {
   "cell_type": "code",
   "execution_count": 1,
   "id": "8a27c66c-cdbf-4de2-adcb-a72a4083617f",
   "metadata": {},
   "outputs": [],
   "source": [
    "import pandas as pd\n",
    "import numpy as np\n",
    "import re"
   ]
  },
  {
   "cell_type": "code",
   "execution_count": 39,
   "id": "f5f0be38-daca-4eb0-b696-07e057f33874",
   "metadata": {},
   "outputs": [
    {
     "name": "stdout",
     "output_type": "stream",
     "text": [
      "                             model     time    value   c  d\n",
      "0    soga_clinicaltrial_k=0.00725c   30.229  0.74395  45  5\n",
      "1       soga_clickgraph_k=0.00725c   55.139  0.62776  35  6\n",
      "2       soga_radarquery_k=0.00725c    2.256  6.03943  12  8\n",
      "3        soga_bernoulli_k=0.00725c    0.304  0.25689  15  2\n",
      "4      soga_clinicaltrial_k=0.015c   49.722  0.73963  89  5\n",
      "5         soga_clickgraph_k=0.015c  110.999  0.59750  69  6\n",
      "6         soga_radarquery_k=0.015c    3.771  5.75695  15  8\n",
      "7          soga_bernoulli_k=0.015c    0.562  0.25690  30  2\n",
      "8   soga_clinicaltrial_k=0.003625c    7.760  0.80058  23  5\n",
      "9      soga_clickgraph_k=0.003625c   31.689  0.61545  18  6\n",
      "10     soga_radarquery_k=0.003625c    1.259  5.70399   6  8\n",
      "11      soga_bernoulli_k=0.003625c    0.179  0.25683   8  2\n"
     ]
    }
   ],
   "source": [
    "df=pd.read_csv(\"./results/pruneSensitivity.csv\")\n",
    "print(df)\n",
    "trueValue=pd.read_csv(\"./results/PruneTrue.csv\")"
   ]
  },
  {
   "cell_type": "code",
   "execution_count": 28,
   "id": "5a6ac067-ef04-4618-924a-16a1303a0c45",
   "metadata": {},
   "outputs": [],
   "source": [
    "#print(list(set(df[\"model\"])))\n",
    "models=list(set(list(map(lambda x:x.split(\"_k=\")[0],list(set(df[\"model\"]))))))"
   ]
  },
  {
   "cell_type": "code",
   "execution_count": 55,
   "id": "6f69f28f-7ee5-4f87-a768-cda16e918712",
   "metadata": {},
   "outputs": [
    {
     "name": "stdout",
     "output_type": "stream",
     "text": [
      "Series([], )\\\\ bernoulli\n",
      "Series([], )\\\\ clickgraph\n",
      "Series([], )\\\\ clinicaltrial\n",
      "Series([], )\\\\ normalmixtures\n",
      "Series([], )\\\\ radarquery\n"
     ]
    },
    {
     "name": "stderr",
     "output_type": "stream",
     "text": [
      "/var/folders/th/tzthw0195kn8qkczx48fv6440000gn/T/ipykernel_57016/2452805745.py:7: FutureWarning: Series.__getitem__ treating keys as positions is deprecated. In a future version, integer keys will always be treated as labels (consistent with DataFrame behavior). To access a value by position, use `ser.iloc[pos]`\n",
      "  res=g.apply(lambda x:f\"{x[1]:02.2f} & {abs(gt-float(x[2]))*100/gt:02.2f}\",axis=1)\n",
      "/var/folders/th/tzthw0195kn8qkczx48fv6440000gn/T/ipykernel_57016/2452805745.py:7: FutureWarning: Series.__getitem__ treating keys as positions is deprecated. In a future version, integer keys will always be treated as labels (consistent with DataFrame behavior). To access a value by position, use `ser.iloc[pos]`\n",
      "  res=g.apply(lambda x:f\"{x[1]:02.2f} & {abs(gt-float(x[2]))*100/gt:02.2f}\",axis=1)\n",
      "/var/folders/th/tzthw0195kn8qkczx48fv6440000gn/T/ipykernel_57016/2452805745.py:7: FutureWarning: Series.__getitem__ treating keys as positions is deprecated. In a future version, integer keys will always be treated as labels (consistent with DataFrame behavior). To access a value by position, use `ser.iloc[pos]`\n",
      "  res=g.apply(lambda x:f\"{x[1]:02.2f} & {abs(gt-float(x[2]))*100/gt:02.2f}\",axis=1)\n",
      "/var/folders/th/tzthw0195kn8qkczx48fv6440000gn/T/ipykernel_57016/2452805745.py:7: FutureWarning: Series.__getitem__ treating keys as positions is deprecated. In a future version, integer keys will always be treated as labels (consistent with DataFrame behavior). To access a value by position, use `ser.iloc[pos]`\n",
      "  res=g.apply(lambda x:f\"{x[1]:02.2f} & {abs(gt-float(x[2]))*100/gt:02.2f}\",axis=1)\n",
      "/var/folders/th/tzthw0195kn8qkczx48fv6440000gn/T/ipykernel_57016/2452805745.py:7: FutureWarning: Series.__getitem__ treating keys as positions is deprecated. In a future version, integer keys will always be treated as labels (consistent with DataFrame behavior). To access a value by position, use `ser.iloc[pos]`\n",
      "  res=g.apply(lambda x:f\"{x[1]:02.2f} & {abs(gt-float(x[2]))*100/gt:02.2f}\",axis=1)\n"
     ]
    }
   ],
   "source": [
    "for m in trueValue[\"model\"].to_string(index=False).split(\"\\n\"):\n",
    "    m=m.strip()\n",
    "    gt=trueValue[trueValue[\"model\"]==m]\n",
    "    gt=gt[\"value\"].iloc[0]\n",
    "    g=df[df['model'].str.contains(m)].sort_values(by='model', ascending=False)\n",
    "    #print(g)\n",
    "    res=g.apply(lambda x:f\"{x[1]:02.2f} & {abs(gt-float(x[2]))*100/gt:02.2f}\",axis=1)\n",
    "    print(f\"& \".join(res.to_string(index=False).split(\"\\n\"))+f\"\\\\\\\\ {m}\")"
   ]
  },
  {
   "cell_type": "markdown",
   "id": "5a2108f5-cad0-4536-b216-cc49914e30ca",
   "metadata": {},
   "source": [
    "## Table2 Script"
   ]
  },
  {
   "cell_type": "code",
   "execution_count": 7,
   "id": "6fb1c283-e1f8-409a-ac15-d9e09c381530",
   "metadata": {},
   "outputs": [
    {
     "name": "stdout",
     "output_type": "stream",
     "text": [
      "          model    time    value  c  #vars     time.1  value.1\n",
      "1   timeseries1   0.484  0.99768  2      5   266.1181  1.00299\n",
      "6   timeseries2   0.491  2.04783  2      6   225.3635  2.05671\n",
      "5   timeseries3  15.133  1.99895  2      7  466.32183  1.99161\n",
      "8   timeseries4   9.859  2.36094  2      8  524.14131  2.39954\n",
      "7   timeseries5   0.509  2.87916  2      9         to      NaN\n",
      "4   timeseries6   0.531  2.77245  2     10         to      NaN\n",
      "9   timeseries7   0.608  3.94455  2     11         to      NaN\n",
      "3   timeseries8   0.581  3.24248  2     12         to      NaN\n",
      "0   timeseries9   0.562  3.21674  2     13         to      NaN\n",
      "2  timeseries10   0.549  3.18213  2     14         to      NaN\n"
     ]
    }
   ],
   "source": [
    "pd.options.display.max_colwidth = 100\n",
    "df=pd.read_csv(\"./results/varSensitivity.csv\").sort_values(by='#vars', ascending=True)\n",
    "print(df)"
   ]
  },
  {
   "cell_type": "code",
   "execution_count": 10,
   "id": "bc556bc7-7473-4a40-8aa4-73756b0a8b5f",
   "metadata": {},
   "outputs": [
    {
     "ename": "UFuncTypeError",
     "evalue": "ufunc 'multiply' did not contain a loop with signature matching types (dtype('<U8'), dtype('float64')) -> None",
     "output_type": "error",
     "traceback": [
      "\u001b[0;31m---------------------------------------------------------------------------\u001b[0m",
      "\u001b[0;31mUFuncTypeError\u001b[0m                            Traceback (most recent call last)",
      "Cell \u001b[0;32mIn[10], line 3\u001b[0m\n\u001b[1;32m      1\u001b[0m \u001b[38;5;66;03m#res=df.apply(lambda x:f\"\\textsl{{{x[0]}}}_{{{x[4]}}} & {x[1]} & {np.round(x[2],2):.2f} & {np.round(x[3],3):.3f} & {np.round(x[5],2):.2f} & {np.round(x[6],3):.3f} &  \\\\\\\\\",axis=1)\u001b[39;00m\n\u001b[1;32m      2\u001b[0m \u001b[38;5;66;03m#print(\"\\n\".join(res.to_string(index=False).split(\"\\n\")))\u001b[39;00m\n\u001b[0;32m----> 3\u001b[0m res\u001b[38;5;241m=\u001b[39m\u001b[43mdf\u001b[49m\u001b[38;5;241;43m.\u001b[39;49m\u001b[43mapply\u001b[49m\u001b[43m(\u001b[49m\u001b[38;5;28;43;01mlambda\u001b[39;49;00m\u001b[43m \u001b[49m\u001b[43mx\u001b[49m\u001b[43m:\u001b[49m\u001b[38;5;124;43mf\u001b[39;49m\u001b[38;5;124;43m\"\u001b[39;49m\u001b[38;5;130;43;01m\\t\u001b[39;49;00m\u001b[38;5;124;43mextsl\u001b[39;49m\u001b[38;5;130;43;01m{{\u001b[39;49;00m\u001b[38;5;132;43;01m{\u001b[39;49;00m\u001b[43mx\u001b[49m\u001b[43m[\u001b[49m\u001b[38;5;241;43m0\u001b[39;49m\u001b[43m]\u001b[49m\u001b[38;5;132;43;01m}\u001b[39;49;00m\u001b[38;5;130;43;01m}}\u001b[39;49;00m\u001b[38;5;124;43m_\u001b[39;49m\u001b[38;5;130;43;01m{{\u001b[39;49;00m\u001b[38;5;132;43;01m{\u001b[39;49;00m\u001b[43mx\u001b[49m\u001b[43m[\u001b[49m\u001b[38;5;241;43m4\u001b[39;49m\u001b[43m]\u001b[49m\u001b[38;5;132;43;01m}\u001b[39;49;00m\u001b[38;5;130;43;01m}}\u001b[39;49;00m\u001b[38;5;124;43m & \u001b[39;49m\u001b[38;5;132;43;01m{\u001b[39;49;00m\u001b[43mx\u001b[49m\u001b[43m[\u001b[49m\u001b[38;5;241;43m4\u001b[39;49m\u001b[43m]\u001b[49m\u001b[38;5;132;43;01m}\u001b[39;49;00m\u001b[38;5;124;43m & \u001b[39;49m\u001b[38;5;132;43;01m{\u001b[39;49;00m\u001b[43mnp\u001b[49m\u001b[38;5;241;43m.\u001b[39;49m\u001b[43mround\u001b[49m\u001b[43m(\u001b[49m\u001b[43mx\u001b[49m\u001b[43m[\u001b[49m\u001b[38;5;241;43m1\u001b[39;49m\u001b[43m]\u001b[49m\u001b[43m,\u001b[49m\u001b[38;5;241;43m2\u001b[39;49m\u001b[43m)\u001b[49m\u001b[38;5;132;43;01m:\u001b[39;49;00m\u001b[38;5;124;43m.2f\u001b[39;49m\u001b[38;5;132;43;01m}\u001b[39;49;00m\u001b[38;5;124;43m & \u001b[39;49m\u001b[38;5;132;43;01m{\u001b[39;49;00m\u001b[43mnp\u001b[49m\u001b[38;5;241;43m.\u001b[39;49m\u001b[43mround\u001b[49m\u001b[43m(\u001b[49m\u001b[43mx\u001b[49m\u001b[43m[\u001b[49m\u001b[38;5;241;43m2\u001b[39;49m\u001b[43m]\u001b[49m\u001b[43m,\u001b[49m\u001b[38;5;241;43m3\u001b[39;49m\u001b[43m)\u001b[49m\u001b[38;5;132;43;01m:\u001b[39;49;00m\u001b[38;5;124;43m.3f\u001b[39;49m\u001b[38;5;132;43;01m}\u001b[39;49;00m\u001b[38;5;124;43m & \u001b[39;49m\u001b[38;5;132;43;01m{\u001b[39;49;00m\u001b[43mnp\u001b[49m\u001b[38;5;241;43m.\u001b[39;49m\u001b[43mround\u001b[49m\u001b[43m(\u001b[49m\u001b[43mx\u001b[49m\u001b[43m[\u001b[49m\u001b[38;5;241;43m5\u001b[39;49m\u001b[43m]\u001b[49m\u001b[43m,\u001b[49m\u001b[38;5;241;43m2\u001b[39;49m\u001b[43m)\u001b[49m\u001b[38;5;132;43;01m:\u001b[39;49;00m\u001b[38;5;124;43m.2f\u001b[39;49m\u001b[38;5;132;43;01m}\u001b[39;49;00m\u001b[38;5;124;43m & \u001b[39;49m\u001b[38;5;132;43;01m{\u001b[39;49;00m\u001b[43mnp\u001b[49m\u001b[38;5;241;43m.\u001b[39;49m\u001b[43mround\u001b[49m\u001b[43m(\u001b[49m\u001b[43mx\u001b[49m\u001b[43m[\u001b[49m\u001b[38;5;241;43m6\u001b[39;49m\u001b[43m]\u001b[49m\u001b[43m,\u001b[49m\u001b[38;5;241;43m3\u001b[39;49m\u001b[43m)\u001b[49m\u001b[38;5;132;43;01m:\u001b[39;49;00m\u001b[38;5;124;43m.3f\u001b[39;49m\u001b[38;5;132;43;01m}\u001b[39;49;00m\u001b[38;5;124;43m \u001b[39;49m\u001b[38;5;130;43;01m\\\\\u001b[39;49;00m\u001b[38;5;130;43;01m\\\\\u001b[39;49;00m\u001b[38;5;124;43m\"\u001b[39;49m\u001b[43m,\u001b[49m\u001b[43maxis\u001b[49m\u001b[38;5;241;43m=\u001b[39;49m\u001b[38;5;241;43m1\u001b[39;49m\u001b[43m)\u001b[49m\n\u001b[1;32m      4\u001b[0m \u001b[38;5;28mprint\u001b[39m(\u001b[38;5;124m\"\u001b[39m\u001b[38;5;130;01m\\n\u001b[39;00m\u001b[38;5;124m\"\u001b[39m\u001b[38;5;241m.\u001b[39mjoin(res\u001b[38;5;241m.\u001b[39mto_string(index\u001b[38;5;241m=\u001b[39m\u001b[38;5;28;01mFalse\u001b[39;00m)\u001b[38;5;241m.\u001b[39msplit(\u001b[38;5;124m\"\u001b[39m\u001b[38;5;130;01m\\n\u001b[39;00m\u001b[38;5;124m\"\u001b[39m)))\n",
      "File \u001b[0;32m~/Library/Python/3.9/lib/python/site-packages/pandas/core/frame.py:9423\u001b[0m, in \u001b[0;36mDataFrame.apply\u001b[0;34m(self, func, axis, raw, result_type, args, **kwargs)\u001b[0m\n\u001b[1;32m   9412\u001b[0m \u001b[38;5;28;01mfrom\u001b[39;00m \u001b[38;5;21;01mpandas\u001b[39;00m\u001b[38;5;21;01m.\u001b[39;00m\u001b[38;5;21;01mcore\u001b[39;00m\u001b[38;5;21;01m.\u001b[39;00m\u001b[38;5;21;01mapply\u001b[39;00m \u001b[38;5;28;01mimport\u001b[39;00m frame_apply\n\u001b[1;32m   9414\u001b[0m op \u001b[38;5;241m=\u001b[39m frame_apply(\n\u001b[1;32m   9415\u001b[0m     \u001b[38;5;28mself\u001b[39m,\n\u001b[1;32m   9416\u001b[0m     func\u001b[38;5;241m=\u001b[39mfunc,\n\u001b[0;32m   (...)\u001b[0m\n\u001b[1;32m   9421\u001b[0m     kwargs\u001b[38;5;241m=\u001b[39mkwargs,\n\u001b[1;32m   9422\u001b[0m )\n\u001b[0;32m-> 9423\u001b[0m \u001b[38;5;28;01mreturn\u001b[39;00m \u001b[43mop\u001b[49m\u001b[38;5;241;43m.\u001b[39;49m\u001b[43mapply\u001b[49m\u001b[43m(\u001b[49m\u001b[43m)\u001b[49m\u001b[38;5;241m.\u001b[39m__finalize__(\u001b[38;5;28mself\u001b[39m, method\u001b[38;5;241m=\u001b[39m\u001b[38;5;124m\"\u001b[39m\u001b[38;5;124mapply\u001b[39m\u001b[38;5;124m\"\u001b[39m)\n",
      "File \u001b[0;32m~/Library/Python/3.9/lib/python/site-packages/pandas/core/apply.py:678\u001b[0m, in \u001b[0;36mFrameApply.apply\u001b[0;34m(self)\u001b[0m\n\u001b[1;32m    675\u001b[0m \u001b[38;5;28;01melif\u001b[39;00m \u001b[38;5;28mself\u001b[39m\u001b[38;5;241m.\u001b[39mraw:\n\u001b[1;32m    676\u001b[0m     \u001b[38;5;28;01mreturn\u001b[39;00m \u001b[38;5;28mself\u001b[39m\u001b[38;5;241m.\u001b[39mapply_raw()\n\u001b[0;32m--> 678\u001b[0m \u001b[38;5;28;01mreturn\u001b[39;00m \u001b[38;5;28;43mself\u001b[39;49m\u001b[38;5;241;43m.\u001b[39;49m\u001b[43mapply_standard\u001b[49m\u001b[43m(\u001b[49m\u001b[43m)\u001b[49m\n",
      "File \u001b[0;32m~/Library/Python/3.9/lib/python/site-packages/pandas/core/apply.py:798\u001b[0m, in \u001b[0;36mFrameApply.apply_standard\u001b[0;34m(self)\u001b[0m\n\u001b[1;32m    797\u001b[0m \u001b[38;5;28;01mdef\u001b[39;00m \u001b[38;5;21mapply_standard\u001b[39m(\u001b[38;5;28mself\u001b[39m):\n\u001b[0;32m--> 798\u001b[0m     results, res_index \u001b[38;5;241m=\u001b[39m \u001b[38;5;28;43mself\u001b[39;49m\u001b[38;5;241;43m.\u001b[39;49m\u001b[43mapply_series_generator\u001b[49m\u001b[43m(\u001b[49m\u001b[43m)\u001b[49m\n\u001b[1;32m    800\u001b[0m     \u001b[38;5;66;03m# wrap results\u001b[39;00m\n\u001b[1;32m    801\u001b[0m     \u001b[38;5;28;01mreturn\u001b[39;00m \u001b[38;5;28mself\u001b[39m\u001b[38;5;241m.\u001b[39mwrap_results(results, res_index)\n",
      "File \u001b[0;32m~/Library/Python/3.9/lib/python/site-packages/pandas/core/apply.py:814\u001b[0m, in \u001b[0;36mFrameApply.apply_series_generator\u001b[0;34m(self)\u001b[0m\n\u001b[1;32m    811\u001b[0m \u001b[38;5;28;01mwith\u001b[39;00m option_context(\u001b[38;5;124m\"\u001b[39m\u001b[38;5;124mmode.chained_assignment\u001b[39m\u001b[38;5;124m\"\u001b[39m, \u001b[38;5;28;01mNone\u001b[39;00m):\n\u001b[1;32m    812\u001b[0m     \u001b[38;5;28;01mfor\u001b[39;00m i, v \u001b[38;5;129;01min\u001b[39;00m \u001b[38;5;28menumerate\u001b[39m(series_gen):\n\u001b[1;32m    813\u001b[0m         \u001b[38;5;66;03m# ignore SettingWithCopy here in case the user mutates\u001b[39;00m\n\u001b[0;32m--> 814\u001b[0m         results[i] \u001b[38;5;241m=\u001b[39m \u001b[38;5;28;43mself\u001b[39;49m\u001b[38;5;241;43m.\u001b[39;49m\u001b[43mf\u001b[49m\u001b[43m(\u001b[49m\u001b[43mv\u001b[49m\u001b[43m)\u001b[49m\n\u001b[1;32m    815\u001b[0m         \u001b[38;5;28;01mif\u001b[39;00m \u001b[38;5;28misinstance\u001b[39m(results[i], ABCSeries):\n\u001b[1;32m    816\u001b[0m             \u001b[38;5;66;03m# If we have a view on v, we need to make a copy because\u001b[39;00m\n\u001b[1;32m    817\u001b[0m             \u001b[38;5;66;03m#  series_generator will swap out the underlying data\u001b[39;00m\n\u001b[1;32m    818\u001b[0m             results[i] \u001b[38;5;241m=\u001b[39m results[i]\u001b[38;5;241m.\u001b[39mcopy(deep\u001b[38;5;241m=\u001b[39m\u001b[38;5;28;01mFalse\u001b[39;00m)\n",
      "Cell \u001b[0;32mIn[10], line 3\u001b[0m, in \u001b[0;36m<lambda>\u001b[0;34m(x)\u001b[0m\n\u001b[1;32m      1\u001b[0m \u001b[38;5;66;03m#res=df.apply(lambda x:f\"\\textsl{{{x[0]}}}_{{{x[4]}}} & {x[1]} & {np.round(x[2],2):.2f} & {np.round(x[3],3):.3f} & {np.round(x[5],2):.2f} & {np.round(x[6],3):.3f} &  \\\\\\\\\",axis=1)\u001b[39;00m\n\u001b[1;32m      2\u001b[0m \u001b[38;5;66;03m#print(\"\\n\".join(res.to_string(index=False).split(\"\\n\")))\u001b[39;00m\n\u001b[0;32m----> 3\u001b[0m res\u001b[38;5;241m=\u001b[39mdf\u001b[38;5;241m.\u001b[39mapply(\u001b[38;5;28;01mlambda\u001b[39;00m x:\u001b[38;5;124mf\u001b[39m\u001b[38;5;124m\"\u001b[39m\u001b[38;5;130;01m\\t\u001b[39;00m\u001b[38;5;124mextsl\u001b[39m\u001b[38;5;130;01m{{\u001b[39;00m\u001b[38;5;132;01m{\u001b[39;00mx[\u001b[38;5;241m0\u001b[39m]\u001b[38;5;132;01m}\u001b[39;00m\u001b[38;5;130;01m}}\u001b[39;00m\u001b[38;5;124m_\u001b[39m\u001b[38;5;130;01m{{\u001b[39;00m\u001b[38;5;132;01m{\u001b[39;00mx[\u001b[38;5;241m4\u001b[39m]\u001b[38;5;132;01m}\u001b[39;00m\u001b[38;5;130;01m}}\u001b[39;00m\u001b[38;5;124m & \u001b[39m\u001b[38;5;132;01m{\u001b[39;00mx[\u001b[38;5;241m4\u001b[39m]\u001b[38;5;132;01m}\u001b[39;00m\u001b[38;5;124m & \u001b[39m\u001b[38;5;132;01m{\u001b[39;00mnp\u001b[38;5;241m.\u001b[39mround(x[\u001b[38;5;241m1\u001b[39m],\u001b[38;5;241m2\u001b[39m)\u001b[38;5;132;01m:\u001b[39;00m\u001b[38;5;124m.2f\u001b[39m\u001b[38;5;132;01m}\u001b[39;00m\u001b[38;5;124m & \u001b[39m\u001b[38;5;132;01m{\u001b[39;00mnp\u001b[38;5;241m.\u001b[39mround(x[\u001b[38;5;241m2\u001b[39m],\u001b[38;5;241m3\u001b[39m)\u001b[38;5;132;01m:\u001b[39;00m\u001b[38;5;124m.3f\u001b[39m\u001b[38;5;132;01m}\u001b[39;00m\u001b[38;5;124m & \u001b[39m\u001b[38;5;132;01m{\u001b[39;00mnp\u001b[38;5;241m.\u001b[39mround(x[\u001b[38;5;241m5\u001b[39m],\u001b[38;5;241m2\u001b[39m)\u001b[38;5;132;01m:\u001b[39;00m\u001b[38;5;124m.2f\u001b[39m\u001b[38;5;132;01m}\u001b[39;00m\u001b[38;5;124m & \u001b[39m\u001b[38;5;132;01m{\u001b[39;00mnp\u001b[38;5;241m.\u001b[39mround(x[\u001b[38;5;241m6\u001b[39m],\u001b[38;5;241m3\u001b[39m)\u001b[38;5;132;01m:\u001b[39;00m\u001b[38;5;124m.3f\u001b[39m\u001b[38;5;132;01m}\u001b[39;00m\u001b[38;5;124m \u001b[39m\u001b[38;5;130;01m\\\\\u001b[39;00m\u001b[38;5;130;01m\\\\\u001b[39;00m\u001b[38;5;124m\"\u001b[39m,axis\u001b[38;5;241m=\u001b[39m\u001b[38;5;241m1\u001b[39m)\n\u001b[1;32m      4\u001b[0m \u001b[38;5;28mprint\u001b[39m(\u001b[38;5;124m\"\u001b[39m\u001b[38;5;130;01m\\n\u001b[39;00m\u001b[38;5;124m\"\u001b[39m\u001b[38;5;241m.\u001b[39mjoin(res\u001b[38;5;241m.\u001b[39mto_string(index\u001b[38;5;241m=\u001b[39m\u001b[38;5;28;01mFalse\u001b[39;00m)\u001b[38;5;241m.\u001b[39msplit(\u001b[38;5;124m\"\u001b[39m\u001b[38;5;130;01m\\n\u001b[39;00m\u001b[38;5;124m\"\u001b[39m)))\n",
      "File \u001b[0;32m<__array_function__ internals>:180\u001b[0m, in \u001b[0;36mround_\u001b[0;34m(*args, **kwargs)\u001b[0m\n",
      "File \u001b[0;32m~/Library/Python/3.9/lib/python/site-packages/numpy/core/fromnumeric.py:3773\u001b[0m, in \u001b[0;36mround_\u001b[0;34m(a, decimals, out)\u001b[0m\n\u001b[1;32m   3764\u001b[0m \u001b[38;5;129m@array_function_dispatch\u001b[39m(_around_dispatcher)\n\u001b[1;32m   3765\u001b[0m \u001b[38;5;28;01mdef\u001b[39;00m \u001b[38;5;21mround_\u001b[39m(a, decimals\u001b[38;5;241m=\u001b[39m\u001b[38;5;241m0\u001b[39m, out\u001b[38;5;241m=\u001b[39m\u001b[38;5;28;01mNone\u001b[39;00m):\n\u001b[1;32m   3766\u001b[0m \u001b[38;5;250m    \u001b[39m\u001b[38;5;124;03m\"\"\"\u001b[39;00m\n\u001b[1;32m   3767\u001b[0m \u001b[38;5;124;03m    Round an array to the given number of decimals.\u001b[39;00m\n\u001b[1;32m   3768\u001b[0m \n\u001b[0;32m   (...)\u001b[0m\n\u001b[1;32m   3771\u001b[0m \u001b[38;5;124;03m    around : equivalent function; see for details.\u001b[39;00m\n\u001b[1;32m   3772\u001b[0m \u001b[38;5;124;03m    \"\"\"\u001b[39;00m\n\u001b[0;32m-> 3773\u001b[0m     \u001b[38;5;28;01mreturn\u001b[39;00m \u001b[43maround\u001b[49m\u001b[43m(\u001b[49m\u001b[43ma\u001b[49m\u001b[43m,\u001b[49m\u001b[43m \u001b[49m\u001b[43mdecimals\u001b[49m\u001b[38;5;241;43m=\u001b[39;49m\u001b[43mdecimals\u001b[49m\u001b[43m,\u001b[49m\u001b[43m \u001b[49m\u001b[43mout\u001b[49m\u001b[38;5;241;43m=\u001b[39;49m\u001b[43mout\u001b[49m\u001b[43m)\u001b[49m\n",
      "File \u001b[0;32m<__array_function__ internals>:180\u001b[0m, in \u001b[0;36maround\u001b[0;34m(*args, **kwargs)\u001b[0m\n",
      "File \u001b[0;32m~/Library/Python/3.9/lib/python/site-packages/numpy/core/fromnumeric.py:3348\u001b[0m, in \u001b[0;36maround\u001b[0;34m(a, decimals, out)\u001b[0m\n\u001b[1;32m   3257\u001b[0m \u001b[38;5;129m@array_function_dispatch\u001b[39m(_around_dispatcher)\n\u001b[1;32m   3258\u001b[0m \u001b[38;5;28;01mdef\u001b[39;00m \u001b[38;5;21maround\u001b[39m(a, decimals\u001b[38;5;241m=\u001b[39m\u001b[38;5;241m0\u001b[39m, out\u001b[38;5;241m=\u001b[39m\u001b[38;5;28;01mNone\u001b[39;00m):\n\u001b[1;32m   3259\u001b[0m \u001b[38;5;250m    \u001b[39m\u001b[38;5;124;03m\"\"\"\u001b[39;00m\n\u001b[1;32m   3260\u001b[0m \u001b[38;5;124;03m    Evenly round to the given number of decimals.\u001b[39;00m\n\u001b[1;32m   3261\u001b[0m \n\u001b[0;32m   (...)\u001b[0m\n\u001b[1;32m   3346\u001b[0m \n\u001b[1;32m   3347\u001b[0m \u001b[38;5;124;03m    \"\"\"\u001b[39;00m\n\u001b[0;32m-> 3348\u001b[0m     \u001b[38;5;28;01mreturn\u001b[39;00m \u001b[43m_wrapfunc\u001b[49m\u001b[43m(\u001b[49m\u001b[43ma\u001b[49m\u001b[43m,\u001b[49m\u001b[43m \u001b[49m\u001b[38;5;124;43m'\u001b[39;49m\u001b[38;5;124;43mround\u001b[39;49m\u001b[38;5;124;43m'\u001b[39;49m\u001b[43m,\u001b[49m\u001b[43m \u001b[49m\u001b[43mdecimals\u001b[49m\u001b[38;5;241;43m=\u001b[39;49m\u001b[43mdecimals\u001b[49m\u001b[43m,\u001b[49m\u001b[43m \u001b[49m\u001b[43mout\u001b[49m\u001b[38;5;241;43m=\u001b[39;49m\u001b[43mout\u001b[49m\u001b[43m)\u001b[49m\n",
      "File \u001b[0;32m~/Library/Python/3.9/lib/python/site-packages/numpy/core/fromnumeric.py:54\u001b[0m, in \u001b[0;36m_wrapfunc\u001b[0;34m(obj, method, *args, **kwds)\u001b[0m\n\u001b[1;32m     52\u001b[0m bound \u001b[38;5;241m=\u001b[39m \u001b[38;5;28mgetattr\u001b[39m(obj, method, \u001b[38;5;28;01mNone\u001b[39;00m)\n\u001b[1;32m     53\u001b[0m \u001b[38;5;28;01mif\u001b[39;00m bound \u001b[38;5;129;01mis\u001b[39;00m \u001b[38;5;28;01mNone\u001b[39;00m:\n\u001b[0;32m---> 54\u001b[0m     \u001b[38;5;28;01mreturn\u001b[39;00m \u001b[43m_wrapit\u001b[49m\u001b[43m(\u001b[49m\u001b[43mobj\u001b[49m\u001b[43m,\u001b[49m\u001b[43m \u001b[49m\u001b[43mmethod\u001b[49m\u001b[43m,\u001b[49m\u001b[43m \u001b[49m\u001b[38;5;241;43m*\u001b[39;49m\u001b[43margs\u001b[49m\u001b[43m,\u001b[49m\u001b[43m \u001b[49m\u001b[38;5;241;43m*\u001b[39;49m\u001b[38;5;241;43m*\u001b[39;49m\u001b[43mkwds\u001b[49m\u001b[43m)\u001b[49m\n\u001b[1;32m     56\u001b[0m \u001b[38;5;28;01mtry\u001b[39;00m:\n\u001b[1;32m     57\u001b[0m     \u001b[38;5;28;01mreturn\u001b[39;00m bound(\u001b[38;5;241m*\u001b[39margs, \u001b[38;5;241m*\u001b[39m\u001b[38;5;241m*\u001b[39mkwds)\n",
      "File \u001b[0;32m~/Library/Python/3.9/lib/python/site-packages/numpy/core/fromnumeric.py:43\u001b[0m, in \u001b[0;36m_wrapit\u001b[0;34m(obj, method, *args, **kwds)\u001b[0m\n\u001b[1;32m     41\u001b[0m \u001b[38;5;28;01mexcept\u001b[39;00m \u001b[38;5;167;01mAttributeError\u001b[39;00m:\n\u001b[1;32m     42\u001b[0m     wrap \u001b[38;5;241m=\u001b[39m \u001b[38;5;28;01mNone\u001b[39;00m\n\u001b[0;32m---> 43\u001b[0m result \u001b[38;5;241m=\u001b[39m \u001b[38;5;28;43mgetattr\u001b[39;49m\u001b[43m(\u001b[49m\u001b[43masarray\u001b[49m\u001b[43m(\u001b[49m\u001b[43mobj\u001b[49m\u001b[43m)\u001b[49m\u001b[43m,\u001b[49m\u001b[43m \u001b[49m\u001b[43mmethod\u001b[49m\u001b[43m)\u001b[49m\u001b[43m(\u001b[49m\u001b[38;5;241;43m*\u001b[39;49m\u001b[43margs\u001b[49m\u001b[43m,\u001b[49m\u001b[43m \u001b[49m\u001b[38;5;241;43m*\u001b[39;49m\u001b[38;5;241;43m*\u001b[39;49m\u001b[43mkwds\u001b[49m\u001b[43m)\u001b[49m\n\u001b[1;32m     44\u001b[0m \u001b[38;5;28;01mif\u001b[39;00m wrap:\n\u001b[1;32m     45\u001b[0m     \u001b[38;5;28;01mif\u001b[39;00m \u001b[38;5;129;01mnot\u001b[39;00m \u001b[38;5;28misinstance\u001b[39m(result, mu\u001b[38;5;241m.\u001b[39mndarray):\n",
      "\u001b[0;31mUFuncTypeError\u001b[0m: ufunc 'multiply' did not contain a loop with signature matching types (dtype('<U8'), dtype('float64')) -> None"
     ]
    }
   ],
   "source": [
    "#res=df.apply(lambda x:f\"\\textsl{{{x[0]}}}_{{{x[4]}}} & {x[1]} & {np.round(x[2],2):.2f} & {np.round(x[3],3):.3f} & {np.round(x[5],2):.2f} & {np.round(x[6],3):.3f} &  \\\\\\\\\",axis=1)\n",
    "#print(\"\\n\".join(res.to_string(index=False).split(\"\\n\")))\n",
    "res=df.apply(lambda x:f\"\\textsl{{{x[0]}}}_{{{x[4]}}} & {x[4]} & {np.round(x[1],2):.2f} & {np.round(x[2],3):.3f} & {np.round(x[5],2):.2f} & {np.round(x[6],3):.3f} &{np.round(np.abs(x[2]-x[6])*100/x[6],2)} \\\\\\\\\",axis=1)\n",
    "print(\"\\n\".join(res.to_string(index=False).split(\"\\n\")))"
   ]
  },
  {
   "cell_type": "markdown",
   "id": "3675bf93-7d83-4ee4-acc4-b3eb960192c8",
   "metadata": {},
   "source": [
    "## Table3 Script"
   ]
  },
  {
   "cell_type": "code",
   "execution_count": 41,
   "id": "d83e0137-0b00-4ccb-a6b9-ab76ff6da12b",
   "metadata": {},
   "outputs": [],
   "source": [
    "pd.options.display.max_colwidth = 1000\n",
    "df=pd.read_csv(\"./results/branchSensitivity.csv\").sort_values(by=[\"model\",\"c\"], ascending=True)"
   ]
  },
  {
   "cell_type": "code",
   "execution_count": 42,
   "id": "5600be42-fafb-4fd5-8279-5d192ca2e7e4",
   "metadata": {},
   "outputs": [
    {
     "name": "stdout",
     "output_type": "stream",
     "text": [
      "                           model    time  value        c    d\n",
      "37   soga_randomwalk1_continuous   0.673    0.0      2.0  1.0\n",
      "46   soga_randomwalk3_continuous   1.286    0.0      8.0  1.0\n",
      "36   soga_randomwalk5_continuous   1.725    0.0     32.0  1.0\n",
      "45   soga_randomwalk7_continuous   2.293    0.0    128.0  1.0\n",
      "32   soga_randomwalk9_continuous   3.201    0.0    512.0  1.0\n",
      "25  soga_randomwalk11_continuous   5.177    0.0   2048.0  1.0\n",
      "35  soga_randomwalk13_continuous  11.775    0.0   8192.0  1.0\n",
      "40  soga_randomwalk15_continuous  35.735    0.0  32768.0  1.0\n"
     ]
    },
    {
     "ename": "ValueError",
     "evalue": "Length mismatch: Expected 40 rows, received array of length 8",
     "output_type": "error",
     "traceback": [
      "\u001b[0;31m---------------------------------------------------------------------------\u001b[0m",
      "\u001b[0;31mValueError\u001b[0m                                Traceback (most recent call last)",
      "\u001b[0;32m/var/folders/th/tzthw0195kn8qkczx48fv6440000gn/T/ipykernel_9277/2248659078.py\u001b[0m in \u001b[0;36m?\u001b[0;34m()\u001b[0m\n\u001b[0;32m---> 10\u001b[0;31m \u001b[0;31m#df.apply(lambda x:f\"%s & {x[3]} & \"%(x[0].replace(re.findall(r\"[a-z]*(\\d+.*)\",x[0])[0],\"\")),axis=1)\u001b[0m\u001b[0;34m\u001b[0m\u001b[0;34m\u001b[0m\u001b[0;34m\u001b[0m\u001b[0m\n\u001b[0m\u001b[1;32m     11\u001b[0m \u001b[0mdf_cont\u001b[0m\u001b[0;34m=\u001b[0m\u001b[0mdf\u001b[0m\u001b[0;34m[\u001b[0m\u001b[0;34m(\u001b[0m\u001b[0mdf\u001b[0m\u001b[0;34m[\u001b[0m\u001b[0;34m\"model\"\u001b[0m\u001b[0;34m]\u001b[0m\u001b[0;34m.\u001b[0m\u001b[0mstr\u001b[0m\u001b[0;34m.\u001b[0m\u001b[0mcontains\u001b[0m\u001b[0;34m(\u001b[0m\u001b[0;34m\"continuous\"\u001b[0m\u001b[0;34m)\u001b[0m\u001b[0;34m)\u001b[0m \u001b[0;34m&\u001b[0m \u001b[0;34m(\u001b[0m\u001b[0mdf\u001b[0m\u001b[0;34m[\u001b[0m\u001b[0;34m\"model\"\u001b[0m\u001b[0;34m]\u001b[0m\u001b[0;34m.\u001b[0m\u001b[0mstr\u001b[0m\u001b[0;34m.\u001b[0m\u001b[0mcontains\u001b[0m\u001b[0;34m(\u001b[0m\u001b[0;34m\"soga\"\u001b[0m\u001b[0;34m)\u001b[0m\u001b[0;34m)\u001b[0m \u001b[0;34m&\u001b[0m \u001b[0;34m(\u001b[0m\u001b[0mdf\u001b[0m\u001b[0;34m[\u001b[0m\u001b[0;34m\"model\"\u001b[0m\u001b[0;34m]\u001b[0m\u001b[0;34m.\u001b[0m\u001b[0mstr\u001b[0m\u001b[0;34m.\u001b[0m\u001b[0mcontains\u001b[0m\u001b[0;34m(\u001b[0m\u001b[0;34m\"randomwalk\"\u001b[0m\u001b[0;34m)\u001b[0m\u001b[0;34m)\u001b[0m\u001b[0;34m]\u001b[0m\u001b[0;34m.\u001b[0m\u001b[0msort_values\u001b[0m\u001b[0;34m(\u001b[0m\u001b[0mby\u001b[0m\u001b[0;34m=\u001b[0m\u001b[0;34m[\u001b[0m\u001b[0;34m\"c\"\u001b[0m\u001b[0;34m]\u001b[0m\u001b[0;34m,\u001b[0m \u001b[0mascending\u001b[0m\u001b[0;34m=\u001b[0m\u001b[0;32mTrue\u001b[0m\u001b[0;34m)\u001b[0m\u001b[0;34m\u001b[0m\u001b[0;34m\u001b[0m\u001b[0m\n\u001b[1;32m     12\u001b[0m \u001b[0mprint\u001b[0m\u001b[0;34m(\u001b[0m\u001b[0mdf_cont\u001b[0m\u001b[0;34m)\u001b[0m\u001b[0;34m\u001b[0m\u001b[0;34m\u001b[0m\u001b[0m\n\u001b[1;32m     13\u001b[0m \u001b[0;31m#df_cont[\"#B\"]=df_cont[\"model\"].apply(lambda x:re.findall(r\"[a-zA-Z]+(\\d+).*\",x)[0])\u001b[0m\u001b[0;34m\u001b[0m\u001b[0;34m\u001b[0m\u001b[0;34m\u001b[0m\u001b[0m\n",
      "\u001b[0;32m~/Library/Python/3.9/lib/python/site-packages/pandas/core/frame.py\u001b[0m in \u001b[0;36m?\u001b[0;34m(self, keys, drop, append, inplace, verify_integrity)\u001b[0m\n\u001b[1;32m   5920\u001b[0m \u001b[0;34m\u001b[0m\u001b[0m\n\u001b[1;32m   5921\u001b[0m             \u001b[0;32mif\u001b[0m \u001b[0mlen\u001b[0m\u001b[0;34m(\u001b[0m\u001b[0marrays\u001b[0m\u001b[0;34m[\u001b[0m\u001b[0;34m-\u001b[0m\u001b[0;36m1\u001b[0m\u001b[0;34m]\u001b[0m\u001b[0;34m)\u001b[0m \u001b[0;34m!=\u001b[0m \u001b[0mlen\u001b[0m\u001b[0;34m(\u001b[0m\u001b[0mself\u001b[0m\u001b[0;34m)\u001b[0m\u001b[0;34m:\u001b[0m\u001b[0;34m\u001b[0m\u001b[0;34m\u001b[0m\u001b[0m\n\u001b[1;32m   5922\u001b[0m                 \u001b[0;31m# check newest element against length of calling frame, since\u001b[0m\u001b[0;34m\u001b[0m\u001b[0;34m\u001b[0m\u001b[0;34m\u001b[0m\u001b[0m\n\u001b[1;32m   5923\u001b[0m                 \u001b[0;31m# ensure_index_from_sequences would not raise for append=False.\u001b[0m\u001b[0;34m\u001b[0m\u001b[0;34m\u001b[0m\u001b[0;34m\u001b[0m\u001b[0m\n\u001b[0;32m-> 5924\u001b[0;31m                 raise ValueError(\n\u001b[0m\u001b[1;32m   5925\u001b[0m                     \u001b[0;34mf\"Length mismatch: Expected {len(self)} rows, \"\u001b[0m\u001b[0;34m\u001b[0m\u001b[0;34m\u001b[0m\u001b[0m\n\u001b[1;32m   5926\u001b[0m                     \u001b[0;34mf\"received array of length {len(arrays[-1])}\"\u001b[0m\u001b[0;34m\u001b[0m\u001b[0;34m\u001b[0m\u001b[0m\n\u001b[1;32m   5927\u001b[0m                 )\n",
      "\u001b[0;31mValueError\u001b[0m: Length mismatch: Expected 40 rows, received array of length 8"
     ]
    }
   ],
   "source": [
    "#df.apply(lambda x:f\"%s & {x[3]} & \"%(x[0].replace(re.findall(r\"[a-z]*(\\d+.*)\",x[0])[0],\"\")),axis=1)\n",
    "df_cont=df[(df[\"model\"].str.contains(\"continuous\")) & (df[\"model\"].str.contains(\"soga\")) & (df[\"model\"].str.contains(\"randomwalk\"))].sort_values(by=[\"c\"], ascending=True)\n",
    "print(df_cont)\n",
    "#df_cont[\"#B\"]=df_cont[\"model\"].apply(lambda x:re.findall(r\"[a-zA-Z]+(\\d+).*\",x)[0])\n",
    "df_cont[\"model\"]=df_cont[\"model\"].apply(lambda x:re.findall(r\"([a-zA-Z]+)\\d+.*\",x)[0])\n",
    "df_disc=df[df[\"model\"].str.contains(\"discrete\")].sort_values(by=[\"c\"], ascending=True)\n",
    "df_disc[\"#B\"]=df_disc[\"model\"].apply(lambda x:re.findall(r\"[a-zA-Z]+(\\d+).*\",x)[0])\n",
    "df_disc[\"model\"]=df_disc[\"model\"].apply(lambda x:re.findall(r\"([a-zA-Z]+)\\d+.*\",x)[0])\n",
    "df_cont=df_cont.set_index(pd.Index(range(8)))\n",
    "df_disc=df_disc.set_index(pd.Index(range(8)))\n",
    "res=pd.concat([df_cont,df_disc],axis=1,join=\"inner\")"
   ]
  },
  {
   "cell_type": "code",
   "execution_count": 39,
   "id": "5595f49f-8ff3-409d-a391-8195f815a3db",
   "metadata": {},
   "outputs": [
    {
     "data": {
      "text/html": [
       "<div>\n",
       "<style scoped>\n",
       "    .dataframe tbody tr th:only-of-type {\n",
       "        vertical-align: middle;\n",
       "    }\n",
       "\n",
       "    .dataframe tbody tr th {\n",
       "        vertical-align: top;\n",
       "    }\n",
       "\n",
       "    .dataframe thead th {\n",
       "        text-align: right;\n",
       "    }\n",
       "</style>\n",
       "<table border=\"1\" class=\"dataframe\">\n",
       "  <thead>\n",
       "    <tr style=\"text-align: right;\">\n",
       "      <th></th>\n",
       "      <th>model</th>\n",
       "      <th>time</th>\n",
       "      <th>value</th>\n",
       "      <th>c</th>\n",
       "      <th>d</th>\n",
       "    </tr>\n",
       "  </thead>\n",
       "  <tbody>\n",
       "    <tr>\n",
       "      <th>66</th>\n",
       "      <td>psi_bernoulli11_continuous</td>\n",
       "      <td>3.618854</td>\n",
       "      <td>0.307692</td>\n",
       "      <td>NaN</td>\n",
       "      <td>NaN</td>\n",
       "    </tr>\n",
       "    <tr>\n",
       "      <th>50</th>\n",
       "      <td>psi_bernoulli11_discrete</td>\n",
       "      <td>4.597262</td>\n",
       "      <td>0.750000</td>\n",
       "      <td>NaN</td>\n",
       "      <td>NaN</td>\n",
       "    </tr>\n",
       "    <tr>\n",
       "      <th>69</th>\n",
       "      <td>psi_bernoulli13_continuous</td>\n",
       "      <td>3.785758</td>\n",
       "      <td>0.333333</td>\n",
       "      <td>NaN</td>\n",
       "      <td>NaN</td>\n",
       "    </tr>\n",
       "    <tr>\n",
       "      <th>53</th>\n",
       "      <td>psi_bernoulli13_discrete</td>\n",
       "      <td>5.096273</td>\n",
       "      <td>0.750000</td>\n",
       "      <td>NaN</td>\n",
       "      <td>NaN</td>\n",
       "    </tr>\n",
       "    <tr>\n",
       "      <th>76</th>\n",
       "      <td>psi_bernoulli15_continuous</td>\n",
       "      <td>3.820925</td>\n",
       "      <td>0.352941</td>\n",
       "      <td>NaN</td>\n",
       "      <td>NaN</td>\n",
       "    </tr>\n",
       "    <tr>\n",
       "      <th>...</th>\n",
       "      <td>...</td>\n",
       "      <td>...</td>\n",
       "      <td>...</td>\n",
       "      <td>...</td>\n",
       "      <td>...</td>\n",
       "    </tr>\n",
       "    <tr>\n",
       "      <th>19</th>\n",
       "      <td>soga_surveyunbias5_discrete</td>\n",
       "      <td>1.411000</td>\n",
       "      <td>NaN</td>\n",
       "      <td>1.0</td>\n",
       "      <td>4.0</td>\n",
       "    </tr>\n",
       "    <tr>\n",
       "      <th>30</th>\n",
       "      <td>soga_surveyunbias7_continuous</td>\n",
       "      <td>4.598000</td>\n",
       "      <td>NaN</td>\n",
       "      <td>511.0</td>\n",
       "      <td>4.0</td>\n",
       "    </tr>\n",
       "    <tr>\n",
       "      <th>7</th>\n",
       "      <td>soga_surveyunbias7_discrete</td>\n",
       "      <td>1.870000</td>\n",
       "      <td>NaN</td>\n",
       "      <td>1.0</td>\n",
       "      <td>4.0</td>\n",
       "    </tr>\n",
       "    <tr>\n",
       "      <th>27</th>\n",
       "      <td>soga_surveyunbias9_continuous</td>\n",
       "      <td>10.455000</td>\n",
       "      <td>NaN</td>\n",
       "      <td>1948.0</td>\n",
       "      <td>4.0</td>\n",
       "    </tr>\n",
       "    <tr>\n",
       "      <th>4</th>\n",
       "      <td>soga_surveyunbias9_discrete</td>\n",
       "      <td>2.286000</td>\n",
       "      <td>NaN</td>\n",
       "      <td>1.0</td>\n",
       "      <td>4.0</td>\n",
       "    </tr>\n",
       "  </tbody>\n",
       "</table>\n",
       "<p>79 rows × 5 columns</p>\n",
       "</div>"
      ],
      "text/plain": [
       "                            model       time     value       c    d\n",
       "66     psi_bernoulli11_continuous   3.618854  0.307692     NaN  NaN\n",
       "50       psi_bernoulli11_discrete   4.597262  0.750000     NaN  NaN\n",
       "69     psi_bernoulli13_continuous   3.785758  0.333333     NaN  NaN\n",
       "53       psi_bernoulli13_discrete   5.096273  0.750000     NaN  NaN\n",
       "76     psi_bernoulli15_continuous   3.820925  0.352941     NaN  NaN\n",
       "..                            ...        ...       ...     ...  ...\n",
       "19    soga_surveyunbias5_discrete   1.411000       NaN     1.0  4.0\n",
       "30  soga_surveyunbias7_continuous   4.598000       NaN   511.0  4.0\n",
       "7     soga_surveyunbias7_discrete   1.870000       NaN     1.0  4.0\n",
       "27  soga_surveyunbias9_continuous  10.455000       NaN  1948.0  4.0\n",
       "4     soga_surveyunbias9_discrete   2.286000       NaN     1.0  4.0\n",
       "\n",
       "[79 rows x 5 columns]"
      ]
     },
     "execution_count": 39,
     "metadata": {},
     "output_type": "execute_result"
    }
   ],
   "source": [
    "df"
   ]
  },
  {
   "cell_type": "code",
   "execution_count": 306,
   "id": "33c12165-71cd-417c-b9f4-62ab9b766425",
   "metadata": {},
   "outputs": [
    {
     "name": "stdout",
     "output_type": "stream",
     "text": [
      "      randomwalk_{1} & 0.01 & 0.00 & 2 & 1 \\\\\n",
      "      randomwalk_{2} & 0.01 & 0.01 & 8 & 3 \\\\\n",
      "     randomwalk_{3} & 0.03 & 0.01 & 32 & 5 \\\\\n",
      "    randomwalk_{4} & 0.12 & 0.02 & 128 & 7 \\\\\n",
      "    randomwalk_{5} & 0.55 & 0.07 & 512 & 9 \\\\\n",
      "  randomwalk_{6} & 1.65 & 0.29 & 2048 & 11 \\\\\n",
      "  randomwalk_{7} & 5.76 & 0.98 & 8192 & 13 \\\\\n",
      "randomwalk_{8} & 22.27 & 3.66 & 32768 & 15 \\\\\n"
     ]
    },
    {
     "name": "stderr",
     "output_type": "stream",
     "text": [
      "/var/folders/th/tzthw0195kn8qkczx48fv6440000gn/T/ipykernel_55793/4033885654.py:1: FutureWarning: Series.__getitem__ treating keys as positions is deprecated. In a future version, integer keys will always be treated as labels (consistent with DataFrame behavior). To access a value by position, use `ser.iloc[pos]`\n",
      "  res2=res.apply(lambda x:f\"{x[0]}_{{{x.name+1}}} & {np.round(x[1],2):.2f} & {np.round(x[8],2):.2f} & {int(x[10])} & {int(int(x[14]))} \\\\\\\\\",axis=1)\n"
     ]
    }
   ],
   "source": [
    "res2=res.apply(lambda x:f\"{x[0]}_{{{x.name+1}}} & {np.round(x[1],2):.2f} & {np.round(x[8],2):.2f} & {int(x[10])} & {int(int(x[14]))} \\\\\\\\\",axis=1)\n",
    "print(res2.to_string(index=False))"
   ]
  },
  {
   "cell_type": "markdown",
   "id": "99106eae-a97f-4e25-90e7-b22777d4a3a9",
   "metadata": {},
   "source": [
    "## Table4 Script"
   ]
  },
  {
   "cell_type": "code",
   "execution_count": 69,
   "id": "aa69762d-928f-4324-854c-e5605be1c922",
   "metadata": {},
   "outputs": [],
   "source": [
    "df=pd.read_csv(\"./results/cmpSensitivity_soga.csv\").sort_values(by=[\"model\",\"c\"], ascending=True)\n",
    "df_true=pd.read_csv(\"./results/cmpSensitivity_true.csv\").sort_values(by=[\"model\"], ascending=True)"
   ]
  },
  {
   "cell_type": "code",
   "execution_count": 80,
   "id": "bee329c6-4faa-432c-b0aa-76fcbf708f3c",
   "metadata": {},
   "outputs": [],
   "source": [
    "data=df[~df[\"model\"].str.contains(\"radarquery\")]\n",
    "data_tru=df_true[~df_true[\"model\"].str.contains(\"radarquery\")]"
   ]
  },
  {
   "cell_type": "code",
   "execution_count": 120,
   "id": "0845293a-00f2-42a4-a707-6837db954ce2",
   "metadata": {},
   "outputs": [
    {
     "name": "stdout",
     "output_type": "stream",
     "text": [
      "coinbias\n",
      "[2.73 2.19 0.1  0.02]\n",
      "surveyunbias\n",
      "[0.32 0.06 0.02 0.01]\n"
     ]
    }
   ],
   "source": [
    "for m in data_tru[\"model\"]:\n",
    "   print(m)\n",
    "   gt=float(data_tru[data_tru[\"model\"]==m].iloc[0][\"value\"])\n",
    "   e=abs((np.array(list(map(float,data[data[\"model\"].str.contains(m)][\"value\"].to_numpy())))-gt))*100/gt\n",
    "   print(np.round(e,2))"
   ]
  },
  {
   "cell_type": "code",
   "execution_count": null,
   "id": "ffdf8652-167b-41cc-b87e-d8be298b123a",
   "metadata": {},
   "outputs": [],
   "source": []
  },
  {
   "cell_type": "code",
   "execution_count": null,
   "id": "c71b41c1-85f9-4df0-9cb6-1e8d7690f791",
   "metadata": {},
   "outputs": [],
   "source": []
  }
 ],
 "metadata": {
  "kernelspec": {
   "display_name": "Python 3 (ipykernel)",
   "language": "python",
   "name": "python3"
  },
  "language_info": {
   "codemirror_mode": {
    "name": "ipython",
    "version": 3
   },
   "file_extension": ".py",
   "mimetype": "text/x-python",
   "name": "python",
   "nbconvert_exporter": "python",
   "pygments_lexer": "ipython3",
   "version": "3.9.6"
  }
 },
 "nbformat": 4,
 "nbformat_minor": 5
}
