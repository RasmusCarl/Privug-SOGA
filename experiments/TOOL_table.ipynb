{
 "cells": [
  {
   "cell_type": "code",
   "execution_count": 38,
   "id": "8a27c66c-cdbf-4de2-adcb-a72a4083617f",
   "metadata": {},
   "outputs": [],
   "source": [
    "import pandas as pd\n",
    "import numpy as np\n",
    "import re"
   ]
  },
  {
   "cell_type": "code",
   "execution_count": 39,
   "id": "f5f0be38-daca-4eb0-b696-07e057f33874",
   "metadata": {},
   "outputs": [
    {
     "name": "stdout",
     "output_type": "stream",
     "text": [
      "                             model     time    value   c  d\n",
      "0    soga_clinicaltrial_k=0.00725c   30.229  0.74395  45  5\n",
      "1       soga_clickgraph_k=0.00725c   55.139  0.62776  35  6\n",
      "2       soga_radarquery_k=0.00725c    2.256  6.03943  12  8\n",
      "3        soga_bernoulli_k=0.00725c    0.304  0.25689  15  2\n",
      "4      soga_clinicaltrial_k=0.015c   49.722  0.73963  89  5\n",
      "5         soga_clickgraph_k=0.015c  110.999  0.59750  69  6\n",
      "6         soga_radarquery_k=0.015c    3.771  5.75695  15  8\n",
      "7          soga_bernoulli_k=0.015c    0.562  0.25690  30  2\n",
      "8   soga_clinicaltrial_k=0.003625c    7.760  0.80058  23  5\n",
      "9      soga_clickgraph_k=0.003625c   31.689  0.61545  18  6\n",
      "10     soga_radarquery_k=0.003625c    1.259  5.70399   6  8\n",
      "11      soga_bernoulli_k=0.003625c    0.179  0.25683   8  2\n"
     ]
    }
   ],
   "source": [
    "df=pd.read_csv(\"./results/pruneSensitivity.csv\")\n",
    "print(df)\n",
    "trueValue=pd.read_csv(\"./results/PruneTrue.csv\")"
   ]
  },
  {
   "cell_type": "code",
   "execution_count": 28,
   "id": "5a6ac067-ef04-4618-924a-16a1303a0c45",
   "metadata": {},
   "outputs": [],
   "source": [
    "#print(list(set(df[\"model\"])))\n",
    "models=list(set(list(map(lambda x:x.split(\"_k=\")[0],list(set(df[\"model\"]))))))"
   ]
  },
  {
   "cell_type": "code",
   "execution_count": 55,
   "id": "6f69f28f-7ee5-4f87-a768-cda16e918712",
   "metadata": {},
   "outputs": [
    {
     "name": "stdout",
     "output_type": "stream",
     "text": [
      "Series([], )\\\\ bernoulli\n",
      "Series([], )\\\\ clickgraph\n",
      "Series([], )\\\\ clinicaltrial\n",
      "Series([], )\\\\ normalmixtures\n",
      "Series([], )\\\\ radarquery\n"
     ]
    },
    {
     "name": "stderr",
     "output_type": "stream",
     "text": [
      "/var/folders/th/tzthw0195kn8qkczx48fv6440000gn/T/ipykernel_57016/2452805745.py:7: FutureWarning: Series.__getitem__ treating keys as positions is deprecated. In a future version, integer keys will always be treated as labels (consistent with DataFrame behavior). To access a value by position, use `ser.iloc[pos]`\n",
      "  res=g.apply(lambda x:f\"{x[1]:02.2f} & {abs(gt-float(x[2]))*100/gt:02.2f}\",axis=1)\n",
      "/var/folders/th/tzthw0195kn8qkczx48fv6440000gn/T/ipykernel_57016/2452805745.py:7: FutureWarning: Series.__getitem__ treating keys as positions is deprecated. In a future version, integer keys will always be treated as labels (consistent with DataFrame behavior). To access a value by position, use `ser.iloc[pos]`\n",
      "  res=g.apply(lambda x:f\"{x[1]:02.2f} & {abs(gt-float(x[2]))*100/gt:02.2f}\",axis=1)\n",
      "/var/folders/th/tzthw0195kn8qkczx48fv6440000gn/T/ipykernel_57016/2452805745.py:7: FutureWarning: Series.__getitem__ treating keys as positions is deprecated. In a future version, integer keys will always be treated as labels (consistent with DataFrame behavior). To access a value by position, use `ser.iloc[pos]`\n",
      "  res=g.apply(lambda x:f\"{x[1]:02.2f} & {abs(gt-float(x[2]))*100/gt:02.2f}\",axis=1)\n",
      "/var/folders/th/tzthw0195kn8qkczx48fv6440000gn/T/ipykernel_57016/2452805745.py:7: FutureWarning: Series.__getitem__ treating keys as positions is deprecated. In a future version, integer keys will always be treated as labels (consistent with DataFrame behavior). To access a value by position, use `ser.iloc[pos]`\n",
      "  res=g.apply(lambda x:f\"{x[1]:02.2f} & {abs(gt-float(x[2]))*100/gt:02.2f}\",axis=1)\n",
      "/var/folders/th/tzthw0195kn8qkczx48fv6440000gn/T/ipykernel_57016/2452805745.py:7: FutureWarning: Series.__getitem__ treating keys as positions is deprecated. In a future version, integer keys will always be treated as labels (consistent with DataFrame behavior). To access a value by position, use `ser.iloc[pos]`\n",
      "  res=g.apply(lambda x:f\"{x[1]:02.2f} & {abs(gt-float(x[2]))*100/gt:02.2f}\",axis=1)\n"
     ]
    }
   ],
   "source": [
    "for m in trueValue[\"model\"].to_string(index=False).split(\"\\n\"):\n",
    "    m=m.strip()\n",
    "    gt=trueValue[trueValue[\"model\"]==m]\n",
    "    gt=gt[\"value\"].iloc[0]\n",
    "    g=df[df['model'].str.contains(m)].sort_values(by='model', ascending=False)\n",
    "    #print(g)\n",
    "    res=g.apply(lambda x:f\"{x[1]:02.2f} & {abs(gt-float(x[2]))*100/gt:02.2f}\",axis=1)\n",
    "    print(f\"& \".join(res.to_string(index=False).split(\"\\n\"))+f\"\\\\\\\\ {m}\")"
   ]
  },
  {
   "cell_type": "markdown",
   "id": "5a2108f5-cad0-4536-b216-cc49914e30ca",
   "metadata": {},
   "source": [
    "## Table2 Script"
   ]
  },
  {
   "cell_type": "code",
   "execution_count": 56,
   "id": "6fb1c283-e1f8-409a-ac15-d9e09c381530",
   "metadata": {},
   "outputs": [
    {
     "name": "stdout",
     "output_type": "stream",
     "text": [
      "          model     time    value  c  #vars      time.1  value.1\n",
      "7   timeseries1    0.014  0.99768  2      5    8.604669  0.99791\n",
      "6   timeseries2    0.047  2.04783  2      6   48.533110  2.04012\n",
      "5   timeseries3    0.118  1.99895  2      7   13.091124  2.00703\n",
      "2   timeseries4    0.410  2.36094  2      8   28.536123  2.30684\n",
      "1   timeseries5    1.065  2.87916  2      9   67.607409  2.99182\n",
      "9   timeseries6    3.407  2.77245  2     10   16.378216  3.03736\n",
      "8   timeseries7    9.841  3.94455  2     11  459.603001  3.95172\n",
      "3   timeseries8   22.524  3.24248  2     12   60.578495  3.60946\n",
      "0   timeseries9   46.629  3.21674  2     13   31.472895  3.06603\n",
      "4  timeseries10  102.972  3.18213  2     14   27.949352  3.44471\n"
     ]
    }
   ],
   "source": [
    "pd.options.display.max_colwidth = 100\n",
    "df=pd.read_csv(\"./results/varSensitivity.csv\").sort_values(by='#vars', ascending=True)\n",
    "print(df)"
   ]
  },
  {
   "cell_type": "code",
   "execution_count": 65,
   "id": "bc556bc7-7473-4a40-8aa4-73756b0a8b5f",
   "metadata": {},
   "outputs": [
    {
     "name": "stdout",
     "output_type": "stream",
     "text": [
      "     \\textsl{timeseries1}_{5} & 5 & 0.01 & 0.998 & 0.998 & 0.02 \\\\\n",
      "     \\textsl{timeseries2}_{6} & 6 & 0.05 & 2.048 & 2.040 & 0.38 \\\\\n",
      "      \\textsl{timeseries3}_{7} & 7 & 0.12 & 1.999 & 2.007 & 0.4 \\\\\n",
      "     \\textsl{timeseries4}_{8} & 8 & 0.41 & 2.361 & 2.307 & 2.35 \\\\\n",
      "     \\textsl{timeseries5}_{9} & 9 & 1.06 & 2.879 & 2.992 & 3.77 \\\\\n",
      "   \\textsl{timeseries6}_{10} & 10 & 3.41 & 2.772 & 3.037 & 8.72 \\\\\n",
      "   \\textsl{timeseries7}_{11} & 11 & 9.84 & 3.945 & 3.952 & 0.18 \\\\\n",
      " \\textsl{timeseries8}_{12} & 12 & 22.52 & 3.242 & 3.609 & 10.17 \\\\\n",
      "  \\textsl{timeseries9}_{13} & 13 & 46.63 & 3.217 & 3.066 & 4.92 \\\\\n",
      "\\textsl{timeseries10}_{14} & 14 & 102.97 & 3.182 & 3.445 & 7.62 \\\\\n"
     ]
    },
    {
     "name": "stderr",
     "output_type": "stream",
     "text": [
      "/var/folders/th/tzthw0195kn8qkczx48fv6440000gn/T/ipykernel_57016/610414394.py:3: FutureWarning: Series.__getitem__ treating keys as positions is deprecated. In a future version, integer keys will always be treated as labels (consistent with DataFrame behavior). To access a value by position, use `ser.iloc[pos]`\n",
      "  res=df.apply(lambda x:f\"\\textsl{{{x[0]}}}_{{{x[4]}}} & {x[4]} & {np.round(x[1],2):.2f} & {np.round(x[2],3):.3f} & {np.round(x[6],3):.3f} & {np.round(np.abs(x[2]-x[6])*100/x[6],2)} \\\\\\\\\",axis=1)\n"
     ]
    }
   ],
   "source": [
    "#res=df.apply(lambda x:f\"\\textsl{{{x[0]}}}_{{{x[4]}}} & {x[1]} & {np.round(x[2],2):.2f} & {np.round(x[3],3):.3f} & {np.round(x[5],2):.2f} & {np.round(x[6],3):.3f} &  \\\\\\\\\",axis=1)\n",
    "#print(\"\\n\".join(res.to_string(index=False).split(\"\\n\")))\n",
    "res=df.apply(lambda x:f\"\\textsl{{{x[0]}}}_{{{x[4]}}} & {x[4]} & {np.round(x[1],2):.2f} & {np.round(x[2],3):.3f} & {np.round(x[6],3):.3f} & {np.round(np.abs(x[2]-x[6])*100/x[6],2)} \\\\\\\\\",axis=1)\n",
    "print(\"\\n\".join(res.to_string(index=False).split(\"\\n\")))"
   ]
  },
  {
   "cell_type": "markdown",
   "id": "3675bf93-7d83-4ee4-acc4-b3eb960192c8",
   "metadata": {},
   "source": [
    "## Table3 Script"
   ]
  },
  {
   "cell_type": "code",
   "execution_count": 298,
   "id": "d83e0137-0b00-4ccb-a6b9-ab76ff6da12b",
   "metadata": {},
   "outputs": [],
   "source": [
    "pd.options.display.max_colwidth = 1000\n",
    "df=pd.read_csv(\"./results/branchSensitivity.csv\").sort_values(by=[\"model\",\"c\"], ascending=True)"
   ]
  },
  {
   "cell_type": "code",
   "execution_count": 301,
   "id": "5600be42-fafb-4fd5-8279-5d192ca2e7e4",
   "metadata": {},
   "outputs": [],
   "source": [
    "#df.apply(lambda x:f\"%s & {x[3]} & \"%(x[0].replace(re.findall(r\"[a-z]*(\\d+.*)\",x[0])[0],\"\")),axis=1)\n",
    "df_cont=df[df[\"model\"].str.contains(\"continuous\")].sort_values(by=[\"c\"], ascending=True)\n",
    "#df_cont[\"#B\"]=df_cont[\"model\"].apply(lambda x:re.findall(r\"[a-zA-Z]+(\\d+).*\",x)[0])\n",
    "df_cont[\"model\"]=df_cont[\"model\"].apply(lambda x:re.findall(r\"([a-zA-Z]+)\\d+.*\",x)[0])\n",
    "df_disc=df[df[\"model\"].str.contains(\"discrete\")].sort_values(by=[\"c\"], ascending=True)\n",
    "df_disc[\"#B\"]=df_disc[\"model\"].apply(lambda x:re.findall(r\"[a-zA-Z]+(\\d+).*\",x)[0])\n",
    "df_disc[\"model\"]=df_disc[\"model\"].apply(lambda x:re.findall(r\"([a-zA-Z]+)\\d+.*\",x)[0])\n",
    "df_cont=df_cont.set_index(pd.Index(range(8)))\n",
    "df_disc=df_disc.set_index(pd.Index(range(8)))\n",
    "res=pd.concat([df_cont,df_disc],axis=1,join=\"inner\")"
   ]
  },
  {
   "cell_type": "code",
   "execution_count": 302,
   "id": "5595f49f-8ff3-409d-a391-8195f815a3db",
   "metadata": {},
   "outputs": [
    {
     "data": {
      "text/html": [
       "<div>\n",
       "<style scoped>\n",
       "    .dataframe tbody tr th:only-of-type {\n",
       "        vertical-align: middle;\n",
       "    }\n",
       "\n",
       "    .dataframe tbody tr th {\n",
       "        vertical-align: top;\n",
       "    }\n",
       "\n",
       "    .dataframe thead th {\n",
       "        text-align: right;\n",
       "    }\n",
       "</style>\n",
       "<table border=\"1\" class=\"dataframe\">\n",
       "  <thead>\n",
       "    <tr style=\"text-align: right;\">\n",
       "      <th></th>\n",
       "      <th>model</th>\n",
       "      <th>time</th>\n",
       "      <th>value</th>\n",
       "      <th>c</th>\n",
       "      <th>d</th>\n",
       "      <th>time.1</th>\n",
       "      <th>value.1</th>\n",
       "      <th>model</th>\n",
       "      <th>time</th>\n",
       "      <th>value</th>\n",
       "      <th>c</th>\n",
       "      <th>d</th>\n",
       "      <th>time.1</th>\n",
       "      <th>value.1</th>\n",
       "      <th>#B</th>\n",
       "    </tr>\n",
       "  </thead>\n",
       "  <tbody>\n",
       "    <tr>\n",
       "      <th>0</th>\n",
       "      <td>randomwalk</td>\n",
       "      <td>0.005418</td>\n",
       "      <td>0.0</td>\n",
       "      <td>2</td>\n",
       "      <td>1</td>\n",
       "      <td>1.493751</td>\n",
       "      <td>0.0</td>\n",
       "      <td>randomwalk</td>\n",
       "      <td>0.004564</td>\n",
       "      <td>0.0</td>\n",
       "      <td>2</td>\n",
       "      <td>1</td>\n",
       "      <td>1.477096</td>\n",
       "      <td>0.0</td>\n",
       "      <td>1</td>\n",
       "    </tr>\n",
       "    <tr>\n",
       "      <th>1</th>\n",
       "      <td>randomwalk</td>\n",
       "      <td>0.013323</td>\n",
       "      <td>0.0</td>\n",
       "      <td>8</td>\n",
       "      <td>1</td>\n",
       "      <td>1.461626</td>\n",
       "      <td>0.0</td>\n",
       "      <td>randomwalk</td>\n",
       "      <td>0.007326</td>\n",
       "      <td>0.0</td>\n",
       "      <td>8</td>\n",
       "      <td>1</td>\n",
       "      <td>1.724162</td>\n",
       "      <td>0.0</td>\n",
       "      <td>3</td>\n",
       "    </tr>\n",
       "    <tr>\n",
       "      <th>2</th>\n",
       "      <td>randomwalk</td>\n",
       "      <td>0.034358</td>\n",
       "      <td>0.0</td>\n",
       "      <td>32</td>\n",
       "      <td>1</td>\n",
       "      <td>1.502031</td>\n",
       "      <td>0.0</td>\n",
       "      <td>randomwalk</td>\n",
       "      <td>0.011863</td>\n",
       "      <td>0.0</td>\n",
       "      <td>32</td>\n",
       "      <td>1</td>\n",
       "      <td>1.468378</td>\n",
       "      <td>0.0</td>\n",
       "      <td>5</td>\n",
       "    </tr>\n",
       "    <tr>\n",
       "      <th>3</th>\n",
       "      <td>randomwalk</td>\n",
       "      <td>0.122686</td>\n",
       "      <td>0.0</td>\n",
       "      <td>128</td>\n",
       "      <td>1</td>\n",
       "      <td>1.526104</td>\n",
       "      <td>0.0</td>\n",
       "      <td>randomwalk</td>\n",
       "      <td>0.023389</td>\n",
       "      <td>0.0</td>\n",
       "      <td>128</td>\n",
       "      <td>1</td>\n",
       "      <td>1.498579</td>\n",
       "      <td>0.0</td>\n",
       "      <td>7</td>\n",
       "    </tr>\n",
       "    <tr>\n",
       "      <th>4</th>\n",
       "      <td>randomwalk</td>\n",
       "      <td>0.549497</td>\n",
       "      <td>0.0</td>\n",
       "      <td>512</td>\n",
       "      <td>1</td>\n",
       "      <td>1.573802</td>\n",
       "      <td>0.0</td>\n",
       "      <td>randomwalk</td>\n",
       "      <td>0.071041</td>\n",
       "      <td>0.0</td>\n",
       "      <td>512</td>\n",
       "      <td>1</td>\n",
       "      <td>1.546391</td>\n",
       "      <td>0.0</td>\n",
       "      <td>9</td>\n",
       "    </tr>\n",
       "    <tr>\n",
       "      <th>5</th>\n",
       "      <td>randomwalk</td>\n",
       "      <td>1.650914</td>\n",
       "      <td>0.0</td>\n",
       "      <td>2048</td>\n",
       "      <td>1</td>\n",
       "      <td>1.660432</td>\n",
       "      <td>0.0</td>\n",
       "      <td>randomwalk</td>\n",
       "      <td>0.292556</td>\n",
       "      <td>0.0</td>\n",
       "      <td>2048</td>\n",
       "      <td>1</td>\n",
       "      <td>1.535125</td>\n",
       "      <td>0.0</td>\n",
       "      <td>11</td>\n",
       "    </tr>\n",
       "    <tr>\n",
       "      <th>6</th>\n",
       "      <td>randomwalk</td>\n",
       "      <td>5.764479</td>\n",
       "      <td>0.0</td>\n",
       "      <td>8192</td>\n",
       "      <td>1</td>\n",
       "      <td>1.754565</td>\n",
       "      <td>0.0</td>\n",
       "      <td>randomwalk</td>\n",
       "      <td>0.978950</td>\n",
       "      <td>0.0</td>\n",
       "      <td>8192</td>\n",
       "      <td>1</td>\n",
       "      <td>1.541171</td>\n",
       "      <td>0.0</td>\n",
       "      <td>13</td>\n",
       "    </tr>\n",
       "    <tr>\n",
       "      <th>7</th>\n",
       "      <td>randomwalk</td>\n",
       "      <td>22.269587</td>\n",
       "      <td>0.0</td>\n",
       "      <td>32768</td>\n",
       "      <td>1</td>\n",
       "      <td>1.858539</td>\n",
       "      <td>0.0</td>\n",
       "      <td>randomwalk</td>\n",
       "      <td>3.664000</td>\n",
       "      <td>0.0</td>\n",
       "      <td>32768</td>\n",
       "      <td>1</td>\n",
       "      <td>1.661738</td>\n",
       "      <td>0.0</td>\n",
       "      <td>15</td>\n",
       "    </tr>\n",
       "  </tbody>\n",
       "</table>\n",
       "</div>"
      ],
      "text/plain": [
       "        model       time  value      c  d    time.1  value.1       model  \\\n",
       "0  randomwalk   0.005418    0.0      2  1  1.493751      0.0  randomwalk   \n",
       "1  randomwalk   0.013323    0.0      8  1  1.461626      0.0  randomwalk   \n",
       "2  randomwalk   0.034358    0.0     32  1  1.502031      0.0  randomwalk   \n",
       "3  randomwalk   0.122686    0.0    128  1  1.526104      0.0  randomwalk   \n",
       "4  randomwalk   0.549497    0.0    512  1  1.573802      0.0  randomwalk   \n",
       "5  randomwalk   1.650914    0.0   2048  1  1.660432      0.0  randomwalk   \n",
       "6  randomwalk   5.764479    0.0   8192  1  1.754565      0.0  randomwalk   \n",
       "7  randomwalk  22.269587    0.0  32768  1  1.858539      0.0  randomwalk   \n",
       "\n",
       "       time  value      c  d    time.1  value.1  #B  \n",
       "0  0.004564    0.0      2  1  1.477096      0.0   1  \n",
       "1  0.007326    0.0      8  1  1.724162      0.0   3  \n",
       "2  0.011863    0.0     32  1  1.468378      0.0   5  \n",
       "3  0.023389    0.0    128  1  1.498579      0.0   7  \n",
       "4  0.071041    0.0    512  1  1.546391      0.0   9  \n",
       "5  0.292556    0.0   2048  1  1.535125      0.0  11  \n",
       "6  0.978950    0.0   8192  1  1.541171      0.0  13  \n",
       "7  3.664000    0.0  32768  1  1.661738      0.0  15  "
      ]
     },
     "execution_count": 302,
     "metadata": {},
     "output_type": "execute_result"
    }
   ],
   "source": [
    "res[]"
   ]
  },
  {
   "cell_type": "code",
   "execution_count": 306,
   "id": "33c12165-71cd-417c-b9f4-62ab9b766425",
   "metadata": {},
   "outputs": [
    {
     "name": "stdout",
     "output_type": "stream",
     "text": [
      "      randomwalk_{1} & 0.01 & 0.00 & 2 & 1 \\\\\n",
      "      randomwalk_{2} & 0.01 & 0.01 & 8 & 3 \\\\\n",
      "     randomwalk_{3} & 0.03 & 0.01 & 32 & 5 \\\\\n",
      "    randomwalk_{4} & 0.12 & 0.02 & 128 & 7 \\\\\n",
      "    randomwalk_{5} & 0.55 & 0.07 & 512 & 9 \\\\\n",
      "  randomwalk_{6} & 1.65 & 0.29 & 2048 & 11 \\\\\n",
      "  randomwalk_{7} & 5.76 & 0.98 & 8192 & 13 \\\\\n",
      "randomwalk_{8} & 22.27 & 3.66 & 32768 & 15 \\\\\n"
     ]
    },
    {
     "name": "stderr",
     "output_type": "stream",
     "text": [
      "/var/folders/th/tzthw0195kn8qkczx48fv6440000gn/T/ipykernel_55793/4033885654.py:1: FutureWarning: Series.__getitem__ treating keys as positions is deprecated. In a future version, integer keys will always be treated as labels (consistent with DataFrame behavior). To access a value by position, use `ser.iloc[pos]`\n",
      "  res2=res.apply(lambda x:f\"{x[0]}_{{{x.name+1}}} & {np.round(x[1],2):.2f} & {np.round(x[8],2):.2f} & {int(x[10])} & {int(int(x[14]))} \\\\\\\\\",axis=1)\n"
     ]
    }
   ],
   "source": [
    "res2=res.apply(lambda x:f\"{x[0]}_{{{x.name+1}}} & {np.round(x[1],2):.2f} & {np.round(x[8],2):.2f} & {int(x[10])} & {int(int(x[14]))} \\\\\\\\\",axis=1)\n",
    "print(res2.to_string(index=False))"
   ]
  },
  {
   "cell_type": "markdown",
   "id": "99106eae-a97f-4e25-90e7-b22777d4a3a9",
   "metadata": {},
   "source": [
    "## Table4 Script"
   ]
  },
  {
   "cell_type": "code",
   "execution_count": 69,
   "id": "aa69762d-928f-4324-854c-e5605be1c922",
   "metadata": {},
   "outputs": [],
   "source": [
    "df=pd.read_csv(\"./results/cmpSensitivity_soga.csv\").sort_values(by=[\"model\",\"c\"], ascending=True)\n",
    "df_true=pd.read_csv(\"./results/cmpSensitivity_true.csv\").sort_values(by=[\"model\"], ascending=True)"
   ]
  },
  {
   "cell_type": "code",
   "execution_count": 80,
   "id": "bee329c6-4faa-432c-b0aa-76fcbf708f3c",
   "metadata": {},
   "outputs": [],
   "source": [
    "data=df[~df[\"model\"].str.contains(\"radarquery\")]\n",
    "data_tru=df_true[~df_true[\"model\"].str.contains(\"radarquery\")]"
   ]
  },
  {
   "cell_type": "code",
   "execution_count": 120,
   "id": "0845293a-00f2-42a4-a707-6837db954ce2",
   "metadata": {},
   "outputs": [
    {
     "name": "stdout",
     "output_type": "stream",
     "text": [
      "coinbias\n",
      "[2.73 2.19 0.1  0.02]\n",
      "surveyunbias\n",
      "[0.32 0.06 0.02 0.01]\n"
     ]
    }
   ],
   "source": [
    "for m in data_tru[\"model\"]:\n",
    "   print(m)\n",
    "   gt=float(data_tru[data_tru[\"model\"]==m].iloc[0][\"value\"])\n",
    "   e=abs((np.array(list(map(float,data[data[\"model\"].str.contains(m)][\"value\"].to_numpy())))-gt))*100/gt\n",
    "   print(np.round(e,2))"
   ]
  },
  {
   "cell_type": "code",
   "execution_count": null,
   "id": "ffdf8652-167b-41cc-b87e-d8be298b123a",
   "metadata": {},
   "outputs": [],
   "source": []
  },
  {
   "cell_type": "code",
   "execution_count": null,
   "id": "c71b41c1-85f9-4df0-9cb6-1e8d7690f791",
   "metadata": {},
   "outputs": [],
   "source": []
  }
 ],
 "metadata": {
  "kernelspec": {
   "display_name": "Python 3 (ipykernel)",
   "language": "python",
   "name": "python3"
  },
  "language_info": {
   "codemirror_mode": {
    "name": "ipython",
    "version": 3
   },
   "file_extension": ".py",
   "mimetype": "text/x-python",
   "name": "python",
   "nbconvert_exporter": "python",
   "pygments_lexer": "ipython3",
   "version": "3.11.5"
  }
 },
 "nbformat": 4,
 "nbformat_minor": 5
}
