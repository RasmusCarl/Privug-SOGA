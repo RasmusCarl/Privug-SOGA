{
 "cells": [
  {
   "cell_type": "code",
   "execution_count": 1,
   "id": "8a27c66c-cdbf-4de2-adcb-a72a4083617f",
   "metadata": {},
   "outputs": [],
   "source": [
    "import pandas as pd\n",
    "import numpy as np\n",
    "import re"
   ]
  },
  {
   "cell_type": "code",
   "execution_count": 39,
   "id": "f5f0be38-daca-4eb0-b696-07e057f33874",
   "metadata": {},
   "outputs": [
    {
     "name": "stdout",
     "output_type": "stream",
     "text": [
      "                             model     time    value   c  d\n",
      "0    soga_clinicaltrial_k=0.00725c   30.229  0.74395  45  5\n",
      "1       soga_clickgraph_k=0.00725c   55.139  0.62776  35  6\n",
      "2       soga_radarquery_k=0.00725c    2.256  6.03943  12  8\n",
      "3        soga_bernoulli_k=0.00725c    0.304  0.25689  15  2\n",
      "4      soga_clinicaltrial_k=0.015c   49.722  0.73963  89  5\n",
      "5         soga_clickgraph_k=0.015c  110.999  0.59750  69  6\n",
      "6         soga_radarquery_k=0.015c    3.771  5.75695  15  8\n",
      "7          soga_bernoulli_k=0.015c    0.562  0.25690  30  2\n",
      "8   soga_clinicaltrial_k=0.003625c    7.760  0.80058  23  5\n",
      "9      soga_clickgraph_k=0.003625c   31.689  0.61545  18  6\n",
      "10     soga_radarquery_k=0.003625c    1.259  5.70399   6  8\n",
      "11      soga_bernoulli_k=0.003625c    0.179  0.25683   8  2\n"
     ]
    }
   ],
   "source": [
    "df=pd.read_csv(\"./results/pruneSensitivity.csv\")\n",
    "print(df)\n",
    "trueValue=pd.read_csv(\"./results/PruneTrue.csv\")"
   ]
  },
  {
   "cell_type": "code",
   "execution_count": 28,
   "id": "5a6ac067-ef04-4618-924a-16a1303a0c45",
   "metadata": {},
   "outputs": [],
   "source": [
    "#print(list(set(df[\"model\"])))\n",
    "models=list(set(list(map(lambda x:x.split(\"_k=\")[0],list(set(df[\"model\"]))))))"
   ]
  },
  {
   "cell_type": "code",
   "execution_count": 55,
   "id": "6f69f28f-7ee5-4f87-a768-cda16e918712",
   "metadata": {},
   "outputs": [
    {
     "name": "stdout",
     "output_type": "stream",
     "text": [
      "Series([], )\\\\ bernoulli\n",
      "Series([], )\\\\ clickgraph\n",
      "Series([], )\\\\ clinicaltrial\n",
      "Series([], )\\\\ normalmixtures\n",
      "Series([], )\\\\ radarquery\n"
     ]
    },
    {
     "name": "stderr",
     "output_type": "stream",
     "text": [
      "/var/folders/th/tzthw0195kn8qkczx48fv6440000gn/T/ipykernel_57016/2452805745.py:7: FutureWarning: Series.__getitem__ treating keys as positions is deprecated. In a future version, integer keys will always be treated as labels (consistent with DataFrame behavior). To access a value by position, use `ser.iloc[pos]`\n",
      "  res=g.apply(lambda x:f\"{x[1]:02.2f} & {abs(gt-float(x[2]))*100/gt:02.2f}\",axis=1)\n",
      "/var/folders/th/tzthw0195kn8qkczx48fv6440000gn/T/ipykernel_57016/2452805745.py:7: FutureWarning: Series.__getitem__ treating keys as positions is deprecated. In a future version, integer keys will always be treated as labels (consistent with DataFrame behavior). To access a value by position, use `ser.iloc[pos]`\n",
      "  res=g.apply(lambda x:f\"{x[1]:02.2f} & {abs(gt-float(x[2]))*100/gt:02.2f}\",axis=1)\n",
      "/var/folders/th/tzthw0195kn8qkczx48fv6440000gn/T/ipykernel_57016/2452805745.py:7: FutureWarning: Series.__getitem__ treating keys as positions is deprecated. In a future version, integer keys will always be treated as labels (consistent with DataFrame behavior). To access a value by position, use `ser.iloc[pos]`\n",
      "  res=g.apply(lambda x:f\"{x[1]:02.2f} & {abs(gt-float(x[2]))*100/gt:02.2f}\",axis=1)\n",
      "/var/folders/th/tzthw0195kn8qkczx48fv6440000gn/T/ipykernel_57016/2452805745.py:7: FutureWarning: Series.__getitem__ treating keys as positions is deprecated. In a future version, integer keys will always be treated as labels (consistent with DataFrame behavior). To access a value by position, use `ser.iloc[pos]`\n",
      "  res=g.apply(lambda x:f\"{x[1]:02.2f} & {abs(gt-float(x[2]))*100/gt:02.2f}\",axis=1)\n",
      "/var/folders/th/tzthw0195kn8qkczx48fv6440000gn/T/ipykernel_57016/2452805745.py:7: FutureWarning: Series.__getitem__ treating keys as positions is deprecated. In a future version, integer keys will always be treated as labels (consistent with DataFrame behavior). To access a value by position, use `ser.iloc[pos]`\n",
      "  res=g.apply(lambda x:f\"{x[1]:02.2f} & {abs(gt-float(x[2]))*100/gt:02.2f}\",axis=1)\n"
     ]
    }
   ],
   "source": [
    "for m in trueValue[\"model\"].to_string(index=False).split(\"\\n\"):\n",
    "    m=m.strip()\n",
    "    gt=trueValue[trueValue[\"model\"]==m]\n",
    "    gt=gt[\"value\"].iloc[0]\n",
    "    g=df[df['model'].str.contains(m)].sort_values(by='model', ascending=False)\n",
    "    #print(g)\n",
    "    res=g.apply(lambda x:f\"{x[1]:02.2f} & {abs(gt-float(x[2]))*100/gt:02.2f}\",axis=1)\n",
    "    print(f\"& \".join(res.to_string(index=False).split(\"\\n\"))+f\"\\\\\\\\ {m}\")"
   ]
  },
  {
   "cell_type": "markdown",
   "id": "5a2108f5-cad0-4536-b216-cc49914e30ca",
   "metadata": {},
   "source": [
    "## Table2 Script"
   ]
  },
  {
   "cell_type": "code",
   "execution_count": 3,
   "id": "6fb1c283-e1f8-409a-ac15-d9e09c381530",
   "metadata": {},
   "outputs": [
    {
     "name": "stdout",
     "output_type": "stream",
     "text": [
      "          model   time    value  c  #vars     time.1   value.1\n",
      "1   timeseries1  0.460  0.99768  2      5   0.064969  0.946477\n",
      "6   timeseries2  0.464  2.04783  2      6   0.064945  2.120200\n",
      "5   timeseries3  9.697  1.99895  2      7   0.315755  1.921720\n",
      "8   timeseries4  0.470  2.36094  2      8   0.466254  2.211360\n",
      "7   timeseries5  0.465  2.87916  2      9   0.415579  2.667060\n",
      "4   timeseries6  0.488  2.77245  2     10   1.068535  2.493760\n",
      "9   timeseries7  0.494  3.94455  2     11   0.767444  4.042520\n",
      "3   timeseries8  1.626  3.24248  2     12  57.864188  3.264680\n",
      "0   timeseries9  0.512  3.21674  2     13   1.721472  2.690220\n",
      "2  timeseries10  0.524  3.18213  2     14   1.419830  2.750080\n"
     ]
    }
   ],
   "source": [
    "pd.options.display.max_colwidth = 100\n",
    "df=pd.read_csv(\"./results/varSensitivity.csv\").sort_values(by='#vars', ascending=True)\n",
    "print(df)"
   ]
  },
  {
   "cell_type": "code",
   "execution_count": 4,
   "id": "bc556bc7-7473-4a40-8aa4-73756b0a8b5f",
   "metadata": {},
   "outputs": [
    {
     "name": "stdout",
     "output_type": "stream",
     "text": [
      "    \\textsl{timeseries1}_{5} & 5 & 0.46 & 0.998 & 0.06 & 0.946 &5.41 \\\\\n",
      "    \\textsl{timeseries2}_{6} & 6 & 0.46 & 2.048 & 0.06 & 2.120 &3.41 \\\\\n",
      "    \\textsl{timeseries3}_{7} & 7 & 9.70 & 1.999 & 0.32 & 1.922 &4.02 \\\\\n",
      "    \\textsl{timeseries4}_{8} & 8 & 0.47 & 2.361 & 0.47 & 2.211 &6.76 \\\\\n",
      "    \\textsl{timeseries5}_{9} & 9 & 0.46 & 2.879 & 0.42 & 2.667 &7.95 \\\\\n",
      " \\textsl{timeseries6}_{10} & 10 & 0.49 & 2.772 & 1.07 & 2.494 &11.18 \\\\\n",
      "  \\textsl{timeseries7}_{11} & 11 & 0.49 & 3.945 & 0.77 & 4.043 &2.42 \\\\\n",
      " \\textsl{timeseries8}_{12} & 12 & 1.63 & 3.242 & 57.86 & 3.265 &0.68 \\\\\n",
      " \\textsl{timeseries9}_{13} & 13 & 0.51 & 3.217 & 1.72 & 2.690 &19.57 \\\\\n",
      "\\textsl{timeseries10}_{14} & 14 & 0.52 & 3.182 & 1.42 & 2.750 &15.71 \\\\\n"
     ]
    },
    {
     "name": "stderr",
     "output_type": "stream",
     "text": [
      "/var/folders/th/tzthw0195kn8qkczx48fv6440000gn/T/ipykernel_27745/3611883964.py:3: FutureWarning: Series.__getitem__ treating keys as positions is deprecated. In a future version, integer keys will always be treated as labels (consistent with DataFrame behavior). To access a value by position, use `ser.iloc[pos]`\n",
      "  res=df.apply(lambda x:f\"\\textsl{{{x[0]}}}_{{{x[4]}}} & {x[4]} & {np.round(x[1],2):.2f} & {np.round(x[2],3):.3f} & {np.round(x[5],2):.2f} & {np.round(x[6],3):.3f} &{np.round(np.abs(x[2]-x[6])*100/x[6],2)} \\\\\\\\\",axis=1)\n"
     ]
    }
   ],
   "source": [
    "#res=df.apply(lambda x:f\"\\textsl{{{x[0]}}}_{{{x[4]}}} & {x[1]} & {np.round(x[2],2):.2f} & {np.round(x[3],3):.3f} & {np.round(x[5],2):.2f} & {np.round(x[6],3):.3f} &  \\\\\\\\\",axis=1)\n",
    "#print(\"\\n\".join(res.to_string(index=False).split(\"\\n\")))\n",
    "res=df.apply(lambda x:f\"\\textsl{{{x[0]}}}_{{{x[4]}}} & {x[4]} & {np.round(x[1],2):.2f} & {np.round(x[2],3):.3f} & {np.round(x[5],2):.2f} & {np.round(x[6],3):.3f} &{np.round(np.abs(x[2]-x[6])*100/x[6],2)} \\\\\\\\\",axis=1)\n",
    "print(\"\\n\".join(res.to_string(index=False).split(\"\\n\")))"
   ]
  },
  {
   "cell_type": "markdown",
   "id": "3675bf93-7d83-4ee4-acc4-b3eb960192c8",
   "metadata": {},
   "source": [
    "## Table3 Script"
   ]
  },
  {
   "cell_type": "code",
   "execution_count": 41,
   "id": "d83e0137-0b00-4ccb-a6b9-ab76ff6da12b",
   "metadata": {},
   "outputs": [],
   "source": [
    "pd.options.display.max_colwidth = 1000\n",
    "df=pd.read_csv(\"./results/branchSensitivity.csv\").sort_values(by=[\"model\",\"c\"], ascending=True)"
   ]
  },
  {
   "cell_type": "code",
   "execution_count": 42,
   "id": "5600be42-fafb-4fd5-8279-5d192ca2e7e4",
   "metadata": {},
   "outputs": [
    {
     "name": "stdout",
     "output_type": "stream",
     "text": [
      "                           model    time  value        c    d\n",
      "37   soga_randomwalk1_continuous   0.673    0.0      2.0  1.0\n",
      "46   soga_randomwalk3_continuous   1.286    0.0      8.0  1.0\n",
      "36   soga_randomwalk5_continuous   1.725    0.0     32.0  1.0\n",
      "45   soga_randomwalk7_continuous   2.293    0.0    128.0  1.0\n",
      "32   soga_randomwalk9_continuous   3.201    0.0    512.0  1.0\n",
      "25  soga_randomwalk11_continuous   5.177    0.0   2048.0  1.0\n",
      "35  soga_randomwalk13_continuous  11.775    0.0   8192.0  1.0\n",
      "40  soga_randomwalk15_continuous  35.735    0.0  32768.0  1.0\n"
     ]
    },
    {
     "ename": "ValueError",
     "evalue": "Length mismatch: Expected 40 rows, received array of length 8",
     "output_type": "error",
     "traceback": [
      "\u001b[0;31m---------------------------------------------------------------------------\u001b[0m",
      "\u001b[0;31mValueError\u001b[0m                                Traceback (most recent call last)",
      "\u001b[0;32m/var/folders/th/tzthw0195kn8qkczx48fv6440000gn/T/ipykernel_9277/2248659078.py\u001b[0m in \u001b[0;36m?\u001b[0;34m()\u001b[0m\n\u001b[0;32m---> 10\u001b[0;31m \u001b[0;31m#df.apply(lambda x:f\"%s & {x[3]} & \"%(x[0].replace(re.findall(r\"[a-z]*(\\d+.*)\",x[0])[0],\"\")),axis=1)\u001b[0m\u001b[0;34m\u001b[0m\u001b[0;34m\u001b[0m\u001b[0;34m\u001b[0m\u001b[0m\n\u001b[0m\u001b[1;32m     11\u001b[0m \u001b[0mdf_cont\u001b[0m\u001b[0;34m=\u001b[0m\u001b[0mdf\u001b[0m\u001b[0;34m[\u001b[0m\u001b[0;34m(\u001b[0m\u001b[0mdf\u001b[0m\u001b[0;34m[\u001b[0m\u001b[0;34m\"model\"\u001b[0m\u001b[0;34m]\u001b[0m\u001b[0;34m.\u001b[0m\u001b[0mstr\u001b[0m\u001b[0;34m.\u001b[0m\u001b[0mcontains\u001b[0m\u001b[0;34m(\u001b[0m\u001b[0;34m\"continuous\"\u001b[0m\u001b[0;34m)\u001b[0m\u001b[0;34m)\u001b[0m \u001b[0;34m&\u001b[0m \u001b[0;34m(\u001b[0m\u001b[0mdf\u001b[0m\u001b[0;34m[\u001b[0m\u001b[0;34m\"model\"\u001b[0m\u001b[0;34m]\u001b[0m\u001b[0;34m.\u001b[0m\u001b[0mstr\u001b[0m\u001b[0;34m.\u001b[0m\u001b[0mcontains\u001b[0m\u001b[0;34m(\u001b[0m\u001b[0;34m\"soga\"\u001b[0m\u001b[0;34m)\u001b[0m\u001b[0;34m)\u001b[0m \u001b[0;34m&\u001b[0m \u001b[0;34m(\u001b[0m\u001b[0mdf\u001b[0m\u001b[0;34m[\u001b[0m\u001b[0;34m\"model\"\u001b[0m\u001b[0;34m]\u001b[0m\u001b[0;34m.\u001b[0m\u001b[0mstr\u001b[0m\u001b[0;34m.\u001b[0m\u001b[0mcontains\u001b[0m\u001b[0;34m(\u001b[0m\u001b[0;34m\"randomwalk\"\u001b[0m\u001b[0;34m)\u001b[0m\u001b[0;34m)\u001b[0m\u001b[0;34m]\u001b[0m\u001b[0;34m.\u001b[0m\u001b[0msort_values\u001b[0m\u001b[0;34m(\u001b[0m\u001b[0mby\u001b[0m\u001b[0;34m=\u001b[0m\u001b[0;34m[\u001b[0m\u001b[0;34m\"c\"\u001b[0m\u001b[0;34m]\u001b[0m\u001b[0;34m,\u001b[0m \u001b[0mascending\u001b[0m\u001b[0;34m=\u001b[0m\u001b[0;32mTrue\u001b[0m\u001b[0;34m)\u001b[0m\u001b[0;34m\u001b[0m\u001b[0;34m\u001b[0m\u001b[0m\n\u001b[1;32m     12\u001b[0m \u001b[0mprint\u001b[0m\u001b[0;34m(\u001b[0m\u001b[0mdf_cont\u001b[0m\u001b[0;34m)\u001b[0m\u001b[0;34m\u001b[0m\u001b[0;34m\u001b[0m\u001b[0m\n\u001b[1;32m     13\u001b[0m \u001b[0;31m#df_cont[\"#B\"]=df_cont[\"model\"].apply(lambda x:re.findall(r\"[a-zA-Z]+(\\d+).*\",x)[0])\u001b[0m\u001b[0;34m\u001b[0m\u001b[0;34m\u001b[0m\u001b[0;34m\u001b[0m\u001b[0m\n",
      "\u001b[0;32m~/Library/Python/3.9/lib/python/site-packages/pandas/core/frame.py\u001b[0m in \u001b[0;36m?\u001b[0;34m(self, keys, drop, append, inplace, verify_integrity)\u001b[0m\n\u001b[1;32m   5920\u001b[0m \u001b[0;34m\u001b[0m\u001b[0m\n\u001b[1;32m   5921\u001b[0m             \u001b[0;32mif\u001b[0m \u001b[0mlen\u001b[0m\u001b[0;34m(\u001b[0m\u001b[0marrays\u001b[0m\u001b[0;34m[\u001b[0m\u001b[0;34m-\u001b[0m\u001b[0;36m1\u001b[0m\u001b[0;34m]\u001b[0m\u001b[0;34m)\u001b[0m \u001b[0;34m!=\u001b[0m \u001b[0mlen\u001b[0m\u001b[0;34m(\u001b[0m\u001b[0mself\u001b[0m\u001b[0;34m)\u001b[0m\u001b[0;34m:\u001b[0m\u001b[0;34m\u001b[0m\u001b[0;34m\u001b[0m\u001b[0m\n\u001b[1;32m   5922\u001b[0m                 \u001b[0;31m# check newest element against length of calling frame, since\u001b[0m\u001b[0;34m\u001b[0m\u001b[0;34m\u001b[0m\u001b[0;34m\u001b[0m\u001b[0m\n\u001b[1;32m   5923\u001b[0m                 \u001b[0;31m# ensure_index_from_sequences would not raise for append=False.\u001b[0m\u001b[0;34m\u001b[0m\u001b[0;34m\u001b[0m\u001b[0;34m\u001b[0m\u001b[0m\n\u001b[0;32m-> 5924\u001b[0;31m                 raise ValueError(\n\u001b[0m\u001b[1;32m   5925\u001b[0m                     \u001b[0;34mf\"Length mismatch: Expected {len(self)} rows, \"\u001b[0m\u001b[0;34m\u001b[0m\u001b[0;34m\u001b[0m\u001b[0m\n\u001b[1;32m   5926\u001b[0m                     \u001b[0;34mf\"received array of length {len(arrays[-1])}\"\u001b[0m\u001b[0;34m\u001b[0m\u001b[0;34m\u001b[0m\u001b[0m\n\u001b[1;32m   5927\u001b[0m                 )\n",
      "\u001b[0;31mValueError\u001b[0m: Length mismatch: Expected 40 rows, received array of length 8"
     ]
    }
   ],
   "source": [
    "#df.apply(lambda x:f\"%s & {x[3]} & \"%(x[0].replace(re.findall(r\"[a-z]*(\\d+.*)\",x[0])[0],\"\")),axis=1)\n",
    "df_cont=df[(df[\"model\"].str.contains(\"continuous\")) & (df[\"model\"].str.contains(\"soga\")) & (df[\"model\"].str.contains(\"randomwalk\"))].sort_values(by=[\"c\"], ascending=True)\n",
    "print(df_cont)\n",
    "#df_cont[\"#B\"]=df_cont[\"model\"].apply(lambda x:re.findall(r\"[a-zA-Z]+(\\d+).*\",x)[0])\n",
    "df_cont[\"model\"]=df_cont[\"model\"].apply(lambda x:re.findall(r\"([a-zA-Z]+)\\d+.*\",x)[0])\n",
    "df_disc=df[df[\"model\"].str.contains(\"discrete\")].sort_values(by=[\"c\"], ascending=True)\n",
    "df_disc[\"#B\"]=df_disc[\"model\"].apply(lambda x:re.findall(r\"[a-zA-Z]+(\\d+).*\",x)[0])\n",
    "df_disc[\"model\"]=df_disc[\"model\"].apply(lambda x:re.findall(r\"([a-zA-Z]+)\\d+.*\",x)[0])\n",
    "df_cont=df_cont.set_index(pd.Index(range(8)))\n",
    "df_disc=df_disc.set_index(pd.Index(range(8)))\n",
    "res=pd.concat([df_cont,df_disc],axis=1,join=\"inner\")"
   ]
  },
  {
   "cell_type": "code",
   "execution_count": 39,
   "id": "5595f49f-8ff3-409d-a391-8195f815a3db",
   "metadata": {},
   "outputs": [
    {
     "data": {
      "text/html": [
       "<div>\n",
       "<style scoped>\n",
       "    .dataframe tbody tr th:only-of-type {\n",
       "        vertical-align: middle;\n",
       "    }\n",
       "\n",
       "    .dataframe tbody tr th {\n",
       "        vertical-align: top;\n",
       "    }\n",
       "\n",
       "    .dataframe thead th {\n",
       "        text-align: right;\n",
       "    }\n",
       "</style>\n",
       "<table border=\"1\" class=\"dataframe\">\n",
       "  <thead>\n",
       "    <tr style=\"text-align: right;\">\n",
       "      <th></th>\n",
       "      <th>model</th>\n",
       "      <th>time</th>\n",
       "      <th>value</th>\n",
       "      <th>c</th>\n",
       "      <th>d</th>\n",
       "    </tr>\n",
       "  </thead>\n",
       "  <tbody>\n",
       "    <tr>\n",
       "      <th>66</th>\n",
       "      <td>psi_bernoulli11_continuous</td>\n",
       "      <td>3.618854</td>\n",
       "      <td>0.307692</td>\n",
       "      <td>NaN</td>\n",
       "      <td>NaN</td>\n",
       "    </tr>\n",
       "    <tr>\n",
       "      <th>50</th>\n",
       "      <td>psi_bernoulli11_discrete</td>\n",
       "      <td>4.597262</td>\n",
       "      <td>0.750000</td>\n",
       "      <td>NaN</td>\n",
       "      <td>NaN</td>\n",
       "    </tr>\n",
       "    <tr>\n",
       "      <th>69</th>\n",
       "      <td>psi_bernoulli13_continuous</td>\n",
       "      <td>3.785758</td>\n",
       "      <td>0.333333</td>\n",
       "      <td>NaN</td>\n",
       "      <td>NaN</td>\n",
       "    </tr>\n",
       "    <tr>\n",
       "      <th>53</th>\n",
       "      <td>psi_bernoulli13_discrete</td>\n",
       "      <td>5.096273</td>\n",
       "      <td>0.750000</td>\n",
       "      <td>NaN</td>\n",
       "      <td>NaN</td>\n",
       "    </tr>\n",
       "    <tr>\n",
       "      <th>76</th>\n",
       "      <td>psi_bernoulli15_continuous</td>\n",
       "      <td>3.820925</td>\n",
       "      <td>0.352941</td>\n",
       "      <td>NaN</td>\n",
       "      <td>NaN</td>\n",
       "    </tr>\n",
       "    <tr>\n",
       "      <th>...</th>\n",
       "      <td>...</td>\n",
       "      <td>...</td>\n",
       "      <td>...</td>\n",
       "      <td>...</td>\n",
       "      <td>...</td>\n",
       "    </tr>\n",
       "    <tr>\n",
       "      <th>19</th>\n",
       "      <td>soga_surveyunbias5_discrete</td>\n",
       "      <td>1.411000</td>\n",
       "      <td>NaN</td>\n",
       "      <td>1.0</td>\n",
       "      <td>4.0</td>\n",
       "    </tr>\n",
       "    <tr>\n",
       "      <th>30</th>\n",
       "      <td>soga_surveyunbias7_continuous</td>\n",
       "      <td>4.598000</td>\n",
       "      <td>NaN</td>\n",
       "      <td>511.0</td>\n",
       "      <td>4.0</td>\n",
       "    </tr>\n",
       "    <tr>\n",
       "      <th>7</th>\n",
       "      <td>soga_surveyunbias7_discrete</td>\n",
       "      <td>1.870000</td>\n",
       "      <td>NaN</td>\n",
       "      <td>1.0</td>\n",
       "      <td>4.0</td>\n",
       "    </tr>\n",
       "    <tr>\n",
       "      <th>27</th>\n",
       "      <td>soga_surveyunbias9_continuous</td>\n",
       "      <td>10.455000</td>\n",
       "      <td>NaN</td>\n",
       "      <td>1948.0</td>\n",
       "      <td>4.0</td>\n",
       "    </tr>\n",
       "    <tr>\n",
       "      <th>4</th>\n",
       "      <td>soga_surveyunbias9_discrete</td>\n",
       "      <td>2.286000</td>\n",
       "      <td>NaN</td>\n",
       "      <td>1.0</td>\n",
       "      <td>4.0</td>\n",
       "    </tr>\n",
       "  </tbody>\n",
       "</table>\n",
       "<p>79 rows × 5 columns</p>\n",
       "</div>"
      ],
      "text/plain": [
       "                            model       time     value       c    d\n",
       "66     psi_bernoulli11_continuous   3.618854  0.307692     NaN  NaN\n",
       "50       psi_bernoulli11_discrete   4.597262  0.750000     NaN  NaN\n",
       "69     psi_bernoulli13_continuous   3.785758  0.333333     NaN  NaN\n",
       "53       psi_bernoulli13_discrete   5.096273  0.750000     NaN  NaN\n",
       "76     psi_bernoulli15_continuous   3.820925  0.352941     NaN  NaN\n",
       "..                            ...        ...       ...     ...  ...\n",
       "19    soga_surveyunbias5_discrete   1.411000       NaN     1.0  4.0\n",
       "30  soga_surveyunbias7_continuous   4.598000       NaN   511.0  4.0\n",
       "7     soga_surveyunbias7_discrete   1.870000       NaN     1.0  4.0\n",
       "27  soga_surveyunbias9_continuous  10.455000       NaN  1948.0  4.0\n",
       "4     soga_surveyunbias9_discrete   2.286000       NaN     1.0  4.0\n",
       "\n",
       "[79 rows x 5 columns]"
      ]
     },
     "execution_count": 39,
     "metadata": {},
     "output_type": "execute_result"
    }
   ],
   "source": [
    "df"
   ]
  },
  {
   "cell_type": "code",
   "execution_count": 306,
   "id": "33c12165-71cd-417c-b9f4-62ab9b766425",
   "metadata": {},
   "outputs": [
    {
     "name": "stdout",
     "output_type": "stream",
     "text": [
      "      randomwalk_{1} & 0.01 & 0.00 & 2 & 1 \\\\\n",
      "      randomwalk_{2} & 0.01 & 0.01 & 8 & 3 \\\\\n",
      "     randomwalk_{3} & 0.03 & 0.01 & 32 & 5 \\\\\n",
      "    randomwalk_{4} & 0.12 & 0.02 & 128 & 7 \\\\\n",
      "    randomwalk_{5} & 0.55 & 0.07 & 512 & 9 \\\\\n",
      "  randomwalk_{6} & 1.65 & 0.29 & 2048 & 11 \\\\\n",
      "  randomwalk_{7} & 5.76 & 0.98 & 8192 & 13 \\\\\n",
      "randomwalk_{8} & 22.27 & 3.66 & 32768 & 15 \\\\\n"
     ]
    },
    {
     "name": "stderr",
     "output_type": "stream",
     "text": [
      "/var/folders/th/tzthw0195kn8qkczx48fv6440000gn/T/ipykernel_55793/4033885654.py:1: FutureWarning: Series.__getitem__ treating keys as positions is deprecated. In a future version, integer keys will always be treated as labels (consistent with DataFrame behavior). To access a value by position, use `ser.iloc[pos]`\n",
      "  res2=res.apply(lambda x:f\"{x[0]}_{{{x.name+1}}} & {np.round(x[1],2):.2f} & {np.round(x[8],2):.2f} & {int(x[10])} & {int(int(x[14]))} \\\\\\\\\",axis=1)\n"
     ]
    }
   ],
   "source": [
    "res2=res.apply(lambda x:f\"{x[0]}_{{{x.name+1}}} & {np.round(x[1],2):.2f} & {np.round(x[8],2):.2f} & {int(x[10])} & {int(int(x[14]))} \\\\\\\\\",axis=1)\n",
    "print(res2.to_string(index=False))"
   ]
  },
  {
   "cell_type": "markdown",
   "id": "99106eae-a97f-4e25-90e7-b22777d4a3a9",
   "metadata": {},
   "source": [
    "## Table4 Script"
   ]
  },
  {
   "cell_type": "code",
   "execution_count": 69,
   "id": "aa69762d-928f-4324-854c-e5605be1c922",
   "metadata": {},
   "outputs": [],
   "source": [
    "df=pd.read_csv(\"./results/cmpSensitivity_soga.csv\").sort_values(by=[\"model\",\"c\"], ascending=True)\n",
    "df_true=pd.read_csv(\"./results/cmpSensitivity_true.csv\").sort_values(by=[\"model\"], ascending=True)"
   ]
  },
  {
   "cell_type": "code",
   "execution_count": 80,
   "id": "bee329c6-4faa-432c-b0aa-76fcbf708f3c",
   "metadata": {},
   "outputs": [],
   "source": [
    "data=df[~df[\"model\"].str.contains(\"radarquery\")]\n",
    "data_tru=df_true[~df_true[\"model\"].str.contains(\"radarquery\")]"
   ]
  },
  {
   "cell_type": "code",
   "execution_count": 120,
   "id": "0845293a-00f2-42a4-a707-6837db954ce2",
   "metadata": {},
   "outputs": [
    {
     "name": "stdout",
     "output_type": "stream",
     "text": [
      "coinbias\n",
      "[2.73 2.19 0.1  0.02]\n",
      "surveyunbias\n",
      "[0.32 0.06 0.02 0.01]\n"
     ]
    }
   ],
   "source": [
    "for m in data_tru[\"model\"]:\n",
    "   print(m)\n",
    "   gt=float(data_tru[data_tru[\"model\"]==m].iloc[0][\"value\"])\n",
    "   e=abs((np.array(list(map(float,data[data[\"model\"].str.contains(m)][\"value\"].to_numpy())))-gt))*100/gt\n",
    "   print(np.round(e,2))"
   ]
  },
  {
   "cell_type": "code",
   "execution_count": null,
   "id": "ffdf8652-167b-41cc-b87e-d8be298b123a",
   "metadata": {},
   "outputs": [],
   "source": []
  },
  {
   "cell_type": "code",
   "execution_count": null,
   "id": "c71b41c1-85f9-4df0-9cb6-1e8d7690f791",
   "metadata": {},
   "outputs": [],
   "source": []
  }
 ],
 "metadata": {
  "kernelspec": {
   "display_name": "Python 3 (ipykernel)",
   "language": "python",
   "name": "python3"
  },
  "language_info": {
   "codemirror_mode": {
    "name": "ipython",
    "version": 3
   },
   "file_extension": ".py",
   "mimetype": "text/x-python",
   "name": "python",
   "nbconvert_exporter": "python",
   "pygments_lexer": "ipython3",
   "version": "3.9.6"
  }
 },
 "nbformat": 4,
 "nbformat_minor": 5
}
