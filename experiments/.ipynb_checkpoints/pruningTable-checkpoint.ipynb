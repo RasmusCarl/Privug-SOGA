{
 "cells": [
  {
   "cell_type": "code",
   "execution_count": 182,
   "id": "8a27c66c-cdbf-4de2-adcb-a72a4083617f",
   "metadata": {},
   "outputs": [],
   "source": [
    "import pandas as pd\n",
    "import numpy as np"
   ]
  },
  {
   "cell_type": "code",
   "execution_count": 183,
   "id": "f5f0be38-daca-4eb0-b696-07e057f33874",
   "metadata": {},
   "outputs": [],
   "source": [
    "df=pd.read_csv(\"./results/pruneSensitivity.csv\")\n",
    "trueValue=pd.read_csv(\"./results/PruneTrue.csv\")"
   ]
  },
  {
   "cell_type": "code",
   "execution_count": 184,
   "id": "5a6ac067-ef04-4618-924a-16a1303a0c45",
   "metadata": {},
   "outputs": [
    {
     "name": "stdout",
     "output_type": "stream",
     "text": [
      "['normalmixtures', 'radarquery', 'clickgraph', 'bernoulli', 'clinicaltrial']\n"
     ]
    }
   ],
   "source": [
    "models=list(set(list(map(lambda x:x.split(\"_K=\")[0],list(set(df[\"model\"]))))))\n",
    "print(models)"
   ]
  },
  {
   "cell_type": "code",
   "execution_count": 193,
   "id": "6f69f28f-7ee5-4f87-a768-cda16e918712",
   "metadata": {},
   "outputs": [
    {
     "name": "stdout",
     "output_type": "stream",
     "text": [
      "bernoulli\n",
      "Series([], )\\\\\n",
      "clickgraph\n",
      "Series([], )\\\\\n",
      "clinicaltrial\n",
      "Series([], )\\\\\n",
      "normalmixtures\n",
      "Series([], )\\\\\n",
      "radarquery\n",
      "Series([], )\\\\\n"
     ]
    }
   ],
   "source": [
    "#for m in models:\n",
    "for m in trueValue[\"model\"].to_string(index=False).split(\"\\n\"):\n",
    "    m=m.strip()\n",
    "    print(m)\n",
    "    gt=trueValue[trueValue[\"model\"]==m]\n",
    "    gt=gt[\"value\"].iloc[0]\n",
    "    g=df[df['model'].str.contains(m)].sort_values(by='model', ascending=False)\n",
    "    #print(g)\n",
    "    res=g.apply(lambda x:f\"{x[1]:02.2f} & {(abs(gt-float(x[2]))):02.4f}\",axis=1)\n",
    "    print(\" & \".join(res.to_string(index=False).split(\"\\n\"))+\"\\\\\\\\\")"
   ]
  },
  {
   "cell_type": "markdown",
   "id": "5a2108f5-cad0-4536-b216-cc49914e30ca",
   "metadata": {},
   "source": [
    "## Table2 Script"
   ]
  },
  {
   "cell_type": "code",
   "execution_count": 199,
   "id": "6fb1c283-e1f8-409a-ac15-d9e09c381530",
   "metadata": {},
   "outputs": [],
   "source": [
    "df=pd.read_csv(\"./results/varSensitivity.csv\").sort_values(by='#vars', ascending=True)"
   ]
  },
  {
   "cell_type": "code",
   "execution_count": 197,
   "id": "bc556bc7-7473-4a40-8aa4-73756b0a8b5f",
   "metadata": {},
   "outputs": [
    {
     "data": {
      "text/html": [
       "<div>\n",
       "<style scoped>\n",
       "    .dataframe tbody tr th:only-of-type {\n",
       "        vertical-align: middle;\n",
       "    }\n",
       "\n",
       "    .dataframe tbody tr th {\n",
       "        vertical-align: top;\n",
       "    }\n",
       "\n",
       "    .dataframe thead th {\n",
       "        text-align: right;\n",
       "    }\n",
       "</style>\n",
       "<table border=\"1\" class=\"dataframe\">\n",
       "  <thead>\n",
       "    <tr style=\"text-align: right;\">\n",
       "      <th></th>\n",
       "      <th>model</th>\n",
       "      <th>#vars</th>\n",
       "      <th>time</th>\n",
       "      <th>value</th>\n",
       "      <th>time.1</th>\n",
       "      <th>value.1</th>\n",
       "    </tr>\n",
       "  </thead>\n",
       "  <tbody>\n",
       "    <tr>\n",
       "      <th>0</th>\n",
       "      <td>timeseries</td>\n",
       "      <td>9</td>\n",
       "      <td>47.393739</td>\n",
       "      <td>3.21674</td>\n",
       "      <td>33.490190</td>\n",
       "      <td>2.042000</td>\n",
       "    </tr>\n",
       "    <tr>\n",
       "      <th>1</th>\n",
       "      <td>timeseries</td>\n",
       "      <td>5</td>\n",
       "      <td>1.095640</td>\n",
       "      <td>2.87916</td>\n",
       "      <td>2.657117</td>\n",
       "      <td>2.853560</td>\n",
       "    </tr>\n",
       "    <tr>\n",
       "      <th>2</th>\n",
       "      <td>timeseries</td>\n",
       "      <td>4</td>\n",
       "      <td>0.351582</td>\n",
       "      <td>2.36094</td>\n",
       "      <td>18.148425</td>\n",
       "      <td>2.021210</td>\n",
       "    </tr>\n",
       "    <tr>\n",
       "      <th>3</th>\n",
       "      <td>timeseries</td>\n",
       "      <td>8</td>\n",
       "      <td>23.790447</td>\n",
       "      <td>3.24248</td>\n",
       "      <td>26.963656</td>\n",
       "      <td>2.233850</td>\n",
       "    </tr>\n",
       "    <tr>\n",
       "      <th>4</th>\n",
       "      <td>timeseries</td>\n",
       "      <td>10</td>\n",
       "      <td>104.350614</td>\n",
       "      <td>3.18213</td>\n",
       "      <td>137.610735</td>\n",
       "      <td>2.423190</td>\n",
       "    </tr>\n",
       "    <tr>\n",
       "      <th>5</th>\n",
       "      <td>timeseries</td>\n",
       "      <td>3</td>\n",
       "      <td>0.121147</td>\n",
       "      <td>1.99895</td>\n",
       "      <td>1.867647</td>\n",
       "      <td>1.149960</td>\n",
       "    </tr>\n",
       "    <tr>\n",
       "      <th>6</th>\n",
       "      <td>timeseries</td>\n",
       "      <td>2</td>\n",
       "      <td>0.044502</td>\n",
       "      <td>2.04783</td>\n",
       "      <td>5.604770</td>\n",
       "      <td>2.038800</td>\n",
       "    </tr>\n",
       "    <tr>\n",
       "      <th>7</th>\n",
       "      <td>timeseries</td>\n",
       "      <td>1</td>\n",
       "      <td>0.017614</td>\n",
       "      <td>0.99768</td>\n",
       "      <td>4.157893</td>\n",
       "      <td>0.998945</td>\n",
       "    </tr>\n",
       "    <tr>\n",
       "      <th>8</th>\n",
       "      <td>timeseries</td>\n",
       "      <td>7</td>\n",
       "      <td>9.725728</td>\n",
       "      <td>3.94455</td>\n",
       "      <td>6.847132</td>\n",
       "      <td>4.206410</td>\n",
       "    </tr>\n",
       "    <tr>\n",
       "      <th>9</th>\n",
       "      <td>timeseries</td>\n",
       "      <td>6</td>\n",
       "      <td>3.352383</td>\n",
       "      <td>2.77245</td>\n",
       "      <td>24.069553</td>\n",
       "      <td>2.011210</td>\n",
       "    </tr>\n",
       "  </tbody>\n",
       "</table>\n",
       "</div>"
      ],
      "text/plain": [
       "        model  #vars        time    value      time.1   value.1\n",
       "0  timeseries      9   47.393739  3.21674   33.490190  2.042000\n",
       "1  timeseries      5    1.095640  2.87916    2.657117  2.853560\n",
       "2  timeseries      4    0.351582  2.36094   18.148425  2.021210\n",
       "3  timeseries      8   23.790447  3.24248   26.963656  2.233850\n",
       "4  timeseries     10  104.350614  3.18213  137.610735  2.423190\n",
       "5  timeseries      3    0.121147  1.99895    1.867647  1.149960\n",
       "6  timeseries      2    0.044502  2.04783    5.604770  2.038800\n",
       "7  timeseries      1    0.017614  0.99768    4.157893  0.998945\n",
       "8  timeseries      7    9.725728  3.94455    6.847132  4.206410\n",
       "9  timeseries      6    3.352383  2.77245   24.069553  2.011210"
      ]
     },
     "execution_count": 197,
     "metadata": {},
     "output_type": "execute_result"
    }
   ],
   "source": [
    "df"
   ]
  },
  {
   "cell_type": "code",
   "execution_count": null,
   "id": "b6b1fc6c-143b-414e-984a-59ab0fc3703b",
   "metadata": {},
   "outputs": [],
   "source": []
  }
 ],
 "metadata": {
  "kernelspec": {
   "display_name": "Python 3 (ipykernel)",
   "language": "python",
   "name": "python3"
  },
  "language_info": {
   "codemirror_mode": {
    "name": "ipython",
    "version": 3
   },
   "file_extension": ".py",
   "mimetype": "text/x-python",
   "name": "python",
   "nbconvert_exporter": "python",
   "pygments_lexer": "ipython3",
   "version": "3.9.6"
  }
 },
 "nbformat": 4,
 "nbformat_minor": 5
}
