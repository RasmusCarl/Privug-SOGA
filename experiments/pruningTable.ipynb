{
 "cells": [
  {
   "cell_type": "code",
   "execution_count": 155,
   "id": "8a27c66c-cdbf-4de2-adcb-a72a4083617f",
   "metadata": {},
   "outputs": [],
   "source": [
    "import pandas as pd\n",
    "import numpy as np"
   ]
  },
  {
   "cell_type": "code",
   "execution_count": 156,
   "id": "f5f0be38-daca-4eb0-b696-07e057f33874",
   "metadata": {},
   "outputs": [],
   "source": [
    "df=pd.read_csv(\"./results/pruneSensitivity.csv\")\n",
    "trueValue=pd.read_csv(\"./results/PruneTrue.csv\")"
   ]
  },
  {
   "cell_type": "code",
   "execution_count": 157,
   "id": "5a6ac067-ef04-4618-924a-16a1303a0c45",
   "metadata": {},
   "outputs": [],
   "source": [
    "models=list(set(list(map(lambda x:x.split(\"_K=\")[0],list(set(df[\"model\"]))))))"
   ]
  },
  {
   "cell_type": "code",
   "execution_count": 158,
   "id": "6f69f28f-7ee5-4f87-a768-cda16e918712",
   "metadata": {},
   "outputs": [
    {
     "name": "stdout",
     "output_type": "stream",
     "text": [
      "0.60 & 0.0069 & 0.34 & 0.0069 & 0.19 & 0.0068\\\\ bernoulli\n",
      "61.39 & 0.0138 & 33.57 & 0.0015 & 13.19 & 0.0464\\\\ clickgraph\n",
      "8.36 & 0.0456 & 3.74 & 0.0014 & 9.68 & 0.0016\\\\ clinicaltrial\n",
      "31.61 & 0.1058 & 14.52 & 0.2936 &  6.35 & 0.0791\\\\ normalmixtures\n",
      "1.19 & 0.5532 & 0.34 & 0.4089 & 0.31 & 0.5265\\\\ radarquery\n"
     ]
    }
   ],
   "source": [
    "#for m in models:\n",
    "for m in trueValue[\"model\"].to_string(index=False).split(\"\\n\"):\n",
    "    m=m.strip()\n",
    "    gt=trueValue[trueValue[\"model\"]==m]\n",
    "    gt=gt[\"value\"].iloc[0]\n",
    "    g=df[df['model'].str.contains(m)].sort_values(by='model', ascending=False)\n",
    "    res=g.apply(lambda x:f\"{x[1]:02.2f} & {(abs(gt-x[2])):02.4f}\",axis=1)\n",
    "    print(\" & \".join(res.to_string(index=False).split(\"\\n\"))+\"\\\\\\\\ \"+m)"
   ]
  },
  {
   "cell_type": "code",
   "execution_count": null,
   "id": "af15e583-f8d6-47ab-bd24-3f7f0bf1f4fb",
   "metadata": {},
   "outputs": [],
   "source": []
  }
 ],
 "metadata": {
  "kernelspec": {
   "display_name": "Python 3 (ipykernel)",
   "language": "python",
   "name": "python3"
  },
  "language_info": {
   "codemirror_mode": {
    "name": "ipython",
    "version": 3
   },
   "file_extension": ".py",
   "mimetype": "text/x-python",
   "name": "python",
   "nbconvert_exporter": "python",
   "pygments_lexer": "ipython3",
   "version": "3.9.6"
  }
 },
 "nbformat": 4,
 "nbformat_minor": 5
}
