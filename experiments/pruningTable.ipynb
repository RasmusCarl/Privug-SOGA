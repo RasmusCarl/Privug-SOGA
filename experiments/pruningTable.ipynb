{
 "cells": [
  {
   "cell_type": "code",
   "execution_count": 182,
   "id": "8a27c66c-cdbf-4de2-adcb-a72a4083617f",
   "metadata": {},
   "outputs": [],
   "source": [
    "import pandas as pd\n",
    "import numpy as np"
   ]
  },
  {
   "cell_type": "code",
   "execution_count": 183,
   "id": "f5f0be38-daca-4eb0-b696-07e057f33874",
   "metadata": {},
   "outputs": [],
   "source": [
    "df=pd.read_csv(\"./results/pruneSensitivity.csv\")\n",
    "trueValue=pd.read_csv(\"./results/PruneTrue.csv\")"
   ]
  },
  {
   "cell_type": "code",
   "execution_count": 184,
   "id": "5a6ac067-ef04-4618-924a-16a1303a0c45",
   "metadata": {},
   "outputs": [
    {
     "name": "stdout",
     "output_type": "stream",
     "text": [
      "['normalmixtures', 'radarquery', 'clickgraph', 'bernoulli', 'clinicaltrial']\n"
     ]
    }
   ],
   "source": [
    "models=list(set(list(map(lambda x:x.split(\"_K=\")[0],list(set(df[\"model\"]))))))\n",
    "print(models)"
   ]
  },
  {
   "cell_type": "code",
   "execution_count": 193,
   "id": "6f69f28f-7ee5-4f87-a768-cda16e918712",
   "metadata": {},
   "outputs": [
    {
     "name": "stdout",
     "output_type": "stream",
     "text": [
      "bernoulli\n",
      "Series([], )\\\\\n",
      "clickgraph\n",
      "Series([], )\\\\\n",
      "clinicaltrial\n",
      "Series([], )\\\\\n",
      "normalmixtures\n",
      "Series([], )\\\\\n",
      "radarquery\n",
      "Series([], )\\\\\n"
     ]
    }
   ],
   "source": [
    "#for m in models:\n",
    "for m in trueValue[\"model\"].to_string(index=False).split(\"\\n\"):\n",
    "    m=m.strip()\n",
    "    print(m)\n",
    "    gt=trueValue[trueValue[\"model\"]==m]\n",
    "    gt=gt[\"value\"].iloc[0]\n",
    "    g=df[df['model'].str.contains(m)].sort_values(by='model', ascending=False)\n",
    "    #print(g)\n",
    "    res=g.apply(lambda x:f\"{x[1]:02.2f} & {(abs(gt-float(x[2]))):02.4f}\",axis=1)\n",
    "    print(\" & \".join(res.to_string(index=False).split(\"\\n\"))+\"\\\\\\\\\")"
   ]
  },
  {
   "cell_type": "markdown",
   "id": "5a2108f5-cad0-4536-b216-cc49914e30ca",
   "metadata": {},
   "source": [
    "## Table2 Script"
   ]
  },
  {
   "cell_type": "code",
   "execution_count": 249,
   "id": "6fb1c283-e1f8-409a-ac15-d9e09c381530",
   "metadata": {},
   "outputs": [],
   "source": [
    "pd.options.display.max_colwidth = 100\n",
    "df=pd.read_csv(\"./results/varSensitivity.csv\").sort_values(by='#vars', ascending=True)"
   ]
  },
  {
   "cell_type": "code",
   "execution_count": 256,
   "id": "bc556bc7-7473-4a40-8aa4-73756b0a8b5f",
   "metadata": {},
   "outputs": [
    {
     "name": "stdout",
     "output_type": "stream",
     "text": [
      "     \\textsl{timeseries} & 2 & 0.018 & 0.998 & 4.158 & 0.999 \\\\\n",
      "     \\textsl{timeseries} & 3 & 0.045 & 2.048 & 5.605 & 2.039 \\\\\n",
      "      \\textsl{timeseries} & 4 & 0.121 & 1.999 & 1.868 & 1.15 \\\\\n",
      "    \\textsl{timeseries} & 5 & 0.352 & 2.361 & 18.148 & 2.021 \\\\\n",
      "     \\textsl{timeseries} & 6 & 1.096 & 2.879 & 2.657 & 2.854 \\\\\n",
      "     \\textsl{timeseries} & 7 & 3.352 & 2.772 & 24.07 & 2.011 \\\\\n",
      "     \\textsl{timeseries} & 8 & 9.726 & 3.945 & 6.847 & 4.206 \\\\\n",
      "    \\textsl{timeseries} & 9 & 23.79 & 3.242 & 26.964 & 2.234 \\\\\n",
      "   \\textsl{timeseries} & 10 & 47.394 & 3.217 & 33.49 & 2.042 \\\\\n",
      "\\textsl{timeseries} & 11 & 104.351 & 3.182 & 137.611 & 2.423 \\\\\n"
     ]
    }
   ],
   "source": [
    "res=df.apply(lambda x:f\"\\textsl{{{x[0]}}} & {x[1]+1} & {np.round(x[2],3)} & {np.round(x[3],3)} & {np.round(x[4],3)} & {np.round(x[5],3)} \\\\\\\\\",axis=1)\n",
    "print(\"\\n\".join(res.to_string(index=False).split(\"\\n\")))"
   ]
  },
  {
   "cell_type": "code",
   "execution_count": null,
   "id": "b6b1fc6c-143b-414e-984a-59ab0fc3703b",
   "metadata": {},
   "outputs": [],
   "source": []
  },
  {
   "cell_type": "code",
   "execution_count": null,
   "id": "2be31d79-0066-4adb-920f-a87ef0e01e60",
   "metadata": {},
   "outputs": [],
   "source": []
  }
 ],
 "metadata": {
  "kernelspec": {
   "display_name": "Python 3 (ipykernel)",
   "language": "python",
   "name": "python3"
  },
  "language_info": {
   "codemirror_mode": {
    "name": "ipython",
    "version": 3
   },
   "file_extension": ".py",
   "mimetype": "text/x-python",
   "name": "python",
   "nbconvert_exporter": "python",
   "pygments_lexer": "ipython3",
   "version": "3.9.6"
  }
 },
 "nbformat": 4,
 "nbformat_minor": 5
}
